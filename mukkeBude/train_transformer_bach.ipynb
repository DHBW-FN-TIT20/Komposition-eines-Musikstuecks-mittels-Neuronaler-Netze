{
 "cells": [
  {
   "cell_type": "code",
   "execution_count": 1,
   "metadata": {},
   "outputs": [],
   "source": [
    "# Disable tensorflow warnings\n",
    "import os\n",
    "os.environ['TF_CPP_MIN_LOG_LEVEL'] = '2'\n",
    "\n",
    "# 0 = all messages are logged (default behavior)\n",
    "# 1 = INFO messages are not printed\n",
    "# 2 = INFO and WARNING messages are not printed\n",
    "# 3 = INFO, WARNING, and ERROR messages are not printed"
   ]
  },
  {
   "cell_type": "code",
   "execution_count": 2,
   "metadata": {},
   "outputs": [
    {
     "name": "stdout",
     "output_type": "stream",
     "text": [
      "[]\n"
     ]
    }
   ],
   "source": [
    "from model import MukkeBudeTransformer\n",
    "from mapping import MusicMapping\n",
    "import utils\n",
    "import music21 as m21\n",
    "import tensorflow as tf\n",
    "import numpy as np\n",
    "from pathlib import Path\n",
    "\n",
    "# Check if GPU is found\n",
    "print(tf.config.list_physical_devices('GPU'))"
   ]
  },
  {
   "cell_type": "code",
   "execution_count": 3,
   "metadata": {},
   "outputs": [],
   "source": [
    "# Create mappings\n",
    "mapping = MusicMapping.create()\n",
    "mapping.save(\"mapping.txt\")"
   ]
  },
  {
   "cell_type": "code",
   "execution_count": 4,
   "metadata": {},
   "outputs": [
    {
     "name": "stdout",
     "output_type": "stream",
     "text": [
      "Found 433 songs in corpus.\n"
     ]
    },
    {
     "name": "stderr",
     "output_type": "stream",
     "text": [
      "d:\\Projekte\\Python\\Tensorflow\\Komposition-eines-Musikstuecks-mittels-Neuronaler-Netze\\mukkeBude\\utils.py:137: StreamIteratorInefficientWarning: highestTime is not defined on StreamIterators. Call .stream() first for efficiency\n",
      "  song.flat.getElementsByClass(\"Note\").highestTime,\n",
      "d:\\Projekte\\Python\\Tensorflow\\Komposition-eines-Musikstuecks-mittels-Neuronaler-Netze\\mukkeBude\\utils.py:138: StreamIteratorInefficientWarning: highestTime is not defined on StreamIterators. Call .stream() first for efficiency\n",
      "  song.flat.getElementsByClass(\"Chord\").highestTime,\n",
      "d:\\Projekte\\Python\\Tensorflow\\Komposition-eines-Musikstuecks-mittels-Neuronaler-Netze\\mukkeBude\\utils.py:137: StreamIteratorInefficientWarning: highestTime is not defined on StreamIterators. Call .stream() first for efficiency\n",
      "  song.flat.getElementsByClass(\"Note\").highestTime,\n",
      "d:\\Projekte\\Python\\Tensorflow\\Komposition-eines-Musikstuecks-mittels-Neuronaler-Netze\\mukkeBude\\utils.py:138: StreamIteratorInefficientWarning: highestTime is not defined on StreamIterators. Call .stream() first for efficiency\n",
      "  song.flat.getElementsByClass(\"Chord\").highestTime,\n",
      "In d:\\Projekte\\Python\\Tensorflow\\Komposition-eines-Musikstuecks-mittels-Neuronaler-Netze\\.venv\\lib\\site-packages\\matplotlib\\mpl-data\\stylelib\\dark_background.mplstyle: highestTime is not defined on StreamIterators. Call .stream() first for efficiency\n",
      "In d:\\Projekte\\Python\\Tensorflow\\Komposition-eines-Musikstuecks-mittels-Neuronaler-Netze\\.venv\\lib\\site-packages\\matplotlib\\mpl-data\\stylelib\\dark_background.mplstyle: highestTime is not defined on StreamIterators. Call .stream() first for efficiency\n",
      "In d:\\Projekte\\Python\\Tensorflow\\Komposition-eines-Musikstuecks-mittels-Neuronaler-Netze\\.venv\\lib\\site-packages\\matplotlib\\mpl-data\\stylelib\\grayscale.mplstyle: highestTime is not defined on StreamIterators. Call .stream() first for efficiency\n",
      "In d:\\Projekte\\Python\\Tensorflow\\Komposition-eines-Musikstuecks-mittels-Neuronaler-Netze\\.venv\\lib\\site-packages\\matplotlib\\mpl-data\\stylelib\\grayscale.mplstyle: highestTime is not defined on StreamIterators. Call .stream() first for efficiency\n",
      "In d:\\Projekte\\Python\\Tensorflow\\Komposition-eines-Musikstuecks-mittels-Neuronaler-Netze\\.venv\\lib\\site-packages\\matplotlib\\mpl-data\\stylelib\\seaborn-v0_8-dark.mplstyle: highestTime is not defined on StreamIterators. Call .stream() first for efficiency\n",
      "In d:\\Projekte\\Python\\Tensorflow\\Komposition-eines-Musikstuecks-mittels-Neuronaler-Netze\\.venv\\lib\\site-packages\\matplotlib\\mpl-data\\stylelib\\seaborn-v0_8-dark.mplstyle: highestTime is not defined on StreamIterators. Call .stream() first for efficiency\n",
      "In d:\\Projekte\\Python\\Tensorflow\\Komposition-eines-Musikstuecks-mittels-Neuronaler-Netze\\.venv\\lib\\site-packages\\matplotlib\\mpl-data\\stylelib\\seaborn-v0_8-notebook.mplstyle: highestTime is not defined on StreamIterators. Call .stream() first for efficiency\n",
      "In d:\\Projekte\\Python\\Tensorflow\\Komposition-eines-Musikstuecks-mittels-Neuronaler-Netze\\.venv\\lib\\site-packages\\matplotlib\\mpl-data\\stylelib\\seaborn-v0_8-notebook.mplstyle: highestTime is not defined on StreamIterators. Call .stream() first for efficiency\n",
      "In d:\\Projekte\\Python\\Tensorflow\\Komposition-eines-Musikstuecks-mittels-Neuronaler-Netze\\.venv\\lib\\site-packages\\matplotlib\\mpl-data\\stylelib\\seaborn-v0_8-talk.mplstyle: highestTime is not defined on StreamIterators. Call .stream() first for efficiency\n",
      "In d:\\Projekte\\Python\\Tensorflow\\Komposition-eines-Musikstuecks-mittels-Neuronaler-Netze\\.venv\\lib\\site-packages\\matplotlib\\mpl-data\\stylelib\\seaborn-v0_8-talk.mplstyle: highestTime is not defined on StreamIterators. Call .stream() first for efficiency\n",
      "In d:\\Projekte\\Python\\Tensorflow\\Komposition-eines-Musikstuecks-mittels-Neuronaler-Netze\\.venv\\lib\\site-packages\\matplotlib\\mpl-data\\stylelib\\seaborn-v0_8.mplstyle: highestTime is not defined on StreamIterators. Call .stream() first for efficiency\n",
      "In d:\\Projekte\\Python\\Tensorflow\\Komposition-eines-Musikstuecks-mittels-Neuronaler-Netze\\.venv\\lib\\site-packages\\matplotlib\\mpl-data\\stylelib\\seaborn-v0_8.mplstyle: highestTime is not defined on StreamIterators. Call .stream() first for efficiency\n",
      "In d:\\Projekte\\Python\\Tensorflow\\Komposition-eines-Musikstuecks-mittels-Neuronaler-Netze\\.venv\\lib\\site-packages\\matplotlib\\mpl-data\\stylelib\\_mpl-gallery-nogrid.mplstyle: highestTime is not defined on StreamIterators. Call .stream() first for efficiency\n",
      "In d:\\Projekte\\Python\\Tensorflow\\Komposition-eines-Musikstuecks-mittels-Neuronaler-Netze\\.venv\\lib\\site-packages\\matplotlib\\mpl-data\\stylelib\\_mpl-gallery-nogrid.mplstyle: highestTime is not defined on StreamIterators. Call .stream() first for efficiency\n",
      "d:\\Projekte\\Python\\Tensorflow\\Komposition-eines-Musikstuecks-mittels-Neuronaler-Netze\\mukkeBude\\utils.py:137: StreamIteratorInefficientWarning: highestTime is not defined on StreamIterators. Call .stream() first for efficiency\n",
      "  song.flat.getElementsByClass(\"Note\").highestTime,\n",
      "d:\\Projekte\\Python\\Tensorflow\\Komposition-eines-Musikstuecks-mittels-Neuronaler-Netze\\mukkeBude\\utils.py:138: StreamIteratorInefficientWarning: highestTime is not defined on StreamIterators. Call .stream() first for efficiency\n",
      "  song.flat.getElementsByClass(\"Chord\").highestTime,\n"
     ]
    },
    {
     "name": "stdout",
     "output_type": "stream",
     "text": [
      "Songs encoded: 433\n"
     ]
    }
   ],
   "source": [
    "# Load songs\n",
    "paths = m21.corpus.getComposer('bach')\n",
    "# paths = paths[:100]\n",
    "print(f\"Found {len(paths)} songs in corpus.\")\n",
    "\n",
    "encoded_songs = []\n",
    "for path in paths:\n",
    "    song = utils.read_single_from_corpus(path)\n",
    "    encoded_song = utils.to_polyphonic_encoding(song, mapping)\n",
    "    encoded_songs.append(mapping.textify(encoded_song))\n",
    "\n",
    "print(f\"Songs encoded: {len(encoded_songs)}\")"
   ]
  },
  {
   "cell_type": "code",
   "execution_count": 5,
   "metadata": {},
   "outputs": [
    {
     "name": "stdout",
     "output_type": "stream",
     "text": [
      "Dataset created\n"
     ]
    }
   ],
   "source": [
    "# Create dataset\n",
    "utils.create_train_data(encoded_songs, \"raw_train_ds.txt\")\n",
    "print(\"Dataset created\")"
   ]
  },
  {
   "cell_type": "code",
   "execution_count": 6,
   "metadata": {},
   "outputs": [
    {
     "name": "stdout",
     "output_type": "stream",
     "text": [
      "Model: \"model\"\n",
      "_________________________________________________________________\n",
      " Layer (type)                Output Shape              Param #   \n",
      "=================================================================\n",
      " input_1 (InputLayer)        [(None, None)]            0         \n",
      "                                                                 \n",
      " token_and_position_embeddin  (None, None, 256)        652288    \n",
      " g (TokenAndPositionEmbeddin                                     \n",
      " g)                                                              \n",
      "                                                                 \n",
      " transformer_decoder (Transf  (None, None, 256)        394749    \n",
      " ormerDecoder)                                                   \n",
      "                                                                 \n",
      " transformer_decoder_1 (Tran  (None, None, 256)        394749    \n",
      " sformerDecoder)                                                 \n",
      "                                                                 \n",
      " transformer_decoder_2 (Tran  (None, None, 256)        394749    \n",
      " sformerDecoder)                                                 \n",
      "                                                                 \n",
      " dense (Dense)               (None, None, 500)         128500    \n",
      "                                                                 \n",
      "=================================================================\n",
      "Total params: 1,965,035\n",
      "Trainable params: 1,965,035\n",
      "Non-trainable params: 0\n",
      "_________________________________________________________________\n",
      "Epoch 1/30\n",
      "7/7 - 8s - loss: 3.7720 - perplexity: 43.4666 - 8s/epoch - 1s/step\n",
      "Epoch 2/30\n",
      "7/7 - 5s - loss: 2.3370 - perplexity: 10.3504 - 5s/epoch - 667ms/step\n",
      "Epoch 3/30\n",
      "7/7 - 5s - loss: 2.1005 - perplexity: 8.1701 - 5s/epoch - 664ms/step\n",
      "Epoch 4/30\n",
      "7/7 - 5s - loss: 2.0407 - perplexity: 7.6956 - 5s/epoch - 665ms/step\n",
      "Epoch 5/30\n",
      "7/7 - 5s - loss: 2.0116 - perplexity: 7.4754 - 5s/epoch - 682ms/step\n",
      "Epoch 6/30\n",
      "7/7 - 5s - loss: 1.9870 - perplexity: 7.2935 - 5s/epoch - 701ms/step\n",
      "Epoch 7/30\n",
      "7/7 - 5s - loss: 1.9604 - perplexity: 7.1020 - 5s/epoch - 742ms/step\n",
      "Epoch 8/30\n",
      "7/7 - 5s - loss: 1.9353 - perplexity: 6.9264 - 5s/epoch - 687ms/step\n",
      "Epoch 9/30\n",
      "7/7 - 5s - loss: 1.8967 - perplexity: 6.6638 - 5s/epoch - 708ms/step\n",
      "Epoch 10/30\n",
      "7/7 - 5s - loss: 1.8599 - perplexity: 6.4231 - 5s/epoch - 710ms/step\n",
      "Epoch 11/30\n",
      "7/7 - 5s - loss: 1.8243 - perplexity: 6.1985 - 5s/epoch - 671ms/step\n",
      "Epoch 12/30\n",
      "7/7 - 5s - loss: 1.7956 - perplexity: 6.0233 - 5s/epoch - 676ms/step\n",
      "Epoch 13/30\n",
      "7/7 - 5s - loss: 1.7565 - perplexity: 5.7919 - 5s/epoch - 673ms/step\n",
      "Epoch 14/30\n",
      "7/7 - 5s - loss: 1.7186 - perplexity: 5.5768 - 5s/epoch - 655ms/step\n",
      "Epoch 15/30\n",
      "7/7 - 5s - loss: 1.6950 - perplexity: 5.4469 - 5s/epoch - 667ms/step\n",
      "Epoch 16/30\n",
      "7/7 - 5s - loss: 1.6606 - perplexity: 5.2623 - 5s/epoch - 672ms/step\n",
      "Epoch 17/30\n",
      "7/7 - 5s - loss: 1.6226 - perplexity: 5.0663 - 5s/epoch - 709ms/step\n",
      "Epoch 18/30\n",
      "7/7 - 5s - loss: 1.6102 - perplexity: 5.0039 - 5s/epoch - 657ms/step\n",
      "Epoch 19/30\n",
      "7/7 - 5s - loss: 1.5391 - perplexity: 4.6605 - 5s/epoch - 675ms/step\n",
      "Epoch 20/30\n",
      "7/7 - 5s - loss: 1.4736 - perplexity: 4.3650 - 5s/epoch - 691ms/step\n",
      "Epoch 21/30\n",
      "7/7 - 5s - loss: 1.4299 - perplexity: 4.1783 - 5s/epoch - 650ms/step\n",
      "Epoch 22/30\n",
      "7/7 - 5s - loss: 1.3493 - perplexity: 3.8547 - 5s/epoch - 667ms/step\n",
      "Epoch 23/30\n",
      "7/7 - 5s - loss: 1.2811 - perplexity: 3.6006 - 5s/epoch - 662ms/step\n",
      "Epoch 24/30\n",
      "7/7 - 5s - loss: 1.2330 - perplexity: 3.4314 - 5s/epoch - 653ms/step\n",
      "Epoch 25/30\n",
      "7/7 - 5s - loss: 1.1906 - perplexity: 3.2891 - 5s/epoch - 665ms/step\n",
      "Epoch 26/30\n",
      "7/7 - 5s - loss: 1.1516 - perplexity: 3.1632 - 5s/epoch - 652ms/step\n",
      "Epoch 27/30\n",
      "7/7 - 5s - loss: 1.1223 - perplexity: 3.0718 - 5s/epoch - 673ms/step\n",
      "Epoch 28/30\n",
      "7/7 - 5s - loss: 1.0962 - perplexity: 2.9926 - 5s/epoch - 670ms/step\n",
      "Epoch 29/30\n",
      "7/7 - 5s - loss: 1.0695 - perplexity: 2.9138 - 5s/epoch - 690ms/step\n",
      "Epoch 30/30\n",
      "7/7 - 5s - loss: 1.0566 - perplexity: 2.8765 - 5s/epoch - 699ms/step\n"
     ]
    },
    {
     "data": {
      "text/plain": [
       "<keras.callbacks.History at 0x1b65eb88340>"
      ]
     },
     "execution_count": 6,
     "metadata": {},
     "output_type": "execute_result"
    }
   ],
   "source": [
    "# Train model\n",
    "model = MukkeBudeTransformer(mapping)\n",
    "print(model)\n",
    "model.train(\"raw_train_ds.txt\", min_training_seq_len=32, epochs=30)"
   ]
  },
  {
   "cell_type": "code",
   "execution_count": 12,
   "metadata": {},
   "outputs": [
    {
     "name": "stdout",
     "output_type": "stream",
     "text": [
      "prompt_tokens: [ 2 23 18 20 18 38 18 51 18  4 18 23 18 20 18 38 18 28 18  4 18 22 18 20\n",
      " 18 25 18 37 18  4]\n",
      "CLEAN SONG: xxbos n67 d4 n62 d4 n58 d4 n43 d4 xxsep d4 n67 d4 n62 d4 n58 d4 n55 d4 xxsep d4 n69 d4 n62 d4 n57 d4 n54 d4 xxsep d4 n62 d4 xxsep d4 n67 d4 n58 d4 xxsep d4 n74 d4 n67 d4 n62 d4 n59 d4 xxsep d4 n69 d4 n62 d2 n54 d2 xxsep d2 n55 d4 n67 d4 n62 d2 n57 d4 n54 d4 xxsep d2 n67 d4 n59 d2 n55 d4 xxsep d2 n60 d2 xxsep d2 n62 d4 n57 d2 xxsep d2 n53 d2 xxsep d2 n67 d4 n59 d4 n55 d4 xxsep d4 n69 d4 n66 d4 n62 d4 n59 d4 n50 d4 xxsep d4 n67 d4 n62 d4 n54 d4 xxsep d4 n71 d4 n67 d4 n62 d4 n55 d4 n62 d4 n62 d4 n67 d4 n64 d4 n59 d4 n62 d4 n62 d4 n55 d4 n62 d4 n64 d4 n62 d4 n62 d4 n55 d4 n59 d4 n55 d4 n55 d4 n62 d4 n59 d4 n55 d4 n55 d4 n55 d4 n62 d4 n62 d4 n59 d4 n62 d4 n67 d4 n55 d4 n59 d4 n55 d4 n55 d4 n55 d4 n62 d4 n59 d4 n55 d4 n62 d4 n59 d4 n62 d4 n55 d4 n62 d4 n62 d4 n62 d4 n62 d4 n55 d4 n59 d4 n55 d4 n59 d4 n59 d4 n64 d4 xxsep d4 n55 d4 n55 d4 n55 d4 n43 d4 n62 d4 n52 d4 n55 d4 n62 d4 xxsep d4 n59 d4 n55 d4 n59 d4 n55 d4 n55 d4 n62 d4 n55 d4 n62 d4 n55 d4 n55 d4 n62 d4 n55 d4 n55 d4 n55 d4 n55 d4 n55 d4 n55 d4 n55 d4 n62 d4 n62 d4 n62 d4 n55 d4 n62 d4 n55 d4 n55 d4 n55 d4 n55 d4 n55 d4 n55 d4 n55 d4 n59 d4 n59 d4 n55 d4 n55 d4 n62 d4 n59 d4 n55 d4 n62 d4 n59 d4 xxsep d4 xxsep d4 n59 d4 n62 d4 n62 d4 n62 d4 n62 d4 n59 d4 n55 d4 xxsep d4 n55 d4 n55 d4 n55 d4 n62 d4 n55 d4 n55 d4 n62 d4 n55 d4 n55 d4 n55 d4 n62 d4 n55 d4 n55 d4 n59 d4 xxsep d2 xxsep d4 n62 d4 n55 d4 n55 d4 n62 d4 n62 d4 n55 d4 n59 d4 xxsep d4 n55 d4 n55 d4 n55 d4 n62 d4 xxsep d4 n64 d4 n62 d4 n55 d4 n55 d4 n55 d4 xxsep d4 n55 d4 n55 d4 n55 d4 n55 d4 n62 d4 n55 d4 n59 d4 n62 d4 n62 d4 n55 d4 n55 d4 n55 d4 n55 d4 n55 d4 n55 d4 n55 d4 n55 d4 xxsep d4 n55 d4 n55 d4 n62 d4 n55 d4 n55 d4 n55 d4 n55 d4 n55 d4 n55 d4 n59 d4 n62 d4 n55 d4 n55 d4 n55 d4 n59 d4 xxsep d4 n62 d4 n55 d4 xxsep d4 n55 d4 n62 d4 n55 d4 n55 d4 n55 d4 n55 d4 n43 d4 n62 d4 n55 d4 n55 d4 n55 d4 n55 d4 n55 d4 n55 d4 n55 d4 n55 d4 n55 d4 n55 d4 n55 d4 n55 d4 n62 d4 n62 d4 n55 d4 n55 d4 n55 d4 n55 d4 n55 d4 n55 d4 n59 d4 n62 d4 n55 d4 n62 d4 n55 d4 n55 d4 n55 d4 n55 d4 n55 d4 n55 d4 n55 d4 n43 d4 n62 d4 n55 d4 n59 d4 n55 d4 n59 d4 n55 d4 n62 d4 n55 d4 n55 d4 n55 d4 n55 d4 xxsep d4 n55 d4 n67 d4 xxsep d4 n55 d4 xxsep d4 n62 d4 n62 d4 n55 d4 n59 d4 n62 d4 n55 d4 n55 d4 n59 d4 n55 d4 n55 d4 n55 d4 n55 d4 n43 d4 n55 d4 n55 d4 n55 d4 n57 d4 n62 d4 n55 d4 n55 d4 xxsep d4 n55 d4 n55 d4 n55 d4 n55 d4 n62 d4 n55 d4 n55 d4 n55 d4 n55 d4 n55 d4 n55 d4 n62 d4 n55 d4 n55 d4 n62 d4 n55 d4 n55 d4 n43 d4 n55 d4 xxsep d4 n55 d4 xxsep d4 n62 d4 xxsep d4 n55 d4 n55 d4 n55 d4 n62 d4 n55 d4 n62 d4 n55 d4 n55 d4 n55 d4 n67 d4 xxsep d4 n55 d4 n55 d4 n55 d4 n55 d4 n55 d4 n55 d4 n55 d4 n55 d4 n55 d4 n55 d4 n55 d4 n55 d4 n55 d4 n55 d4 n55 d4 n62 d4 n55 d4 n62 d4 n55 d4 n55 d4 n55 d4 n55 d4 n55 d4 n62 d4 n55 d4 n43 d4 n55 d4 n62 d4 n55 d4 n62 d4 n55 d4 n55 d4 n55 d4 n55 d4 n62 d4 n55 d4 n55 d4 n55 d4 n55 d4 xxsep d4 n55 d4 xxsep d4 xxsep d4 n55 d4 n55 d4 n62 d4 n59 d4 n55 d4 n55 d4 n55 d4 n55 d4 n55 d4 n55 d4 n55 d4 n55 d4 n55 d4 n55 d4 xxsep d4 n55 d4 n55 d4 xxsep d4 n55 d4 n55 d4 n55 d4 n62 d4 n55 d4 n55 d4 n62 d4 n55 d4 n55 d4 n59 d4 n55 d4 n55 d4 n55 d4 n55 d4 n55 d4 n55 d4 n55 d4 n55 d4 n55 d4 n55 d4 n55 d4 n59 d4 n55 d4 n55 d4 n55 d4 n62 d4 n55 d4 n62 d4 n55 d4 n55 d4 n55 d4 n59 d4 xxsep d4 n52 d4 n55 d4 n55 d4 n55 d4 n55 d4 n43 d4 n55 d4 n62 d4 n62 d4 n55 d4 n55 d4 xxsep d4 n59 d4 n55 d4 n62 d4 n55 d4 n55 d4 n55 d4 n62 d4 n62 d4 n59 d4 n55 d4 n55 d4 n55 d4 n55 d4 n43 d4 n55 d4 n62 d4 xxsep d4 xxsep d4 n55 d4 n55 d4 n55 d4 xxsep d4 n55 d4 n55 d4 n55 d4 n59 d4 n55 d4 n55 d4 n55 d4 n55 d4 n55 d4 n62 d4 n55 d4 n55 d4 n55 d4 n62 d4 n55 d4 n55 d4 n55 d4 n55 d4 n55 d4 n55 d4 n55 d4 xxsep d2 xxsep d4 n55 d4 n55 d4 xxsep d4 n55 d4 n55 d4 n55 d4 n55 d4 n55 d4 n55 d4 n55 d4 n55 d4 n55 d4 n55 d4 n55 d4 n55 d4 n55 d4 n55 d4 n55 d4 n62 d4 n55 d4 xxsep d4 n59 d4 n55 d4 n62 d4 n62 d4 n55 d4 n55 d4 n62 d4 n55 d4 n55 d4 xxsep d4 n62 d4 n55 d4 n59 d4 n52 d4 n55 d4 n62 d4 n55 d4 n55 d4 n55 d4 xxsep d4 n55 d4 n55 d4 n55 d4 n55 d4 n62 d4 xxsep d4 xxsep d2 n52 d4 n55 d4 n59 d4 n55 d4 n55 d4 n55 d4 n62 d4 xxsep d4 n55 d4 n55 d4 n55 d4 n55 d4 n55 d4 n55 d4 n55 d4 n55 d4 n55 d4 n55 d4 n55 d4 n55 d2 n55 d4 n55 d4 n55 d4 n55 d4 n59 d4 n55 d4 n59 d4 n62 d4 n55 d4 n55 d4 n55 d4 n55 d4 n55 d4 n55 d4 n59 d4 n62 d4 n55 d4 n55 d4 n62 d4 n59 d4 n62 d4 n55 d4 n55 d4 n55 d4 xxsep d4 n64 d4 n55 d4 n55 d4 n55 d4 n62 d4 n59 d4 n62 d4 n55 d4 n62 d4 n55 d4 n62 d4 n52 d4 n62 d4 n55 d4 n55 d4 xxsep d4 xxsep d4 n55 d4 n55 d4 n59 d4 n62 d4 n55 d4 n55 d4 n55 d4 n55 d4 n55 d4 n67 d4 n55 d4 n55 d4 n62 d4 n55 d4 n55 d4 n55 d4 n55 d4 n55 d4 n55 d4 n62 d4 n59 d4 n55 d4 xxsep d2 n55 d4 n55 d4 n55 d4 n62 d4 n55 d4 n55 d4 n55 d4 n59 d4 n55 d4 n55 d4 xxsep d4 n59 d4 n55 d4 n55 d4 n55 d4 n55 d4 n55 d4 n59 d4 n55 d4 n55 d4 n62 d4 n55 d4 n55 d4 n55 d4 n55 d4 n55 d4 n55 d4 n62 d4 n55 d4 n55 d4 n55 d4 n55 d4 n62 d4 n55 d4 n55 d4 n55 d4 n55 d4 n55 d2 xxsep d4 n55 d4 n59 d4 n55 d4 n59 d4 n55 d4 n55 d4 n55 d4 xxsep d2 n50 d4 n55 d4 n62 d4 n55 d4 n55 d4 n62 d4 n55 d4 n55 d4 n55 d4 n55 d4 n55 d4 xxsep d4 n55 d4 n55 d4 n55 d4 xxsep d4 n55 d4 n55 d4 n55 d4 xxsep d4 n55 d4 n62 d4 n62 d4 n43 d4 n55 d4 n59 d4 n55 d4 n55 d4 n55 d4 n55 d4 n59 d4 n55 d4 xxsep d2 n55 d4 xxsep d4 n55 d4 xxsep d4 n55 d4 n55 d4 n62 d4 n55 d4 n62 d4 n55 d4 n55 d4 n55 d4 n55 d4 n55 d4 n55 d4 n55 d4 n55 d4 n55 d4 n55 d4 n62 d4 n52 d4 n55 d4 n62 d4 n62 d4 n55 d4 n55 d4 n52 d4 n55 d4 n55 d4 n59 d4 n62 d4 n55 d4 n62 d4 xxsep d4 n55 d4 n55 d4 n55 d4 n55 d4 n55 d4 n55 d4 n59 d4 n55 d4 n62 d4 n62 d4 n55 d4 xxsep d2 n55 d2 xxsep d4 n55 d4 n55 d4 n62 d4 n62 d4 n62 d4 n62 d4 n55 d4 n55 d4 n55 d4 n55 d4 n55 d4 n55 d4 n55 d4 n55 d4 n55 d4 n55 d4 n55 d4 n50 d4 n55 d4 n55 d4 n55 d4 n55 d4 n55 d4 n55 d4 n55 d4 n55 d4 n55 d4 n55 d4 n59 d4 n55 d4 n43 d4 n55 d4 n62 d4 n52 d4 n55 d4 n62 d4 xxsep d2 n55 d4 xxsep d4 n55 d4 n55 d4 n55 d4 n55 d4 n55 d4 n55 d4 n55 d4 n62 d4 n55 d4 xxsep d4 n55 d4 n55 d4 n55 d4 n55 d4 n55 d4 n62 d4 n62 d4 n55 d4 n62 d4 n55 d4 n57 d4 n55 d4 n55 d4 n43 d4 xxsep d4 n59 d4 n55 d4 n62 d4 n62 d4 n55 d4 n62 d4 n55 d4 n55 d4 xxsep d4 n62 d4 n55 d4 n55 d4 n62 d4 n55 d4 n55 d4 n62 d4 n55 d4 n55 d4 xxsep d4 n62 d4 n55 d4 n59 d4 n55 d4 n62 d4 n43 d4 n55 d4 n62 d4 n55 d4 n55 d4 xxsep d4 xxsep xxsep d4 n62 d4 n55 d4 n62 d4 n55 d4 n62 d4 xxsep d4 n55 d4 n55 d4 n55 d4 xxsep d4 n62 d4 xxsep d4 n55 d4 n55 d4 n55 d4 xxsep d4 n59 d4 n55 d4 n55 d4 n55 d4 n55 d4 n55 d4 n55 d4 n55 d4 n55 d4 n62 d4 n55 d4 n52 d4 n55 d4 n55 d4 n62 d4 n55 d4 n62 d4 n55 d4 n55 d4 n52 d4 xxsep d4 n59 d4 n55 d4 n62 d4 n55 d4 n55 d4 n55 d4 n62 d4 n62 d4 xxsep d2 xxsep d4 n55 d4 n55 d4 n59 d4 xxsep d4 n62 d4 n55 d4 n55 d4 n55 d4 n55 d4 n55 d4 n55 d4 n62 d4 n55 d4 n55 d4 n55 d4 n55 d4 n55 d4 n55 d4 n62 d4 n55 d4 n55 d4 n55 d4 n55 d4 n59 d4 n55 d4 n55 d4 n62 d4 xxsep d2 n55 d4 n55 d4 n62 d4 n62 d4 n55 d4 n55 d4 n55 d4 n55 d4 n55 d4 n55 d4 n62 d4 n55 d4 n55 d4 n55 d4 n62 d4 n55 d4 n55 d4 n55 d4 n55 d4 xxsep d4 n55 d4 n59 d4 n62 d4 n55 d4 n55 d4 n64 d4 n59 d4 n55 d4 n55 d4 n55 d4 n59 d4 n55 d4 n62 d4 n52 d4 n55 d4 n55 d4 n55 d4 n55 d4 n55 d4 n52 d4 n55 d4 xxsep d4 n55 d4 n55 d4 n55 d4 n55 d4 n55 d4 n55 d4 n62 d4 n55 d4 n55 d4 n55 d4 n55 d4 n55 d4 n62 d4 n43 d4 xxsep d4 n55 d2 n55 d4 xxsep d4 n55 d4 n55 d4 n55 d4 xxsep d4 n55 d4 n55 d4 xxsep d4 n55 d4 n55 d4 n55 d4 n59 d4 n55 d4 n55 d4 n55 d4 n59 d4 n55 d4 n55 d4 n62 d4 n55 d4 xxsep d4 n55 d4 n55 d4 n55 d4 n55 d4 n55 d4\n",
      "\n",
      "\n",
      "xxbos n67 d4 n62 d4 n58 d4 n43 d4 xxsep d4 n67 d4 n62 d4 n58 d4 n55 d4 xxsep d4 n69 d4 n62 d4 n57 d4 n54 d4 xxsep d4 n62 d4 xxsep d4 n67 d4 n58 d4 xxsep d4 n74 d4 n67 d4 n62 d4 n59 d4 xxsep d4 n69 d4 n62 d2 n54 d2 xxsep d2 n55 d4 n67 d4 n62 d2 n57 d4 n54 d4 xxsep d2 n67 d4 n59 d2 n55 d4 xxsep d2 n60 d2 xxsep d2 n62 d4 n57 d2 xxsep d2 n53 d2 xxsep d2 n67 d4 n59 d4 n55 d4 xxsep d4 n69 d4 n66 d4 n62 d4 n59 d4 n50 d4 xxsep d4 n67 d4 n62 d4 n54 d4 xxsep d4 n71 d4 n67 d4 n62 d4 n55 d4 n62 d4 n62 d4 n67 d4 n64 d4 n59 d4 n62 d4 n62 d4 n55 d4 n62 d4 n64 d4 n62 d4 n62 d4 n55 d4 n59 d4 n55 d4 n55 d4 n62 d4 n59 d4 n55 d4 n55 d4 n55 d4 n62 d4 n62 d4 n59 d4 n62 d4 n67 d4 n55 d4 n59 d4 n55 d4 n55 d4 n55 d4 n62 d4 n59 d4 n55 d4 n62 d4 n59 d4 n62 d4 n55 d4 n62 d4 n62 d4 n62 d4 n62 d4 n55 d4 n59 d4 n55 d4 n59 d4 n59 d4 n64 d4 xxsep d4 n55 d4 n55 d4 n55 d4 n43 d4 n62 d4 n52 d4 n55 d4 n62 d4 xxsep d4 n59 d4 n55 d4 n59 d4 n55 d4 n55 d4 n62 d4 n55 d4 n62 d4 n55 d4 n55 d4 n62 d4 n55 d4 n55 d4 n55 d4 n55 d4 n55 d4 n55 d4 n55 d4 n62 d4 n62 d4 n62 d4 n55 d4 n62 d4 n55 d4 n55 d4 n55 d4 n55 d4 n55 d4 n55 d4 n55 d4 n59 d4 n59 d4 n55 d4 n55 d4 n62 d4 n59 d4 n55 d4 n62 d4 n59 d4 xxsep d4 xxsep d4 n59 d4 n62 d4 n62 d4 n62 d4 n62 d4 n59 d4 n55 d4 xxsep d4 n55 d4 n55 d4 n55 d4 n62 d4 n55 d4 n55 d4 n62 d4 n55 d4 n55 d4 n55 d4 n62 d4 n55 d4 n55 d4 n59 d4 xxsep d2 xxsep d4 n62 d4 n55 d4 n55 d4 n62 d4 n62 d4 n55 d4 n59 d4 xxsep d4 n55 d4 n55 d4 n55 d4 n62 d4 xxsep d4 n64 d4 n62 d4 n55 d4 n55 d4 n55 d4 xxsep d4 n55 d4 n55 d4 n55 d4 n55 d4 n62 d4 n55 d4 n59 d4 n62 d4 n62 d4 n55 d4 n55 d4 n55 d4 n55 d4 n55 d4 n55 d4 n55 d4 n55 d4 xxsep d4 n55 d4 n55 d4 n62 d4 n55 d4 n55 d4 n55 d4 n55 d4 n55 d4 n55 d4 n59 d4 n62 d4 n55 d4 n55 d4 n55 d4 n59 d4 xxsep d4 n62 d4 n55 d4 xxsep d4 n55 d4 n62 d4 n55 d4 n55 d4 n55 d4 n55 d4 n43 d4 n62 d4 n55 d4 n55 d4 n55 d4 n55 d4 n55 d4 n55 d4 n55 d4 n55 d4 n55 d4 n55 d4 n55 d4 n55 d4 n62 d4 n62 d4 n55 d4 n55 d4 n55 d4 n55 d4 n55 d4 n55 d4 n59 d4 n62 d4 n55 d4 n62 d4 n55 d4 n55 d4 n55 d4 n55 d4 n55 d4 n55 d4 n55 d4 n43 d4 n62 d4 n55 d4 n59 d4 n55 d4 n59 d4 n55 d4 n62 d4 n55 d4 n55 d4 n55 d4 n55 d4 xxsep d4 n55 d4 n67 d4 xxsep d4 n55 d4 xxsep d4 n62 d4 n62 d4 n55 d4 n59 d4 n62 d4 n55 d4 n55 d4 n59 d4 n55 d4 n55 d4 n55 d4 n55 d4 n43 d4 n55 d4 n55 d4 n55 d4 n57 d4 n62 d4 n55 d4 n55 d4 xxsep d4 n55 d4 n55 d4 n55 d4 n55 d4 n62 d4 n55 d4 n55 d4 n55 d4 n55 d4 n55 d4 n55 d4 n62 d4 n55 d4 n55 d4 n62 d4 n55 d4 n55 d4 n43 d4 n55 d4 xxsep d4 n55 d4 xxsep d4 n62 d4 xxsep d4 n55 d4 n55 d4 n55 d4 n62 d4 n55 d4 n62 d4 n55 d4 n55 d4 n55 d4 n67 d4 xxsep d4 n55 d4 n55 d4 n55 d4 n55 d4 n55 d4 n55 d4 n55 d4 n55 d4 n55 d4 n55 d4 n55 d4 n55 d4 n55 d4 n55 d4 n55 d4 n62 d4 n55 d4 n62 d4 n55 d4 n55 d4 n55 d4 n55 d4 n55 d4 n62 d4 n55 d4 n43 d4 n55 d4 n62 d4 n55 d4 n62 d4 n55 d4 n55 d4 n55 d4 n55 d4 n62 d4 n55 d4 n55 d4 n55 d4 n55 d4 xxsep d4 n55 d4 xxsep d4 xxsep d4 n55 d4 n55 d4 n62 d4 n59 d4 n55 d4 n55 d4 n55 d4 n55 d4 n55 d4 n55 d4 n55 d4 n55 d4 n55 d4 n55 d4 xxsep d4 n55 d4 n55 d4 xxsep d4 n55 d4 n55 d4 n55 d4 n62 d4 n55 d4 n55 d4 n62 d4 n55 d4 n55 d4 n59 d4 n55 d4 n55 d4 n55 d4 n55 d4 n55 d4 n55 d4 n55 d4 n55 d4 n55 d4 n55 d4 n55 d4 n59 d4 n55 d4 n55 d4 n55 d4 n62 d4 n55 d4 n62 d4 n55 d4 n55 d4 n55 d4 n59 d4 xxsep d4 n52 d4 n55 d4 n55 d4 n55 d4 n55 d4 n43 d4 n55 d4 n62 d4 n62 d4 n55 d4 n55 d4 xxsep d4 n59 d4 n55 d4 n62 d4 n55 d4 n55 d4 n55 d4 n62 d4 n62 d4 n59 d4 n55 d4 n55 d4 n55 d4 n55 d4 n43 d4 n55 d4 n62 d4 xxsep d4 xxsep d4 n55 d4 n55 d4 n55 d4 xxsep d4 n55 d4 n55 d4 n55 d4 n59 d4 n55 d4 n55 d4 n55 d4 n55 d4 n55 d4 n62 d4 n55 d4 n55 d4 n55 d4 n62 d4 n55 d4 n55 d4 n55 d4 n55 d4 n55 d4 n55 d4 n55 d4 xxsep d2 xxsep d4 n55 d4 n55 d4 xxsep d4 n55 d4 n55 d4 n55 d4 n55 d4 n55 d4 n55 d4 n55 d4 n55 d4 n55 d4 n55 d4 n55 d4 n55 d4 n55 d4 n55 d4 n55 d4 n62 d4 n55 d4 xxsep d4 n59 d4 n55 d4 n62 d4 n62 d4 n55 d4 n55 d4 n62 d4 n55 d4 n55 d4 xxsep d4 n62 d4 n55 d4 n59 d4 n52 d4 n55 d4 n62 d4 n55 d4 n55 d4 n55 d4 xxsep d4 n55 d4 n55 d4 n55 d4 n55 d4 n62 d4 xxsep d4 xxsep d2 n52 d4 n55 d4 n59 d4 n55 d4 n55 d4 n55 d4 n62 d4 xxsep d4 n55 d4 n55 d4 n55 d4 n55 d4 n55 d4 n55 d4 n55 d4 n55 d4 n55 d4 n55 d4 n55 d4 n55 d2 n55 d4 n55 d4 n55 d4 n55 d4 n59 d4 n55 d4 n59 d4 n62 d4 n55 d4 n55 d4 n55 d4 n55 d4 n55 d4 n55 d4 n59 d4 n62 d4 n55 d4 n55 d4 n62 d4 n59 d4 n62 d4 n55 d4 n55 d4 n55 d4 xxsep d4 n64 d4 n55 d4 n55 d4 n55 d4 n62 d4 n59 d4 n62 d4 n55 d4 n62 d4 n55 d4 n62 d4 n52 d4 n62 d4 n55 d4 n55 d4 xxsep d4 xxsep d4 n55 d4 n55 d4 n59 d4 n62 d4 n55 d4 n55 d4 n55 d4 n55 d4 n55 d4 n67 d4 n55 d4 n55 d4 n62 d4 n55 d4 n55 d4 n55 d4 n55 d4 n55 d4 n55 d4 n62 d4 n59 d4 n55 d4 xxsep d2 n55 d4 n55 d4 n55 d4 n62 d4 n55 d4 n55 d4 n55 d4 n59 d4 n55 d4 n55 d4 xxsep d4 n59 d4 n55 d4 n55 d4 n55 d4 n55 d4 n55 d4 n59 d4 n55 d4 n55 d4 n62 d4 n55 d4 n55 d4 n55 d4 n55 d4 n55 d4 n55 d4 n62 d4 n55 d4 n55 d4 n55 d4 n55 d4 n62 d4 n55 d4 n55 d4 n55 d4 n55 d4 n55 d2 xxsep d4 n55 d4 n59 d4 n55 d4 n59 d4 n55 d4 n55 d4 n55 d4 xxsep d2 n50 d4 n55 d4 n62 d4 n55 d4 n55 d4 n62 d4 n55 d4 n55 d4 n55 d4 n55 d4 n55 d4 xxsep d4 n55 d4 n55 d4 n55 d4 xxsep d4 n55 d4 n55 d4 n55 d4 xxsep d4 n55 d4 n62 d4 n62 d4 n43 d4 n55 d4 n59 d4 n55 d4 n55 d4 n55 d4 n55 d4 n59 d4 n55 d4 xxsep d2 n55 d4 xxsep d4 n55 d4 xxsep d4 n55 d4 n55 d4 n62 d4 n55 d4 n62 d4 n55 d4 n55 d4 n55 d4 n55 d4 n55 d4 n55 d4 n55 d4 n55 d4 n55 d4 n55 d4 n62 d4 n52 d4 n55 d4 n62 d4 n62 d4 n55 d4 n55 d4 n52 d4 n55 d4 n55 d4 n59 d4 n62 d4 n55 d4 n62 d4 xxsep d4 n55 d4 n55 d4 n55 d4 n55 d4 n55 d4 n55 d4 n59 d4 n55 d4 n62 d4 n62 d4 n55 d4 xxsep d2 n55 d2 xxsep d4 n55 d4 n55 d4 n62 d4 n62 d4 n62 d4 n62 d4 n55 d4 n55 d4 n55 d4 n55 d4 n55 d4 n55 d4 n55 d4 n55 d4 n55 d4 n55 d4 n55 d4 n50 d4 n55 d4 n55 d4 n55 d4 n55 d4 n55 d4 n55 d4 n55 d4 n55 d4 n55 d4 n55 d4 n59 d4 n55 d4 n43 d4 n55 d4 n62 d4 n52 d4 n55 d4 n62 d4 xxsep d2 n55 d4 xxsep d4 n55 d4 n55 d4 n55 d4 n55 d4 n55 d4 n55 d4 n55 d4 n62 d4 n55 d4 xxsep d4 n55 d4 n55 d4 n55 d4 n55 d4 n55 d4 n62 d4 n62 d4 n55 d4 n62 d4 n55 d4 n57 d4 n55 d4 n55 d4 n43 d4 xxsep d4 n59 d4 n55 d4 n62 d4 n62 d4 n55 d4 n62 d4 n55 d4 n55 d4 xxsep d4 n62 d4 n55 d4 n55 d4 n62 d4 n55 d4 n55 d4 n62 d4 n55 d4 n55 d4 xxsep d4 n62 d4 n55 d4 n59 d4 n55 d4 n62 d4 n43 d4 n55 d4 n62 d4 n55 d4 n55 d4 xxsep d4 xxsep xxsep d4 n62 d4 n55 d4 n62 d4 n55 d4 n62 d4 xxsep d4 n55 d4 n55 d4 n55 d4 xxsep d4 n62 d4 xxsep d4 n55 d4 n55 d4 n55 d4 xxsep d4 n59 d4 n55 d4 n55 d4 n55 d4 n55 d4 n55 d4 n55 d4 n55 d4 n55 d4 n62 d4 n55 d4 n52 d4 n55 d4 n55 d4 n62 d4 n55 d4 n62 d4 n55 d4 n55 d4 n52 d4 xxsep d4 n59 d4 n55 d4 n62 d4 n55 d4 n55 d4 n55 d4 n62 d4 n62 d4 xxsep d2 xxsep d4 n55 d4 n55 d4 n59 d4 xxsep d4 n62 d4 n55 d4 n55 d4 n55 d4 n55 d4 n55 d4 n55 d4 n62 d4 n55 d4 n55 d4 n55 d4 n55 d4 n55 d4 n55 d4 n62 d4 n55 d4 n55 d4 n55 d4 n55 d4 n59 d4 n55 d4 n55 d4 n62 d4 xxsep d2 n55 d4 n55 d4 n62 d4 n62 d4 n55 d4 n55 d4 n55 d4 n55 d4 n55 d4 n55 d4 n62 d4 n55 d4 n55 d4 n55 d4 n62 d4 n55 d4 n55 d4 n55 d4 n55 d4 xxsep d4 n55 d4 n59 d4 n62 d4 n55 d4 n55 d4 n64 d4 n59 d4 n55 d4 n55 d4 n55 d4 n59 d4 n55 d4 n62 d4 n52 d4 n55 d4 n55 d4 n55 d4 n55 d4 n55 d4 n52 d4 n55 d4 xxsep d4 n55 d4 n55 d4 n55 d4 n55 d4 n55 d4 n55 d4 n62 d4 n55 d4 n55 d4 n55 d4 n55 d4 n55 d4 n62 d4 n43 d4 xxsep d4 n55 d2 n55 d4 xxsep d4 n55 d4 n55 d4 n55 d4 xxsep d4 n55 d4 n55 d4 xxsep d4 n55 d4 n55 d4 n55 d4 n59 d4 n55 d4 n55 d4 n55 d4 n59 d4 n55 d4 n55 d4 n62 d4 n55 d4 xxsep d4 n55 d4 n55 d4 n55 d4 n55 d4 n55 d4\n"
     ]
    }
   ],
   "source": [
    "# Create song\n",
    "generated_song = model.generate(\"xxbos n67 d4 n62 d4 n58 d4 n43 d4 xxsep d4 n67 d4 n62 d4 n58 d4 n55 d4 xxsep d4 n69 d4 n62 d4 n57 d4 n54 d4 xxsep\", max_length=2048, probability=0.8)\n",
    "new_song_str = generated_song.numpy().decode(\"utf-8\")\n",
    "print(f\"CLEAN SONG: {new_song_str}\\n\\n\")\n",
    "\n",
    "# THIS DEPENDS ON THE OUTPUT - NEED TO FIX THE OUTPUT\n",
    "# new_song_str = new_song_str[15:]\n",
    "# new_song_str = \"xxbos xxpad \" + new_song_str\n",
    "# new_song_str = new_song_str.replace(\"   \", \" \")\n",
    "\n",
    "print(new_song_str)"
   ]
  },
  {
   "cell_type": "code",
   "execution_count": null,
   "metadata": {},
   "outputs": [
    {
     "name": "stdout",
     "output_type": "stream",
     "text": [
      "[  0  71 136 ... 136  59 136]\n",
      "xxbos n67 d4 n62 d4 n58 d4 n43 d4 xxsep d4 n67 d4 n62 d4 n58 d4 n55 d4 xxsep d4 n69 d4 n62 d4 n57 d4 n54 d4 xxsep d4 n62 d4 xxsep d4 n67 d4 n58 d4 xxsep d4 n74 d4 n67 d4 n62 d4 n59 d4 xxsep d4 n69 d4 n62 d2 n54 d2 xxsep d2 n55 d4 n67 d4 n62 d2 n57 d4 n54 d4 xxsep d2 n67 d4 n59 d2 n55 d4 xxsep d2 n60 d2 xxsep d2 n62 d4 n57 d2 xxsep d2 n53 d2 xxsep d2 n67 d4 n59 d4 n55 d4 xxsep d4 n69 d4 n66 d4 n62 d4 n59 d4 n50 d4 xxsep d4 n67 d4 n62 d4 n54 d4 xxsep d4 n71 d4 n67 d4 n62 d4 n55 d4 n62 d4 n62 d4 n67 d4 n64 d4 n59 d4 n62 d4 n62 d4 n55 d4 n62 d4 n64 d4 n62 d4 n62 d4 n55 d4 n59 d4 n55 d4 n55 d4 n62 d4 n59 d4 n55 d4 n55 d4 n55 d4 n62 d4 n62 d4 n59 d4 n62 d4 n67 d4 n55 d4 n59 d4 n55 d4 n55 d4 n55 d4 n62 d4 n59 d4 n55 d4 n62 d4 n59 d4 n62 d4 n55 d4 n62 d4 n62 d4 n62 d4 n62 d4 n55 d4 n59 d4 n55 d4 n59 d4 n59 d4 n64 d4 xxsep d4 n55 d4 n55 d4 n55 d4 n43 d4 n62 d4 n52 d4 n55 d4 n62 d4 xxsep d4 n59 d4 n55 d4 n59 d4 n55 d4 n55 d4 n62 d4 n55 d4 n62 d4 n55 d4 n55 d4 n62 d4 n55 d4 n55 d4 n55 d4 n55 d4 n55 d4 n55 d4 n55 d4 n62 d4 n62 d4 n62 d4 n55 d4 n62 d4 n55 d4 n55 d4 n55 d4 n55 d4 n55 d4 n55 d4 n55 d4 n59 d4 n59 d4 n55 d4 n55 d4 n62 d4 n59 d4 n55 d4 n62 d4 n59 d4 xxsep d4 xxsep d4 n59 d4 n62 d4 n62 d4 n62 d4 n62 d4 n59 d4 n55 d4 xxsep d4 n55 d4 n55 d4 n55 d4 n62 d4 n55 d4 n55 d4 n62 d4 n55 d4 n55 d4 n55 d4 n62 d4 n55 d4 n55 d4 n59 d4 xxsep d2 xxsep d4 n62 d4 n55 d4 n55 d4 n62 d4 n62 d4 n55 d4 n59 d4 xxsep d4 n55 d4 n55 d4 n55 d4 n62 d4 xxsep d4 n64 d4 n62 d4 n55 d4 n55 d4 n55 d4 xxsep d4 n55 d4 n55 d4 n55 d4 n55 d4 n62 d4 n55 d4 n59 d4 n62 d4 n62 d4 n55 d4 n55 d4 n55 d4 n55 d4 n55 d4 n55 d4 n55 d4 n55 d4 xxsep d4 n55 d4 n55 d4 n62 d4 n55 d4 n55 d4 n55 d4 n55 d4 n55 d4 n55 d4 n59 d4 n62 d4 n55 d4 n55 d4 n55 d4 n59 d4 xxsep d4 n62 d4 n55 d4 xxsep d4 n55 d4 n62 d4 n55 d4 n55 d4 n55 d4 n55 d4 n43 d4 n62 d4 n55 d4 n55 d4 n55 d4 n55 d4 n55 d4 n55 d4 n55 d4 n55 d4 n55 d4 n55 d4 n55 d4 n55 d4 n62 d4 n62 d4 n55 d4 n55 d4 n55 d4 n55 d4 n55 d4 n55 d4 n59 d4 n62 d4 n55 d4 n62 d4 n55 d4 n55 d4 n55 d4 n55 d4 n55 d4 n55 d4 n55 d4 n43 d4 n62 d4 n55 d4 n59 d4 n55 d4 n59 d4 n55 d4 n62 d4 n55 d4 n55 d4 n55 d4 n55 d4 xxsep d4 n55 d4 n67 d4 xxsep d4 n55 d4 xxsep d4 n62 d4 n62 d4 n55 d4 n59 d4 n62 d4 n55 d4 n55 d4 n59 d4 n55 d4 n55 d4 n55 d4 n55 d4 n43 d4 n55 d4 n55 d4 n55 d4 n57 d4 n62 d4 n55 d4 n55 d4 xxsep d4 n55 d4 n55 d4 n55 d4 n55 d4 n62 d4 n55 d4 n55 d4 n55 d4 n55 d4 n55 d4 n55 d4 n62 d4 n55 d4 n55 d4 n62 d4 n55 d4 n55 d4 n43 d4 n55 d4 xxsep d4 n55 d4 xxsep d4 n62 d4 xxsep d4 n55 d4 n55 d4 n55 d4 n62 d4 n55 d4 n62 d4 n55 d4 n55 d4 n55 d4 n67 d4 xxsep d4 n55 d4 n55 d4 n55 d4 n55 d4 n55 d4 n55 d4 n55 d4 n55 d4 n55 d4 n55 d4 n55 d4 n55 d4 n55 d4 n55 d4 n55 d4 n62 d4 n55 d4 n62 d4 n55 d4 n55 d4 n55 d4 n55 d4 n55 d4 n62 d4 n55 d4 n43 d4 n55 d4 n62 d4 n55 d4 n62 d4 n55 d4 n55 d4 n55 d4 n55 d4 n62 d4 n55 d4 n55 d4 n55 d4 n55 d4 xxsep d4 n55 d4 xxsep d4 xxsep d4 n55 d4 n55 d4 n62 d4 n59 d4 n55 d4 n55 d4 n55 d4 n55 d4 n55 d4 n55 d4 n55 d4 n55 d4 n55 d4 n55 d4 xxsep d4 n55 d4 n55 d4 xxsep d4 n55 d4 n55 d4 n55 d4 n62 d4 n55 d4 n55 d4 n62 d4 n55 d4 n55 d4 n59 d4 n55 d4 n55 d4 n55 d4 n55 d4 n55 d4 n55 d4 n55 d4 n55 d4 n55 d4 n55 d4 n55 d4 n59 d4 n55 d4 n55 d4 n55 d4 n62 d4 n55 d4 n62 d4 n55 d4 n55 d4 n55 d4 n59 d4 xxsep d4 n52 d4 n55 d4 n55 d4 n55 d4 n55 d4 n43 d4 n55 d4 n62 d4 n62 d4 n55 d4 n55 d4 xxsep d4 n59 d4 n55 d4 n62 d4 n55 d4 n55 d4 n55 d4 n62 d4 n62 d4 n59 d4 n55 d4 n55 d4 n55 d4 n55 d4 n43 d4 n55 d4 n62 d4 xxsep d4 xxsep d4 n55 d4 n55 d4 n55 d4 xxsep d4 n55 d4 n55 d4 n55 d4 n59 d4 n55 d4 n55 d4 n55 d4 n55 d4 n55 d4 n62 d4 n55 d4 n55 d4 n55 d4 n62 d4 n55 d4 n55 d4 n55 d4 n55 d4 n55 d4 n55 d4 n55 d4 xxsep d2 xxsep d4 n55 d4 n55 d4 xxsep d4 n55 d4 n55 d4 n55 d4 n55 d4 n55 d4 n55 d4 n55 d4 n55 d4 n55 d4 n55 d4 n55 d4 n55 d4 n55 d4 n55 d4 n55 d4 n62 d4 n55 d4 xxsep d4 n59 d4 n55 d4 n62 d4 n62 d4 n55 d4 n55 d4 n62 d4 n55 d4 n55 d4 xxsep d4 n62 d4 n55 d4 n59 d4 n52 d4 n55 d4 n62 d4 n55 d4 n55 d4 n55 d4 xxsep d4 n55 d4 n55 d4 n55 d4 n55 d4 n62 d4 xxsep d4 xxsep d2 n52 d4 n55 d4 n59 d4 n55 d4 n55 d4 n55 d4 n62 d4 xxsep d4 n55 d4 n55 d4 n55 d4 n55 d4 n55 d4 n55 d4 n55 d4 n55 d4 n55 d4 n55 d4 n55 d4 n55 d2 n55 d4 n55 d4 n55 d4 n55 d4 n59 d4 n55 d4 n59 d4 n62 d4 n55 d4 n55 d4 n55 d4 n55 d4 n55 d4 n55 d4 n59 d4 n62 d4 n55 d4 n55 d4 n62 d4 n59 d4 n62 d4 n55 d4 n55 d4 n55 d4 xxsep d4 n64 d4 n55 d4 n55 d4 n55 d4 n62 d4 n59 d4 n62 d4 n55 d4 n62 d4 n55 d4 n62 d4 n52 d4 n62 d4 n55 d4 n55 d4 xxsep d4 xxsep d4 n55 d4 n55 d4 n59 d4 n62 d4 n55 d4 n55 d4 n55 d4 n55 d4 n55 d4 n67 d4 n55 d4 n55 d4 n62 d4 n55 d4 n55 d4 n55 d4 n55 d4 n55 d4 n55 d4 n62 d4 n59 d4 n55 d4 xxsep d2 n55 d4 n55 d4 n55 d4 n62 d4 n55 d4 n55 d4 n55 d4 n59 d4 n55 d4 n55 d4 xxsep d4 n59 d4 n55 d4 n55 d4 n55 d4 n55 d4 n55 d4 n59 d4 n55 d4 n55 d4 n62 d4 n55 d4 n55 d4 n55 d4 n55 d4 n55 d4 n55 d4 n62 d4 n55 d4 n55 d4 n55 d4 n55 d4 n62 d4 n55 d4 n55 d4 n55 d4 n55 d4 n55 d2 xxsep d4 n55 d4 n59 d4 n55 d4 n59 d4 n55 d4 n55 d4 n55 d4 xxsep d2 n50 d4 n55 d4 n62 d4 n55 d4 n55 d4 n62 d4 n55 d4 n55 d4 n55 d4 n55 d4 n55 d4 xxsep d4 n55 d4 n55 d4 n55 d4 xxsep d4 n55 d4 n55 d4 n55 d4 xxsep d4 n55 d4 n62 d4 n62 d4 n43 d4 n55 d4 n59 d4 n55 d4 n55 d4 n55 d4 n55 d4 n59 d4 n55 d4 xxsep d2 n55 d4 xxsep d4 n55 d4 xxsep d4 n55 d4 n55 d4 n62 d4 n55 d4 n62 d4 n55 d4 n55 d4 n55 d4 n55 d4 n55 d4 n55 d4 n55 d4 n55 d4 n55 d4 n55 d4 n62 d4 n52 d4 n55 d4 n62 d4 n62 d4 n55 d4 n55 d4 n52 d4 n55 d4 n55 d4 n59 d4 n62 d4 n55 d4 n62 d4 xxsep d4 n55 d4 n55 d4 n55 d4 n55 d4 n55 d4 n55 d4 n59 d4 n55 d4 n62 d4 n62 d4 n55 d4 xxsep d2 n55 d2 xxsep d4 n55 d4 n55 d4 n62 d4 n62 d4 n62 d4 n62 d4 n55 d4 n55 d4 n55 d4 n55 d4 n55 d4 n55 d4 n55 d4 n55 d4 n55 d4 n55 d4 n55 d4 n50 d4 n55 d4 n55 d4 n55 d4 n55 d4 n55 d4 n55 d4 n55 d4 n55 d4 n55 d4 n55 d4 n59 d4 n55 d4 n43 d4 n55 d4 n62 d4 n52 d4 n55 d4 n62 d4 xxsep d2 n55 d4 xxsep d4 n55 d4 n55 d4 n55 d4 n55 d4 n55 d4 n55 d4 n55 d4 n62 d4 n55 d4 xxsep d4 n55 d4 n55 d4 n55 d4 n55 d4 n55 d4 n62 d4 n62 d4 n55 d4 n62 d4 n55 d4 n57 d4 n55 d4 n55 d4 n43 d4 xxsep d4 n59 d4 n55 d4 n62 d4 n62 d4 n55 d4 n62 d4 n55 d4 n55 d4 xxsep d4 n62 d4 n55 d4 n55 d4 n62 d4 n55 d4 n55 d4 n62 d4 n55 d4 n55 d4 xxsep d4 n62 d4 n55 d4 n59 d4 n55 d4 n62 d4 n43 d4 n55 d4 n62 d4 n55 d4 n55 d4 xxsep d4 xxsep xxsep d4 n62 d4 n55 d4 n62 d4 n55 d4 n62 d4 xxsep d4 n55 d4 n55 d4 n55 d4 xxsep d4 n62 d4 xxsep d4 n55 d4 n55 d4 n55 d4 xxsep d4 n59 d4 n55 d4 n55 d4 n55 d4 n55 d4 n55 d4 n55 d4 n55 d4 n55 d4 n62 d4 n55 d4 n52 d4 n55 d4 n55 d4 n62 d4 n55 d4 n62 d4 n55 d4 n55 d4 n52 d4 xxsep d4 n59 d4 n55 d4 n62 d4 n55 d4 n55 d4 n55 d4 n62 d4 n62 d4 xxsep d2 xxsep d4 n55 d4 n55 d4 n59 d4 xxsep d4 n62 d4 n55 d4 n55 d4 n55 d4 n55 d4 n55 d4 n55 d4 n62 d4 n55 d4 n55 d4 n55 d4 n55 d4 n55 d4 n55 d4 n62 d4 n55 d4 n55 d4 n55 d4 n55 d4 n59 d4 n55 d4 n55 d4 n62 d4 xxsep d2 n55 d4 n55 d4 n62 d4 n62 d4 n55 d4 n55 d4 n55 d4 n55 d4 n55 d4 n55 d4 n62 d4 n55 d4 n55 d4 n55 d4 n62 d4 n55 d4 n55 d4 n55 d4 n55 d4 xxsep d4 n55 d4 n59 d4 n62 d4 n55 d4 n55 d4 n64 d4 n59 d4 n55 d4 n55 d4 n55 d4 n59 d4 n55 d4 n62 d4 n52 d4 n55 d4 n55 d4 n55 d4 n55 d4 n55 d4 n52 d4 n55 d4 xxsep d4 n55 d4 n55 d4 n55 d4 n55 d4 n55 d4 n55 d4 n62 d4 n55 d4 n55 d4 n55 d4 n55 d4 n55 d4 n62 d4 n43 d4 xxsep d4 n55 d2 n55 d4 xxsep d4 n55 d4 n55 d4 n55 d4 xxsep d4 n55 d4 n55 d4 xxsep d4 n55 d4 n55 d4 n55 d4 n59 d4 n55 d4 n55 d4 n55 d4 n59 d4 n55 d4 n55 d4 n62 d4 n55 d4 xxsep d4 n55 d4 n55 d4 n55 d4 n55 d4 n55 d4\n",
      "Non midi note detected. Only returning valid portion. Index, seed 862 (1023, 2)\n"
     ]
    }
   ],
   "source": [
    "# Convert to music21\n",
    "new_song_ints = mapping.numericalize(new_song_str.split(\" \"))\n",
    "new_song_ints = np.array(new_song_ints)\n",
    "\n",
    "print(new_song_ints)\n",
    "print(mapping.textify(new_song_ints))\n",
    "\n",
    "new_song = utils.from_polyphonic_encoding(new_song_ints, mapping, bpm=100)\n",
    "path = Path(\"generated_song_bach.mid\")\n",
    "utils.write_midi(new_song, path)\n",
    "utils.write_musicxml(new_song, \"generated_song_bach.musicxml\")"
   ]
  },
  {
   "cell_type": "code",
   "execution_count": 9,
   "metadata": {},
   "outputs": [
    {
     "name": "stderr",
     "output_type": "stream",
     "text": [
      "Der Befehl \"musescore4portable\" ist entweder falsch geschrieben oder\n",
      "konnte nicht gefunden werden.\n"
     ]
    }
   ],
   "source": [
    "# Open song in MuseScore (Linux if installed)\n",
    "!musescore4portable {path.absolute()}"
   ]
  }
 ],
 "metadata": {
  "kernelspec": {
   "display_name": "Python 3 (ipykernel)",
   "language": "python",
   "name": "python3"
  },
  "language_info": {
   "codemirror_mode": {
    "name": "ipython",
    "version": 3
   },
   "file_extension": ".py",
   "mimetype": "text/x-python",
   "name": "python",
   "nbconvert_exporter": "python",
   "pygments_lexer": "ipython3",
   "version": "3.9.13"
  },
  "vscode": {
   "interpreter": {
    "hash": "9052d763eeeacaf5da08a840d251d734fa4deea148f97d28b11062c8c516292f"
   }
  }
 },
 "nbformat": 4,
 "nbformat_minor": 4
}
