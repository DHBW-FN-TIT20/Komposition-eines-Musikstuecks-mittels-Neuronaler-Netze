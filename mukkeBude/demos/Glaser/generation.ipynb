{
 "cells": [
  {
   "cell_type": "markdown",
   "id": "356c3e5c-9693-4d96-8a4e-01e02a157c36",
   "metadata": {},
   "source": [
    "# Generieren von Daten\n",
    "In diesem Notebook wird mithilfe des erstellten Modell's Musik generiert"
   ]
  },
  {
   "cell_type": "code",
   "execution_count": 1,
   "id": "00691400-1ac1-4963-8df2-243cbabe56f0",
   "metadata": {},
   "outputs": [
    {
     "name": "stderr",
     "output_type": "stream",
     "text": [
      "2023-02-06 09:24:14.956463: W tensorflow/stream_executor/platform/default/dso_loader.cc:64] Could not load dynamic library 'libcudart.so.11.0'; dlerror: libcudart.so.11.0: cannot open shared object file: No such file or directory\n",
      "2023-02-06 09:24:14.956489: I tensorflow/stream_executor/cuda/cudart_stub.cc:29] Ignore above cudart dlerror if you do not have a GPU set up on your machine.\n"
     ]
    }
   ],
   "source": [
    "# Needed imports\n",
    "import numpy as np\n",
    "import json\n",
    "import os\n",
    "from tensorflow import keras\n",
    "from pathlib import Path\n",
    "\n",
    "# Needed variabel\n",
    "model_path = Path(os.path.abspath('')) / \"model.h5\"\n",
    "datasets_folder = Path(os.path.abspath('')) / 'dataset'\n",
    "mapping_path = datasets_folder / 'mappings.json'\n",
    "melody_path = datasets_folder / 'melody.txt'\n",
    "sequence_length = 64"
   ]
  },
  {
   "cell_type": "code",
   "execution_count": 2,
   "id": "95165563",
   "metadata": {},
   "outputs": [
    {
     "name": "stdout",
     "output_type": "stream",
     "text": [
      "/workspaces/Komposition-eines-Musikstuecks-mittels-Neuronaler-Netze/demos/model.h5\n",
      "/workspaces/Komposition-eines-Musikstuecks-mittels-Neuronaler-Netze/demos/dataset\n",
      "/workspaces/Komposition-eines-Musikstuecks-mittels-Neuronaler-Netze/demos/dataset/mappings.json\n"
     ]
    }
   ],
   "source": [
    "print(mapping_path)\n",
    "print(model_path)\n",
    "print(datasets_folder)\n",
    "print(melody_path)"
   ]
  },
  {
   "attachments": {},
   "cell_type": "markdown",
   "id": "51529034-35f7-43f8-a0ab-758d70eb4dcf",
   "metadata": {},
   "source": [
    "## Lade das modell und die Mappings"
   ]
  },
  {
   "cell_type": "code",
   "execution_count": 3,
   "id": "73ef9e5b-87d7-4ffb-ae7a-91510651b0be",
   "metadata": {},
   "outputs": [
    {
     "name": "stderr",
     "output_type": "stream",
     "text": [
      "2023-02-06 09:24:16.574025: W tensorflow/stream_executor/platform/default/dso_loader.cc:64] Could not load dynamic library 'libcuda.so.1'; dlerror: libcuda.so.1: cannot open shared object file: No such file or directory\n",
      "2023-02-06 09:24:16.574053: W tensorflow/stream_executor/cuda/cuda_driver.cc:269] failed call to cuInit: UNKNOWN ERROR (303)\n",
      "2023-02-06 09:24:16.574076: I tensorflow/stream_executor/cuda/cuda_diagnostics.cc:156] kernel driver does not appear to be running on this host (5193325dcd0b): /proc/driver/nvidia/version does not exist\n",
      "2023-02-06 09:24:16.574344: I tensorflow/core/platform/cpu_feature_guard.cc:142] This TensorFlow binary is optimized with oneAPI Deep Neural Network Library (oneDNN) to use the following CPU instructions in performance-critical operations:  AVX2 FMA\n",
      "To enable them in other operations, rebuild TensorFlow with the appropriate compiler flags.\n"
     ]
    },
    {
     "name": "stdout",
     "output_type": "stream",
     "text": [
      "Model: \"model\"\n",
      "_________________________________________________________________\n",
      "Layer (type)                 Output Shape              Param #   \n",
      "=================================================================\n",
      "input_1 (InputLayer)         [(None, None, 18)]        0         \n",
      "_________________________________________________________________\n",
      "lstm (LSTM)                  (None, 256)               281600    \n",
      "_________________________________________________________________\n",
      "dropout (Dropout)            (None, 256)               0         \n",
      "_________________________________________________________________\n",
      "dense (Dense)                (None, 18)                4626      \n",
      "=================================================================\n",
      "Total params: 286,226\n",
      "Trainable params: 286,226\n",
      "Non-trainable params: 0\n",
      "_________________________________________________________________\n"
     ]
    }
   ],
   "source": [
    "model = keras.models.load_model(model_path)\n",
    "model.summary()"
   ]
  },
  {
   "cell_type": "code",
   "execution_count": 4,
   "id": "377113bd",
   "metadata": {},
   "outputs": [
    {
     "name": "stdout",
     "output_type": "stream",
     "text": [
      "{'/': 0, '55': 1, '57': 2, '60': 3, '62': 4, '64': 5, '65': 6, '67': 7, '68': 8, '69': 9, '71': 10, '72': 11, '74': 12, '76': 13, '77': 14, '81': 15, '_': 16, 'r': 17}\n"
     ]
    }
   ],
   "source": [
    "with open(mapping_path, 'r') as f:\n",
    "    mappings = json.load(f)\n",
    "\n",
    "print(mappings)"
   ]
  },
  {
   "cell_type": "code",
   "execution_count": 5,
   "id": "67797dcb",
   "metadata": {},
   "outputs": [],
   "source": [
    "start_symbols = [\"/\"] * sequence_length"
   ]
  },
  {
   "attachments": {},
   "cell_type": "markdown",
   "id": "2745d45e",
   "metadata": {},
   "source": [
    "## Erstellen des anfangsseeds\n",
    "Jede Musikgenerierung benötigt eine Anfangsmellodie. Diese sollte am besten aus ganzen Takten bestehen"
   ]
  },
  {
   "cell_type": "code",
   "execution_count": 6,
   "id": "ca35deff",
   "metadata": {},
   "outputs": [],
   "source": [
    "start_melodie = \"72 _ _ _ _ _ 72 _ _ _ _ _ 72 _ 71 _\""
   ]
  },
  {
   "attachments": {},
   "cell_type": "markdown",
   "id": "5291cdce",
   "metadata": {},
   "source": [
    "## Generiere ein Lied\n",
    "\n",
    "| Variable | Beschreibung |\n",
    "| -------- | ------------ |\n",
    "| `seed` | Start der Melodie, welche fortgeführt werden soll. Zusätzlich enthält dies die Noten, welches von der KI vorgeschlagen wird |\n",
    "| `max_num_steps` | Die maximale anzahl an Schritten wo die KI neue Noten ausgeben soll |\n",
    "| `max_squenece_length` | Wie viele Noten möchte man vom seed / start_melodie der KI vorgeben |\n",
    "| `temperature` | Man kann hier defenieren, wie stark wir uns auf die Noten der \"fixieren\" möchten. Möchte man wirklich nur die Noten nehmen wo die KI am meisten denkt, dass diese verwendet werden soll oder ist man da mehr \"flexibel\"\n",
    "\n",
    "Bei `temperature` ist die Abhänfigkeit so: </br>\n",
    " value => infinity --> Alle Wahrscheinlichkeiten, welche die KI ausspuckt, haben den gleichen Wert. Also wird die Note komplett zufällig ausgewählt</br>\n",
    " value => 0 --> Das was die höchste Wahrscheinlichkeit hat, wird definitiev verwendet</br>\n",
    " value => 1 --> Man verwendet genau die Wahrscheinlichkeiten, welche die KI ausgespuckt hat, um die Note / das Symbol festzulegen</br>"
   ]
  },
  {
   "cell_type": "code",
   "execution_count": 7,
   "id": "a841bef1",
   "metadata": {},
   "outputs": [
    {
     "name": "stdout",
     "output_type": "stream",
     "text": [
      "['/', '/', '/', '/', '/', '/', '/', '/', '/', '/', '/', '/', '/', '/', '/', '/', '/', '/', '/', '/', '/', '/', '/', '/', '/', '/', '/', '/', '/', '/', '/', '/', '/', '/', '/', '/', '/', '/', '/', '/', '/', '/', '/', '/', '/', '/', '/', '/', '/', '/', '/', '/', '/', '/', '/', '/', '/', '/', '/', '/', '/', '/', '/', '/', '72', '_', '_', '_', '_', '_', '72', '_', '_', '_', '_', '_', '72', '_', '71', '_']\n"
     ]
    }
   ],
   "source": [
    "# Add start symbols to the start of the melody (this shows that the melody is starting, like the training data)\n",
    "seed = start_symbols + start_melodie.split()\n",
    "print(seed)"
   ]
  },
  {
   "cell_type": "code",
   "execution_count": 8,
   "id": "0623ccd8",
   "metadata": {},
   "outputs": [
    {
     "name": "stdout",
     "output_type": "stream",
     "text": [
      "[0, 0, 0, 0, 0, 0, 0, 0, 0, 0, 0, 0, 0, 0, 0, 0, 0, 0, 0, 0, 0, 0, 0, 0, 0, 0, 0, 0, 0, 0, 0, 0, 0, 0, 0, 0, 0, 0, 0, 0, 0, 0, 0, 0, 0, 0, 0, 0, 0, 0, 0, 0, 0, 0, 0, 0, 0, 0, 0, 0, 0, 0, 0, 0, 11, 16, 16, 16, 16, 16, 11, 16, 16, 16, 16, 16, 11, 16, 10, 16]\n"
     ]
    }
   ],
   "source": [
    "# map the seed to integers\n",
    "seed = [mappings[symbol] for symbol in seed]\n",
    "print(seed)"
   ]
  },
  {
   "cell_type": "code",
   "execution_count": 9,
   "id": "2134d0fb",
   "metadata": {},
   "outputs": [
    {
     "name": "stderr",
     "output_type": "stream",
     "text": [
      "2023-02-06 09:24:17.555555: I tensorflow/compiler/mlir/mlir_graph_optimization_pass.cc:185] None of the MLIR Optimization Passes are enabled (registered 2)\n"
     ]
    }
   ],
   "source": [
    "# Start the melody generation\n",
    "max_num_steps = 500     # max number of notes we want to generate\n",
    "temperature = 1.0       # higher temperature, more random notes. lower temperature, more common notes\n",
    "output_melody = start_melodie.split()\n",
    "\n",
    "for _ in range(max_num_steps):\n",
    "    # limit the seed to max_squenece_length\n",
    "    # cut off the beginning of the seed if it is longer than max_sequence_length\n",
    "    seed = seed[-sequence_length:]\n",
    "\n",
    "    # One-Hot the seed\n",
    "    onehot_seed = keras.utils.to_categorical(seed, num_classes=len(mappings))\n",
    "\n",
    "    # Reshape the seed so that it can be fed to the model\n",
    "    onehot_seed = onehot_seed[np.newaxis, ...]\n",
    "\n",
    "    # Make a prediction\n",
    "    probabilities = model.predict(onehot_seed)[0]\n",
    "\n",
    "    # Apply the temperature to the probabilities\n",
    "    predictions = np.log(probabilities) / temperature\n",
    "    probabilities = np.exp(predictions) / np.sum(np.exp(predictions))   # normalize the probabilities. This is like applying softmax\n",
    "\n",
    "    # Get the index of the predicted note\n",
    "    index = np.random.choice(len(mappings), p=probabilities)\n",
    "\n",
    "    # Update the seed\n",
    "    seed.append(index)\n",
    "\n",
    "    # Map the index to the note\n",
    "    output_symbol = [k for k, v in mappings.items() if v == index][0]\n",
    "\n",
    "    # Stop if we have reached the end of the melody\n",
    "    if output_symbol == \"/\":\n",
    "        break\n",
    "\n",
    "    # Update the output melody\n",
    "    output_melody.append(output_symbol)\n"
   ]
  },
  {
   "cell_type": "code",
   "execution_count": 10,
   "id": "365b7890",
   "metadata": {},
   "outputs": [
    {
     "name": "stdout",
     "output_type": "stream",
     "text": [
      "['72', '_', '_', '_', '_', '_', '72', '_', '_', '_', '_', '_', '72', '_', '71', '_', '72', '_', '68', '_', '69', '_', '72', '_', '71', '_', '72', '_', '74', '_', '72', '_', '_', '_', '72', '_', '72', '_', '_', '_', '69', '_', '_', '_', '71', '_', '72', '_', '74', '_', '72', '_', '_', '_', '67', '_', '_', '_', '_', '_', '62', '_', '_', '_', '_', '_', '67', '_', '_', '_', '67', '_', '67', '_', '_', '_', '69', '_', '65', '_', '_', '_', '_', '_', '67', '_', '_', '_', '_', '_', '64', '_', '_', '_', '_', '_', '67', '_', '_', '_', '_', '_', '67', '_', '_', '_', '57', '_', '57', '_', '_', '_', '60', '_', '60', '_', '_', '_', '_', '_', '_', '_', '_', '_', '_', '_']\n"
     ]
    }
   ],
   "source": [
    "print(output_melody)"
   ]
  },
  {
   "cell_type": "code",
   "execution_count": 11,
   "id": "754619cd",
   "metadata": {},
   "outputs": [],
   "source": [
    "# Save the melody\n",
    "with open(melody_path, 'w') as f:\n",
    "    json.dump(output_melody, f)"
   ]
  }
 ],
 "metadata": {
  "kernelspec": {
   "display_name": "komposition-eines-musikstuecks-mittels-neu-zath_kMP-py3.9",
   "language": "python",
   "name": "python3"
  },
  "language_info": {
   "codemirror_mode": {
    "name": "ipython",
    "version": 3
   },
   "file_extension": ".py",
   "mimetype": "text/x-python",
   "name": "python",
   "nbconvert_exporter": "python",
   "pygments_lexer": "ipython3",
   "version": "3.9.16"
  },
  "vscode": {
   "interpreter": {
    "hash": "5fb9a4554ddec3f0799123ac4cc7a41db9f945942458fc16a1fb805237e5a9a6"
   }
  }
 },
 "nbformat": 4,
 "nbformat_minor": 5
}
