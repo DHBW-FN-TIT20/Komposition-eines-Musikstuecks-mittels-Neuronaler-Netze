{
 "cells": [
  {
   "attachments": {},
   "cell_type": "markdown",
   "metadata": {},
   "source": [
    "Convert to MusicXML and MIDI"
   ]
  },
  {
   "cell_type": "code",
   "execution_count": 21,
   "metadata": {},
   "outputs": [
    {
     "name": "stdout",
     "output_type": "stream",
     "text": [
      "0\n",
      "Soprano\n",
      "69 0.5|71 0.5|73 1.0|74 1.0|76 1.0|74 1.0|73 1.0|71 1.0|73 1.0|73 1.0|73 1.0|71 0.5|73 0.5|74 0.5|73 0.5|71 1.0|69 1.0|71 1.0|69 1.0|69 1.0|71 1.0|73 1.0|74 1.0|73 1.0|71 1.0|73 1.0|71 1.0|71 1.0|73 1.0|74 1.0|76 1.0|74 1.0|73 1.0|71 1.0|73 1.0|73 1.0|73 1.0|71 0.5|73 0.5|74 0.5|73 0.5|71 1.0|69 0.5|66 0.5|68 1.0|69 1.0|1\n",
      "Alto\n",
      "64 1.0|69 1.0|69 1.0|68 1.0|66 0.5|68 0.5|69 1.0|68 1.0|69 1.0|64 1.0|66 1.0|66 0.5|64 0.5|62 1.0|64 1.0|64 0.5|69 1.0|68 0.5|64 1.0|64 1.0|64 1.0|64 1.0|62 0.5|64 0.5|66 1.0|66 0.5|64 0.5|64 0.5|62 0.25|61 0.25|62 1.0|64 1.0|64 1.0|66 1.0|68 1.0|66 1.0|64 1.0|62 0.5|66 0.25|65 0.25|66 1.0|64 1.0|66 1.0|66 0.5|64 0.5|62 1.0|64 1.0|64 0.5|66 0.5|64 1.0|64 1.0|2\n",
      "Tenor\n",
      "61 0.5|62 0.5|64 1.0|66 1.0|59 0.5|61 0.5|62 1.0|64 1.0|64 1.0|64 1.0|57 1.0|57 3.0|62 0.5|59 0.5|64 0.5|62 0.25|61 0.25|62 1.0|61 1.0|61 1.0|56 1.0|58 1.0|59 1.0|58 1.0|59 1.0|58 1.0|54 1.0|59 1.0|57 1.0|57 1.0|59 1.0|57 0.5|59 0.5|61 1.0|54 0.5|56 0.5|58 1.0|57 1.0|57 2.0|59 1.0|56 1.0|57 0.5|62 0.5|59 1.0|61 1.0|3\n",
      "Bass\n",
      "45 1.0|57 0.5|56 0.5|54 1.0|52 1.0|47 1.0|49 0.5|50 0.5|52 1.0|45 1.0|57 0.5|56 0.5|54 0.5|52 0.5|50 0.5|49 0.5|47 0.5|45 0.5|44 1.0|49 0.5|45 0.5|52 1.0|45 1.0|45 1.0|52 1.0|50 0.5|49 0.5|47 1.0|52 0.5|54 0.5|55 1.0|54 1.0|47 1.0|56 1.0|57 0.5|56 0.5|54 1.0|52 1.0|54 0.5|56 0.5|57 0.5|58 0.5|59 1.0|54 1.0|57 0.5|56 0.5|54 0.5|52 0.5|50 0.5|49 0.5|47 0.5|49 0.5|50 1.0|49 0.5|50 0.5|52 1.0|45 1.0|"
     ]
    }
   ],
   "source": [
    "import music21 as m21\n",
    "import pandas as pd\n",
    "import os\n",
    "\n",
    "def convert_song_to_midi(song : m21.stream.Score):\n",
    "    sXML = m21.stream.Stream()\n",
    "    sMIDI = m21.stream.Stream()\n",
    "    for part_id, part in enumerate(song.parts):\n",
    "        print(part_id)\n",
    "        sXML.append(part)\n",
    "        p = m21.stream.Part()\n",
    "        p.insert(m21.instrument.Bagpipes())\n",
    "        print(part.partName)\n",
    "        for event in part.flat.notesAndRests:\n",
    "            if isinstance(event, m21.note.Note):\n",
    "                print(event.pitch.midi, end=' ')\n",
    "                print(event.duration.quarterLength, end='|')\n",
    "                p.append(m21.note.Note(int(event.pitch.midi), quarterLength=event.duration.quarterLength))\n",
    "            else:\n",
    "                print(\"r\", end='')\n",
    "                print(event.duration.quarterLength)\n",
    "                p.append(m21.note.Rest(quarterLength=event.duration.quarterLength))\n",
    "        sMIDI.append(p)\n",
    "        \n",
    "    sXML.write('musicxml', f'{song.metadata.bestTitle}')\n",
    "    sMIDI.write('midi', f'{song.metadata.bestTitle}.mid')\n",
    "    \n",
    "paths = m21.corpus.getComposer('bach')\n",
    "songs = []\n",
    "# for path in paths[0]:\n",
    "song = m21.corpus.parse(paths[5])\n",
    "songs.append(song)\n",
    "convert_song_to_midi(songs[0])"
   ]
  },
  {
   "cell_type": "code",
   "execution_count": 20,
   "metadata": {},
   "outputs": [
    {
     "name": "stdout",
     "output_type": "stream",
     "text": [
      "Processing bwv104.6.mxl...\n",
      "The dataset.csv file has been written!\n"
     ]
    }
   ],
   "source": [
    "part_indexes = {\n",
    "    0: 'soprano',\n",
    "    1: 'alto',\n",
    "    2: 'tenor',\n",
    "    3: 'bass'    \n",
    "}\n",
    "\n",
    "def make_measure_chunks(lst, n):\n",
    "    \"\"\"Yield successive n-sized chunks from lst.\"\"\"\n",
    "    return [lst[i:i+n] for i in range(len(lst)-n+1)]\n",
    "\n",
    "def to_dataset(song:m21.stream.Score):\n",
    "    with open('dataset.csv', 'w') as fd:\n",
    "        fd.write('sixteenth,soprano,alto,tenor,bass,file\\n')\n",
    "        print(f'Processing {song.metadata.bestTitle}...')\n",
    "        parts = {}\n",
    "        # iterate over the 4 parts\n",
    "        for part_id, part in enumerate(song.parts):\n",
    "            # Get all the measures in this part\n",
    "            measures = [mm for mm in part.getElementsByClass('Measure') if mm.number != 0]\n",
    "            # Group them into groups of 4\n",
    "            measure_chunks = make_measure_chunks(measures, 4)\n",
    "            part_chunks = []\n",
    "            for chunk in measure_chunks:\n",
    "                # For every chunk of 4 measures\n",
    "                chunk_encoding = {(offset/4.0): '--' for offset in range(0, 64)}\n",
    "                for measure_id, measure in enumerate(chunk):\n",
    "                    # Iterate over each measure\n",
    "                    for ev in measure:\n",
    "                        # And every note within the measure\n",
    "                        offs = 4.0 * measure_id + ev.offset\n",
    "                        if isinstance(ev, m21.chord.Chord):                        \n",
    "                            if offs in chunk_encoding:\n",
    "                                chunk_encoding[offs] = ev[0].nameWithOctave\n",
    "                        elif isinstance(ev, m21.note.Note):\n",
    "                            if offs in chunk_encoding:\n",
    "                                chunk_encoding[offs] = ev.nameWithOctave                        \n",
    "                        elif isinstance(ev, m21.note.Rest):                        \n",
    "                            if offs in chunk_encoding:\n",
    "                                chunk_encoding[offs] = 'Rest'\n",
    "                                \n",
    "                part_chunks.append(list(chunk_encoding.values()))\n",
    "            parts[part_indexes[part_id]] = part_chunks\n",
    "            \n",
    "        for chunk_id in range(len(parts['soprano'])):\n",
    "            dfdict = {}\n",
    "            for part, chunks in parts.items():\n",
    "                dfdict[part] = chunks[chunk_id]\n",
    "            chunk_name = f'{song.metadata.bestTitle}_chunk_{chunk_id}'\n",
    "            dfdict['file'] = chunk_name            \n",
    "            df = pd.DataFrame(dfdict)\n",
    "            df.to_csv(fd, header=False)\n",
    "    print('The dataset.csv file has been written!')\n",
    "    \n",
    "paths = m21.corpus.getComposer('bach')\n",
    "songs = []\n",
    "# for path in paths[0]:\n",
    "song = m21.corpus.parse(paths[5])\n",
    "songs.append(song)\n",
    "to_dataset(songs[0])"
   ]
  }
 ],
 "metadata": {
  "kernelspec": {
   "display_name": "Python 3",
   "language": "python",
   "name": "python3"
  },
  "language_info": {
   "codemirror_mode": {
    "name": "ipython",
    "version": 3
   },
   "file_extension": ".py",
   "mimetype": "text/x-python",
   "name": "python",
   "nbconvert_exporter": "python",
   "pygments_lexer": "ipython3",
   "version": "3.9.13"
  },
  "orig_nbformat": 4,
  "vscode": {
   "interpreter": {
    "hash": "11938c6bc6919ae2720b4d5011047913343b08a43b18698fd82dedb0d4417594"
   }
  }
 },
 "nbformat": 4,
 "nbformat_minor": 2
}
