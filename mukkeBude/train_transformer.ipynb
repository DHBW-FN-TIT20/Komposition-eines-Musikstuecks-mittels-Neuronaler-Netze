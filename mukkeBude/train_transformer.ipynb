{
 "cells": [
  {
   "cell_type": "code",
   "execution_count": null,
   "metadata": {},
   "outputs": [],
   "source": [
    "!export LD_LIBRARY_PATH=$LD_LIBRARY_PATH:$CONDA_PREFIX/lib/\n",
    "!echo $LD_LIBRARY_PATH"
   ]
  },
  {
   "cell_type": "code",
   "execution_count": 1,
   "metadata": {},
   "outputs": [
    {
     "name": "stderr",
     "output_type": "stream",
     "text": [
      "d:\\Projekte\\Python\\Tensorflow\\Komposition-eines-Musikstuecks-mittels-Neuronaler-Netze\\.venv\\lib\\site-packages\\tqdm\\auto.py:22: TqdmWarning: IProgress not found. Please update jupyter and ipywidgets. See https://ipywidgets.readthedocs.io/en/stable/user_install.html\n",
      "  from .autonotebook import tqdm as notebook_tqdm\n"
     ]
    },
    {
     "ename": "AttributeError",
     "evalue": "'_io.TextIOWrapper' object has no attribute 'append'",
     "output_type": "error",
     "traceback": [
      "\u001b[1;31m---------------------------------------------------------------------------\u001b[0m",
      "\u001b[1;31mAttributeError\u001b[0m                            Traceback (most recent call last)",
      "Cell \u001b[1;32mIn[1], line 8\u001b[0m\n\u001b[0;32m      6\u001b[0m mapping \u001b[39m=\u001b[39m MusicMapping\u001b[39m.\u001b[39mcreate()\n\u001b[0;32m      7\u001b[0m mapping\u001b[39m.\u001b[39msave(\u001b[39m\"\u001b[39m\u001b[39mmapping.txt\u001b[39m\u001b[39m\"\u001b[39m)\n\u001b[1;32m----> 8\u001b[0m utils\u001b[39m.\u001b[39;49mcreate_train_data(\u001b[39m\"\u001b[39;49m\u001b[39m1234\u001b[39;49m\u001b[39m\"\u001b[39;49m, \u001b[39m\"\u001b[39;49m\u001b[39mraw_train_ds.txt\u001b[39;49m\u001b[39m\"\u001b[39;49m)\n\u001b[0;32m      9\u001b[0m utils\u001b[39m.\u001b[39mcreate_train_data(\u001b[39m\"\u001b[39m\u001b[39m5678\u001b[39m\u001b[39m\"\u001b[39m, \u001b[39m\"\u001b[39m\u001b[39mraw_train_ds.txt\u001b[39m\u001b[39m\"\u001b[39m)\n\u001b[0;32m     10\u001b[0m model \u001b[39m=\u001b[39m MukkeBudeTransformer(mapping)\n",
      "File \u001b[1;32md:\\Projekte\\Python\\Tensorflow\\Komposition-eines-Musikstuecks-mittels-Neuronaler-Netze\\mukkeBude\\utils.py:43\u001b[0m, in \u001b[0;36mcreate_train_data\u001b[1;34m(encoded_song, path, sequence_length)\u001b[0m\n\u001b[0;32m     41\u001b[0m \u001b[39mdef\u001b[39;00m \u001b[39mcreate_train_data\u001b[39m(encoded_song: \u001b[39mstr\u001b[39m, path:\u001b[39mstr\u001b[39m, sequence_length\u001b[39m=\u001b[39m\u001b[39m32\u001b[39m) \u001b[39m-\u001b[39m\u001b[39m>\u001b[39m \u001b[39mNone\u001b[39;00m:\n\u001b[0;32m     42\u001b[0m     \u001b[39mwith\u001b[39;00m \u001b[39mopen\u001b[39m(path, \u001b[39m'\u001b[39m\u001b[39ma\u001b[39m\u001b[39m'\u001b[39m) \u001b[39mas\u001b[39;00m f:\n\u001b[1;32m---> 43\u001b[0m         f\u001b[39m.\u001b[39;49mappend(\u001b[39mf\u001b[39m\u001b[39m\"\u001b[39m\u001b[39m{\u001b[39;00mencoded_song\u001b[39m}\u001b[39;00m\u001b[39m\\n\u001b[39;00m\u001b[39m\"\u001b[39m)\n",
      "\u001b[1;31mAttributeError\u001b[0m: '_io.TextIOWrapper' object has no attribute 'append'"
     ]
    }
   ],
   "source": [
    "from model import MukkeBudeTransformer\n",
    "from mapping import MusicMapping\n",
    "import utils\n",
    "import music21 as m21\n",
    "\n",
    "mapping = MusicMapping.create()\n",
    "mapping.save(\"mapping.txt\")\n",
    "utils.create_train_data(\"1234\", \"raw_train_ds.txt\")\n",
    "utils.create_train_data(\"5678\", \"raw_train_ds.txt\")\n",
    "model = MukkeBudeTransformer(mapping)\n",
    "model.loadDataset()\n",
    "model.getDataset()\n",
    "model.train()\n",
    "model.generate()"
   ]
  }
 ],
 "metadata": {
  "kernelspec": {
   "display_name": ".venv",
   "language": "python",
   "name": "python3"
  },
  "language_info": {
   "codemirror_mode": {
    "name": "ipython",
    "version": 3
   },
   "file_extension": ".py",
   "mimetype": "text/x-python",
   "name": "python",
   "nbconvert_exporter": "python",
   "pygments_lexer": "ipython3",
   "version": "3.9.13"
  },
  "vscode": {
   "interpreter": {
    "hash": "9052d763eeeacaf5da08a840d251d734fa4deea148f97d28b11062c8c516292f"
   }
  }
 },
 "nbformat": 4,
 "nbformat_minor": 4
}
