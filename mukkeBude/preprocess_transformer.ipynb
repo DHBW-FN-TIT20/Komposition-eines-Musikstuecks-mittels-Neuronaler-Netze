{
 "cells": [
  {
   "attachments": {},
   "cell_type": "markdown",
   "metadata": {},
   "source": [
    "Get Bach song from music21 corpus and encode/decode in slower tempo"
   ]
  },
  {
   "cell_type": "code",
   "execution_count": 3,
   "metadata": {},
   "outputs": [
    {
     "name": "stderr",
     "output_type": "stream",
     "text": [
      "d:\\Projekte\\Python\\Tensorflow\\Komposition-eines-Musikstuecks-mittels-Neuronaler-Netze\\mukkeBude\\utils.py:74: StreamIteratorInefficientWarning: highestTime is not defined on StreamIterators. Call .stream() first for efficiency\n",
      "  highest_time = max(song.flat.getElementsByClass('Note').highestTime, song.flat.getElementsByClass('Chord').highestTime)\n"
     ]
    },
    {
     "name": "stdout",
     "output_type": "stream",
     "text": [
      "xxbos xxpad n65 d4 n65 d4 n60 d4 n57 d4 n53 d4 xxsep d4 n72 d4 n67 d2 n60 d4 n55 d4 n52 d4 xxsep d2 n60 d2 xxsep d2 n69 d4 n65 d2 n60 d4 n57 d4 n53 d4 xxsep d2 n53 d2 xxsep d2 n65 d4 n62 d4 n57 d2 n57 d4 n50 d4 xxsep d2 n53 d2 xxsep d2 n72 d4 n65 d4 n57 d2 n57 d4 n45 d4 xxsep d2 n60 d2 xxsep d2 n74 d4 n70 d4 n65 d1 n53 d4 n46 d2 xxsep d1 n70 d1 xxsep d1 n69 d1 n48 d2 xxsep d1 n67 d1 xxsep d1 n74 d4 n70 d4 n65 d2 n65 d4 n50 d2 xxsep d2 n67 d2 n52 d2 xxsep d2 n72 d4 n69 d4 n69 d4 n65 d4 n53 d4 xxsep d4 n72 d4 n69 d4 n69 d4 n65 d4 n53 d4 xxsep d4 n74 d4 n70 d4 n65 d2 n65 d4 n58 d4 xxsep d2 n67 d1 xxsep d1 n69 d1 xxsep d1 n76 d4 n70 d2 n70 d4 n67 d4 n57 d2 xxsep d2 n72 d1 n55 d2 xxsep d1 n70 d1 xxsep d1 n77 d4 n72 d2 n69 d2 n65 d2 n57 d2 xxsep d2 n74 d2 n67 d2 n62 d2 n59 d2 xxsep d2 n76 d4 n72 d2 n67 d2 n64 d4 n60 d4 xxsep d2 n72 d2 n67 d2 xxsep d2 n74 d4 n72 d2 n69 d4 n65 d2 n53 d4 xxsep d2 n71 d1 n64 d2 xxsep d1 n69 d1 xxsep d1 n74 d4 n71 d4 n67 d4 n62 d4 n55 d4 xxsep d4 n72 d4 n72 d4 n67 d4 n64 d4 n48 d4 xxsep d4 n69 d4 n65 d4 n65 d4 n60 d2 n53 d4 xxsep d2 n57 d2 xxsep d2 n74 d4 n65 d2 n65 d4 n53 d2 n46 d4 xxsep d2 n70 d2 n55 d2 xxsep d2 n72 d4 n69 d2 n64 d4 n57 d4 n48 d4 xxsep d2 n67 d2 xxsep d2 n70 d4 n65 d2 n65 d2 n57 d2 n50 d2 xxsep d2 n67 d2 n60 d2 n55 d2 n52 d2 xxsep d2 n69 d4 n65 d2 n60 d2 n57 d2 n53 d4 xxsep d2 n65 d2 n60 d2 n53 d2 xxsep d2 n67 d8 n65 d4 n60 d2 n55 d2 n48 d8 xxsep d2 n57 d1 n57 d2 xxsep d1 n53 d1 xxsep d1 n64 d4 n60 d2 n58 d4 xxsep d2 n60 d1 xxsep d1 n60 d1 xxsep d1 n65 d4 n60 d4 n57 d4 n57 d4 n41 d4 xxsep d4 n65 d4 n65 d4 n60 d4 n57 d4 n53 d4 xxsep d4 n72 d4 n67 d2 n60 d4 n55 d4 n52 d4 xxsep d2 n60 d2 xxsep d2 n69 d4 n65 d2 n60 d4 n57 d4 n53 d4 xxsep d2 n53 d2 xxsep d2 n65 d4 n62 d4 n57 d2 n57 d4 n50 d4 xxsep d2 n53 d2 xxsep d2 n72 d4 n65 d4 n57 d2 n57 d4 n45 d4 xxsep d2 n60 d2 xxsep d2 n74 d4 n70 d4 n65 d1 n53 d4 n46 d2 xxsep d1 n70 d1 xxsep d1 n69 d1 n48 d2 xxsep d1 n67 d1 xxsep d1 n74 d4 n70 d4 n65 d2 n65 d4 n50 d2 xxsep d2 n67 d2 n52 d2 xxsep d2 n72 d4 n69 d4 n69 d4 n65 d4 n53 d4 xxsep d4 n72 d4 n69 d4 n69 d4 n65 d4 n53 d4 xxsep d4 n74 d4 n70 d4 n65 d2 n65 d4 n58 d4 xxsep d2 n67 d1 xxsep d1 n69 d1 xxsep d1 n76 d4 n70 d2 n70 d4 n67 d4 n57 d2 xxsep d2 n72 d1 n55 d2 xxsep d1 n70 d1 xxsep d1 n77 d4 n72 d2 n69 d2 n65 d2 n57 d2 xxsep d2 n74 d2 n67 d2 n62 d2 n59 d2 xxsep d2 n76 d4 n72 d2 n67 d2 n64 d4 n60 d4 xxsep d2 n72 d2 n67 d2 xxsep d2 n74 d4 n72 d2 n69 d4 n65 d2 n53 d4 xxsep d2 n71 d1 n64 d2 xxsep d1 n69 d1 xxsep d1 n74 d4 n71 d4 n67 d4 n62 d4 n55 d4 xxsep d4 n72 d4 n72 d4 n67 d4 n64 d4 n48 d4 xxsep d4 n69 d4 n65 d4 n65 d4 n60 d2 n53 d4 xxsep d2 n57 d2 xxsep d2 n74 d4 n65 d2 n65 d4 n53 d2 n46 d4 xxsep d2 n70 d2 n55 d2 xxsep d2 n72 d4 n69 d2 n64 d4 n57 d4 n48 d4 xxsep d2 n67 d2 xxsep d2 n70 d4 n65 d2 n65 d2 n57 d2 n50 d2 xxsep d2 n67 d2 n60 d2 n55 d2 n52 d2 xxsep d2 n69 d4 n65 d2 n60 d2 n57 d2 n53 d4 xxsep d2 n65 d2 n60 d2 n53 d2 xxsep d2 n67 d8 n65 d4 n60 d2 n55 d2 n48 d8 xxsep d2 n57 d1 n57 d2 xxsep d1 n53 d1 xxsep d1 n64 d4 n60 d2 n58 d4 xxsep d2 n60 d1 xxsep d1 n60 d1 xxsep d1 n65 d4 n60 d4 n57 d4 n57 d4 n41 d4 xxsep d8 n72 d8 n67 d2 n67 d8 n60 d8 n52 d8 xxsep d2 n60 d1 xxsep d1 n60 d1 xxsep d1 n60 d1 xxsep d1 n60 d1 xxsep d1 n60 d1 xxsep d1 n60 d1 xxsep d1 n69 d8 n65 d8 n65 d8 n60 d8 n53 d8 xxsep d8 n72 d8 n67 d1 n65 d2 n60 d8 n48 d8 xxsep d1 n65 d1 xxsep d1 n67 d1 n64 d1 xxsep d1 n69 d1 n62 d1 xxsep d1 n67 d4 n64 d4 xxsep d4 n69 d8 n65 d8 n65 d8 n60 d8 n53 d8 xxsep d8 n69 d4 n65 d2 n65 d4 n60 d4 n53 d2 xxsep d2 n60 d2 n55 d2 xxsep d2 n69 d4 n65 d2 n65 d4 n60 d4 n57 d2 xxsep d2 n60 d2 n53 d2 xxsep d2 n72 d2 n67 d4 n64 d4 n60 d4 n48 d2 xxsep d2 n70 d1 n50 d2 xxsep d1 n69 d1 xxsep d1 n70 d2 n67 d4 n64 d4 n60 d4 n52 d2 xxsep d2 n72 d1 n48 d2 xxsep d1 n70 d1 xxsep d1 n69 d2 n69 d4 n65 d4 n60 d4 n53 d2 xxsep d2 n67 d2 n55 d2 xxsep d2 n69 d4 n65 d2 n65 d4 n60 d4 n57 d2 xxsep d2 n60 d2 n53 d2 xxsep d2 n72 d6 n67 d4 n64 d4 n60 d4 n60 d4 xxsep d4 n69 d4 n65 d4 n60 d4 n58 d2 xxsep d2 n60 d2 n57 d2 xxsep d2 n70 d4 n67 d2 n67 d4 n62 d4 n55 d4 xxsep d2 n65 d1 xxsep d1 n64 d1 xxsep d1 n69 d4 n65 d4 n65 d2 n62 d4 n62 d2 xxsep d2 n64 d2 n60 d2 xxsep d2 n67 d8 n65 d2 n62 d4 n62 d4 n58 d4 xxsep d2 n53 d2 xxsep d2 n64 d4 n60 d2 n60 d4 n60 d4 xxsep d2 n60 d1 xxsep d1 n60 d1 xxsep d1 n65 d8 n65 d8 n60 d8 n57 d8 n53 d8 xxsep d8 n77 d4 n69 d1 n69 d4 n62 d4 n50 d2 xxsep d1 n67 d1 xxsep d1 n69 d1 n53 d2 xxsep d1 n70 d1 xxsep d1 n76 d4 n72 d4 n69 d2 n60 d4 n57 d4 xxsep d2 n67 d2 xxsep d2 n74 d4 n72 d2 n65 d4 n62 d2 n46 d2 xxsep d2 n70 d4 n58 d2 n50 d2 xxsep d2 n72 d4 n65 d4 n53 d2 n53 d4 xxsep d2 n69 d2 n57 d2 xxsep d2 n70 d4 n69 d2 n65 d2 n58 d4 n55 d4 xxsep d2 n67 d4 n64 d2 xxsep d2 n69 d4 n60 d2 n60 d2 n57 d2 xxsep d2 n65 d2 n65 d2 n57 d2 n50 d2 xxsep d2 n67 d8 n65 d2 n65 d4 n62 d4 n47 d4 xxsep d2 n53 d2 xxsep d2 n64 d4 n60 d2 n55 d1 n48 d4 xxsep d1 n53 d1 xxsep d1 n60 d1 n55 d2 xxsep d1 n60 d1 xxsep d1 n65 d4 n60 d4 n57 d4 n57 d4 n41 d4\n"
     ]
    }
   ],
   "source": [
    "from mapping import MusicMapping\n",
    "import utils\n",
    "import music21 as m21\n",
    "\n",
    "mapping = MusicMapping.create()\n",
    "paths = m21.corpus.getComposer('bach')\n",
    "song = utils.read_single_from_corpus(paths[0])\n",
    "utils.write_musicxml(song, output_path=\"original_bach.musicxml\")\n",
    "encoded_song = utils.to_polyphonic_encoding(song, mapping)\n",
    "print(mapping.textify(encoded_song))\n",
    "new_song = utils.from_polyphonic_encoding(encoded_song, mapping, bpm=40)\n",
    "utils.write_midi(new_song, output_path=\"slow_bach.mid\")\n",
    "utils.write_musicxml(new_song, output_path=\"slow_bach.musicxml\")"
   ]
  },
  {
   "attachments": {},
   "cell_type": "markdown",
   "metadata": {},
   "source": [
    "Create random np.array() and fill with int values and convert it to midi"
   ]
  },
  {
   "cell_type": "code",
   "execution_count": 2,
   "metadata": {},
   "outputs": [
    {
     "name": "stdout",
     "output_type": "stream",
     "text": [
      "xxbos xxpad n65 d4 n60 d4 n66 d4 n56 d4\n"
     ]
    }
   ],
   "source": [
    "from mapping import MusicMapping\n",
    "import utils\n",
    "import music21 as m21\n",
    "import numpy as np\n",
    "\n",
    "mapping = MusicMapping.create()\n",
    "encoded_song = np.array([0,1,69,136,64,136,70,136,60,136])\n",
    "print(mapping.textify(encoded_song))\n",
    "new_song = utils.from_polyphonic_encoding(encoded_song, mapping)\n",
    "utils.write_midi(new_song)"
   ]
  }
 ],
 "metadata": {
  "kernelspec": {
   "display_name": ".venv",
   "language": "python",
   "name": "python3"
  },
  "language_info": {
   "codemirror_mode": {
    "name": "ipython",
    "version": 3
   },
   "file_extension": ".py",
   "mimetype": "text/x-python",
   "name": "python",
   "nbconvert_exporter": "python",
   "pygments_lexer": "ipython3",
   "version": "3.9.13"
  },
  "orig_nbformat": 4,
  "vscode": {
   "interpreter": {
    "hash": "9052d763eeeacaf5da08a840d251d734fa4deea148f97d28b11062c8c516292f"
   }
  }
 },
 "nbformat": 4,
 "nbformat_minor": 2
}
