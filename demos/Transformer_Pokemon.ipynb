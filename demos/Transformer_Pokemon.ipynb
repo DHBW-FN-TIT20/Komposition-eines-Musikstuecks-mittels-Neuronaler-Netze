{
 "cells": [
  {
   "attachments": {},
   "cell_type": "markdown",
   "metadata": {},
   "source": [
    "## Train polyphony encoding"
   ]
  },
  {
   "cell_type": "code",
   "execution_count": 34,
   "metadata": {},
   "outputs": [],
   "source": [
    "# Disable tensorflow warnings\n",
    "import os\n",
    "os.environ['TF_CPP_MIN_LOG_LEVEL'] = '2'\n",
    "\n",
    "# 0 = all messages are logged (default behavior)\n",
    "# 1 = INFO messages are not printed\n",
    "# 2 = INFO and WARNING messages are not printed\n",
    "# 3 = INFO, WARNING, and ERROR messages are not printed"
   ]
  },
  {
   "cell_type": "code",
   "execution_count": 35,
   "metadata": {},
   "outputs": [
    {
     "name": "stdout",
     "output_type": "stream",
     "text": [
      "The tensorboard extension is already loaded. To reload it, use:\n",
      "  %reload_ext tensorboard\n"
     ]
    }
   ],
   "source": [
    "# Load the TensorBoard notebook extension.\n",
    "%load_ext tensorboard"
   ]
  },
  {
   "cell_type": "code",
   "execution_count": 36,
   "metadata": {},
   "outputs": [
    {
     "name": "stdout",
     "output_type": "stream",
     "text": [
      "[PhysicalDevice(name='/physical_device:GPU:0', device_type='GPU')]\n"
     ]
    }
   ],
   "source": [
    "from mukkeBude.model import MukkeBudeTransformer\n",
    "from mukkeBude.mapping import MusicMapping\n",
    "import mukkeBude.utils as utils\n",
    "import music21 as m21\n",
    "import tensorflow as tf\n",
    "import keras\n",
    "\n",
    "# Check if GPU is found\n",
    "print(tf.config.list_physical_devices('GPU'))"
   ]
  },
  {
   "cell_type": "code",
   "execution_count": 37,
   "metadata": {},
   "outputs": [],
   "source": [
    "# Create mappings\n",
    "mapping = MusicMapping.create()\n",
    "\n",
    "# optional save the mapping\n",
    "# mapping.save(\"mapping.txt\")"
   ]
  },
  {
   "attachments": {},
   "cell_type": "markdown",
   "metadata": {},
   "source": [
    "We use the music21 corpus for the bach training data. </br>\n",
    "You can adjust the `paths` to reduce the number of training songs. </br>\n",
    "</br>\n",
    "See: https://web.mit.edu/music21/doc/about/referenceCorpus.html\n",
    "\n",
    "To load custom training data use:\n",
    "```python\n",
    "# Load songs\n",
    "songs = utils.read_all(\"./dataset/Pokemon/\")\n",
    "\n",
    "encoded_songs = []\n",
    "for song in songs:\n",
    "    encoded_song = utils.to_polyphonic_encoding(song, mapping)\n",
    "    encoded_songs.append(mapping.textify(encoded_song))\n",
    "```"
   ]
  },
  {
   "cell_type": "code",
   "execution_count": 38,
   "metadata": {},
   "outputs": [
    {
     "ename": "IndexError",
     "evalue": "list index out of range",
     "output_type": "error",
     "traceback": [
      "\u001b[1;31m---------------------------------------------------------------------------\u001b[0m",
      "\u001b[1;31mIndexError\u001b[0m                                Traceback (most recent call last)",
      "Cell \u001b[1;32mIn[38], line 2\u001b[0m\n\u001b[0;32m      1\u001b[0m \u001b[39m# Load songs\u001b[39;00m\n\u001b[1;32m----> 2\u001b[0m songs \u001b[39m=\u001b[39m utils\u001b[39m.\u001b[39;49mread_all(\u001b[39m\"\u001b[39;49m\u001b[39m./songs/pokemon/\u001b[39;49m\u001b[39m\"\u001b[39;49m)\n\u001b[0;32m      4\u001b[0m encoded_songs \u001b[39m=\u001b[39m []\n\u001b[0;32m      5\u001b[0m \u001b[39mfor\u001b[39;00m song \u001b[39min\u001b[39;00m songs:\n",
      "File \u001b[1;32mc:\\Users\\flori\\anaconda3\\envs\\tf\\lib\\site-packages\\mukkeBude\\utils.py:120\u001b[0m, in \u001b[0;36mread_all\u001b[1;34m(files)\u001b[0m\n\u001b[0;32m    118\u001b[0m songs \u001b[39m=\u001b[39m []\n\u001b[0;32m    119\u001b[0m \u001b[39mfor\u001b[39;00m file \u001b[39min\u001b[39;00m files:\n\u001b[1;32m--> 120\u001b[0m     song \u001b[39m=\u001b[39m read_single(file)\n\u001b[0;32m    121\u001b[0m     songs\u001b[39m.\u001b[39mappend(song)\n\u001b[0;32m    122\u001b[0m \u001b[39mreturn\u001b[39;00m songs\n",
      "File \u001b[1;32mc:\\Users\\flori\\anaconda3\\envs\\tf\\lib\\site-packages\\mukkeBude\\utils.py:74\u001b[0m, in \u001b[0;36mread_single\u001b[1;34m(file_path)\u001b[0m\n\u001b[0;32m     65\u001b[0m \u001b[39mdef\u001b[39;00m \u001b[39mread_single\u001b[39m(file_path: os\u001b[39m.\u001b[39mPathLike) \u001b[39m-\u001b[39m\u001b[39m>\u001b[39m Union[m21\u001b[39m.\u001b[39mstream\u001b[39m.\u001b[39mScore, m21\u001b[39m.\u001b[39mstream\u001b[39m.\u001b[39mPart, m21\u001b[39m.\u001b[39mstream\u001b[39m.\u001b[39mOpus]:\n\u001b[0;32m     66\u001b[0m \u001b[39m    \u001b[39m\u001b[39m\"\"\"Convert file of a song to music21.stream.Score. Accepted file types are .mid, .krn, .abc, .mxl, .musicxml\u001b[39;00m\n\u001b[0;32m     67\u001b[0m \n\u001b[0;32m     68\u001b[0m \u001b[39m    Args:\u001b[39;00m\n\u001b[1;32m   (...)\u001b[0m\n\u001b[0;32m     72\u001b[0m \u001b[39m        m21.stream.Score: the converted song\u001b[39;00m\n\u001b[0;32m     73\u001b[0m \u001b[39m    \"\"\"\u001b[39;00m\n\u001b[1;32m---> 74\u001b[0m     \u001b[39mreturn\u001b[39;00m m21\u001b[39m.\u001b[39;49mconverter\u001b[39m.\u001b[39;49mparse(file_path)\n",
      "File \u001b[1;32mc:\\Users\\flori\\anaconda3\\envs\\tf\\lib\\site-packages\\music21\\converter\\__init__.py:1297\u001b[0m, in \u001b[0;36mparse\u001b[1;34m(value, forceSource, number, format, **keywords)\u001b[0m\n\u001b[0;32m   1294\u001b[0m     \u001b[39mreturn\u001b[39;00m parseData(value, number\u001b[39m=\u001b[39mnumber, \u001b[39mformat\u001b[39m\u001b[39m=\u001b[39m\u001b[39mformat\u001b[39m, \u001b[39m*\u001b[39m\u001b[39m*\u001b[39mkeywords)\n\u001b[0;32m   1295\u001b[0m \u001b[39melif\u001b[39;00m (\u001b[39mnot\u001b[39;00m \u001b[39misinstance\u001b[39m(value, \u001b[39mbytes\u001b[39m)\n\u001b[0;32m   1296\u001b[0m       \u001b[39mand\u001b[39;00m _osCanLoad(valueStr)):\n\u001b[1;32m-> 1297\u001b[0m     \u001b[39mreturn\u001b[39;00m parseFile(valueStr, number\u001b[39m=\u001b[39mnumber, \u001b[39mformat\u001b[39m\u001b[39m=\u001b[39m\u001b[39mformat\u001b[39m,\n\u001b[0;32m   1298\u001b[0m                      forceSource\u001b[39m=\u001b[39mforceSource, \u001b[39m*\u001b[39m\u001b[39m*\u001b[39mkeywords)\n\u001b[0;32m   1299\u001b[0m \u001b[39melif\u001b[39;00m (\u001b[39mnot\u001b[39;00m \u001b[39misinstance\u001b[39m(value, \u001b[39mbytes\u001b[39m)\n\u001b[0;32m   1300\u001b[0m       \u001b[39mand\u001b[39;00m _osCanLoad(common\u001b[39m.\u001b[39mcleanpath(valueStr))):\n\u001b[0;32m   1301\u001b[0m     \u001b[39mreturn\u001b[39;00m parseFile(common\u001b[39m.\u001b[39mcleanpath(valueStr), number\u001b[39m=\u001b[39mnumber, \u001b[39mformat\u001b[39m\u001b[39m=\u001b[39m\u001b[39mformat\u001b[39m,\n\u001b[0;32m   1302\u001b[0m                      forceSource\u001b[39m=\u001b[39mforceSource, \u001b[39m*\u001b[39m\u001b[39m*\u001b[39mkeywords)\n",
      "File \u001b[1;32mc:\\Users\\flori\\anaconda3\\envs\\tf\\lib\\site-packages\\music21\\converter\\__init__.py:1151\u001b[0m, in \u001b[0;36mparseFile\u001b[1;34m(fp, number, format, forceSource, **keywords)\u001b[0m\n\u001b[0;32m   1149\u001b[0m v \u001b[39m=\u001b[39m Converter()\n\u001b[0;32m   1150\u001b[0m fp \u001b[39m=\u001b[39m common\u001b[39m.\u001b[39mcleanpath(fp, returnPathlib\u001b[39m=\u001b[39m\u001b[39mTrue\u001b[39;00m)\n\u001b[1;32m-> 1151\u001b[0m v\u001b[39m.\u001b[39mparseFile(fp, number\u001b[39m=\u001b[39mnumber, \u001b[39mformat\u001b[39m\u001b[39m=\u001b[39m\u001b[39mformat\u001b[39m, forceSource\u001b[39m=\u001b[39mforceSource, \u001b[39m*\u001b[39m\u001b[39m*\u001b[39mkeywords)\n\u001b[0;32m   1152\u001b[0m \u001b[39mif\u001b[39;00m t\u001b[39m.\u001b[39mTYPE_CHECKING:\n\u001b[0;32m   1153\u001b[0m     \u001b[39massert\u001b[39;00m \u001b[39misinstance\u001b[39m(v\u001b[39m.\u001b[39mstream, (stream\u001b[39m.\u001b[39mScore, stream\u001b[39m.\u001b[39mPart, stream\u001b[39m.\u001b[39mOpus))\n",
      "File \u001b[1;32mc:\\Users\\flori\\anaconda3\\envs\\tf\\lib\\site-packages\\music21\\converter\\__init__.py:621\u001b[0m, in \u001b[0;36mConverter.parseFile\u001b[1;34m(self, fp, number, format, forceSource, storePickle, **keywords)\u001b[0m\n\u001b[0;32m    619\u001b[0m \u001b[39melse\u001b[39;00m:\n\u001b[0;32m    620\u001b[0m     environLocal\u001b[39m.\u001b[39mprintDebug(\u001b[39m'\u001b[39m\u001b[39mLoading original version\u001b[39m\u001b[39m'\u001b[39m)\n\u001b[1;32m--> 621\u001b[0m     \u001b[39mself\u001b[39m\u001b[39m.\u001b[39mparseFileNoPickle(fp, number, \u001b[39mformat\u001b[39m, forceSource, \u001b[39m*\u001b[39m\u001b[39m*\u001b[39mkeywords)\n\u001b[0;32m    622\u001b[0m     \u001b[39mif\u001b[39;00m writePickle \u001b[39mis\u001b[39;00m \u001b[39mTrue\u001b[39;00m \u001b[39mand\u001b[39;00m fpPickle \u001b[39mis\u001b[39;00m \u001b[39mnot\u001b[39;00m \u001b[39mNone\u001b[39;00m \u001b[39mand\u001b[39;00m storePickle \u001b[39mis\u001b[39;00m \u001b[39mTrue\u001b[39;00m:\n\u001b[0;32m    623\u001b[0m         \u001b[39m# save the stream to disk...\u001b[39;00m\n\u001b[0;32m    624\u001b[0m         environLocal\u001b[39m.\u001b[39mprintDebug(\u001b[39m'\u001b[39m\u001b[39mFreezing Pickle\u001b[39m\u001b[39m'\u001b[39m)\n",
      "File \u001b[1;32mc:\\Users\\flori\\anaconda3\\envs\\tf\\lib\\site-packages\\music21\\converter\\__init__.py:543\u001b[0m, in \u001b[0;36mConverter.parseFileNoPickle\u001b[1;34m(self, fp, number, format, forceSource, **keywords)\u001b[0m\n\u001b[0;32m    541\u001b[0m \u001b[39mself\u001b[39m\u001b[39m.\u001b[39msubConverter\u001b[39m.\u001b[39mkeywords \u001b[39m=\u001b[39m keywords\n\u001b[0;32m    542\u001b[0m \u001b[39mtry\u001b[39;00m:\n\u001b[1;32m--> 543\u001b[0m     \u001b[39mself\u001b[39m\u001b[39m.\u001b[39msubConverter\u001b[39m.\u001b[39mparseFile(\n\u001b[0;32m    544\u001b[0m         fp,\n\u001b[0;32m    545\u001b[0m         number\u001b[39m=\u001b[39mnumber,\n\u001b[0;32m    546\u001b[0m         \u001b[39m*\u001b[39m\u001b[39m*\u001b[39mkeywords\n\u001b[0;32m    547\u001b[0m     )\n\u001b[0;32m    548\u001b[0m \u001b[39mexcept\u001b[39;00m \u001b[39mNotImplementedError\u001b[39;00m:\n\u001b[0;32m    549\u001b[0m     \u001b[39mraise\u001b[39;00m ConverterFileException(\u001b[39mf\u001b[39m\u001b[39m'\u001b[39m\u001b[39mFile is not in a correct format: \u001b[39m\u001b[39m{\u001b[39;00mfp\u001b[39m}\u001b[39;00m\u001b[39m'\u001b[39m)\n",
      "File \u001b[1;32mc:\\Users\\flori\\anaconda3\\envs\\tf\\lib\\site-packages\\music21\\converter\\subConverters.py:1461\u001b[0m, in \u001b[0;36mConverterMuseData.parseFile\u001b[1;34m(self, filePath, number, **keywords)\u001b[0m\n\u001b[0;32m   1457\u001b[0m         mdw\u001b[39m.\u001b[39maddFile(fpInner)\n\u001b[0;32m   1459\u001b[0m \u001b[39m# environLocal.printDebug(['ConverterMuseData: mdw file count', len(mdw.files)])\u001b[39;00m\n\u001b[1;32m-> 1461\u001b[0m musedataTranslate\u001b[39m.\u001b[39;49mmuseDataWorkToStreamScore(mdw, \u001b[39mself\u001b[39;49m\u001b[39m.\u001b[39;49mstream)\n",
      "File \u001b[1;32mc:\\Users\\flori\\anaconda3\\envs\\tf\\lib\\site-packages\\music21\\musedata\\translate.py:352\u001b[0m, in \u001b[0;36mmuseDataWorkToStreamScore\u001b[1;34m(museDataWork, inputM21)\u001b[0m\n\u001b[0;32m    349\u001b[0m md \u001b[39m=\u001b[39m metadata\u001b[39m.\u001b[39mMetadata()\n\u001b[0;32m    350\u001b[0m s\u001b[39m.\u001b[39minsert(\u001b[39m0\u001b[39m, md)\n\u001b[1;32m--> 352\u001b[0m md\u001b[39m.\u001b[39mtitle \u001b[39m=\u001b[39m mdpObjs[\u001b[39m0\u001b[39;49m]\u001b[39m.\u001b[39mgetWorkTitle()\n\u001b[0;32m    353\u001b[0m md\u001b[39m.\u001b[39mmovementNumber \u001b[39m=\u001b[39m mdpObjs[\u001b[39m0\u001b[39m]\u001b[39m.\u001b[39mgetMovementNumber()\n\u001b[0;32m    354\u001b[0m md\u001b[39m.\u001b[39mmovementName \u001b[39m=\u001b[39m mdpObjs[\u001b[39m0\u001b[39m]\u001b[39m.\u001b[39mgetMovementTitle()\n",
      "\u001b[1;31mIndexError\u001b[0m: list index out of range"
     ]
    }
   ],
   "source": [
    "# Load songs\n",
    "songs = utils.read_all(\"./songs/pokemon/\")\n",
    "\n",
    "encoded_songs = []\n",
    "for song in songs:\n",
    "    encoded_song = utils.to_polyphonic_encoding(song, mapping)\n",
    "    encoded_songs.append(mapping.textify(encoded_song))\n",
    "\n",
    "print(f\"Songs encoded: {len(encoded_songs)}\")"
   ]
  },
  {
   "cell_type": "code",
   "execution_count": null,
   "metadata": {},
   "outputs": [],
   "source": [
    "# Create dataset\n",
    "utils.create_train_data(encoded_songs, \"raw_train_ds.txt\")\n",
    "print(\"Dataset created\")"
   ]
  },
  {
   "cell_type": "code",
   "execution_count": null,
   "metadata": {},
   "outputs": [],
   "source": [
    "# Train model\n",
    "model = MukkeBudeTransformer(mapping)\n",
    "print(model)\n",
    "\n",
    "logdir = \"logs/bach_transformer\"\n",
    "tensorboard_callback = keras.callbacks.TensorBoard(log_dir=logdir)\n",
    "\n",
    "model.train(\"raw_train_ds.txt\", min_training_seq_len=32, epochs=50, tensorboard_callback=tensorboard_callback)"
   ]
  },
  {
   "cell_type": "code",
   "execution_count": null,
   "metadata": {},
   "outputs": [],
   "source": []
  },
  {
   "cell_type": "code",
   "execution_count": null,
   "metadata": {},
   "outputs": [],
   "source": [
    "%tensorboard --logdir logs/bach_transformer"
   ]
  },
  {
   "cell_type": "code",
   "execution_count": null,
   "metadata": {},
   "outputs": [],
   "source": [
    "model.save(\"Bach_polyphonie_transformer\")"
   ]
  },
  {
   "attachments": {},
   "cell_type": "markdown",
   "metadata": {},
   "source": [
    "## Generate polyphony"
   ]
  },
  {
   "cell_type": "code",
   "execution_count": null,
   "metadata": {},
   "outputs": [],
   "source": [
    "# Disable tensorflow warnings\n",
    "import os\n",
    "os.environ['TF_CPP_MIN_LOG_LEVEL'] = '2'\n",
    "\n",
    "# 0 = all messages are logged (default behavior)\n",
    "# 1 = INFO messages are not printed\n",
    "# 2 = INFO and WARNING messages are not printed\n",
    "# 3 = INFO, WARNING, and ERROR messages are not printed"
   ]
  },
  {
   "cell_type": "code",
   "execution_count": null,
   "metadata": {},
   "outputs": [],
   "source": [
    "from mukkeBude.mapping import MusicMapping\n",
    "import mukkeBude.utils as utils\n",
    "import tensorflow as tf\n",
    "import numpy as np\n",
    "from pathlib import Path\n",
    "\n",
    "from mukkeBude.mapping import SPECIAL_TOKS\n",
    "from mukkeBude.mapping import SEP\n",
    "from mukkeBude.mapping import BOS\n",
    "\n",
    "# Check if GPU is found\n",
    "print(tf.config.list_physical_devices('GPU'))"
   ]
  },
  {
   "cell_type": "code",
   "execution_count": null,
   "metadata": {},
   "outputs": [],
   "source": [
    "# Create mappings\n",
    "mapping = MusicMapping.create()\n",
    "\n",
    "# optional save the mapping\n",
    "# mapping.save(\"mapping.txt\")"
   ]
  },
  {
   "attachments": {},
   "cell_type": "markdown",
   "metadata": {},
   "source": [
    "**This does not work! In the current state you can not load a transformer network from a file!**</br>\n",
    "You need to train it first and use it here."
   ]
  },
  {
   "cell_type": "code",
   "execution_count": null,
   "metadata": {},
   "outputs": [],
   "source": [
    "#model = MukkeBudeTransformer.load(mapping, \"Bach_polyphonie_transformer\")"
   ]
  },
  {
   "cell_type": "code",
   "execution_count": null,
   "metadata": {},
   "outputs": [],
   "source": [
    "# Create song\n",
    "generated_song = model.generate(\"xxbos\", max_length=1000, probability=0.2)\n",
    "\n",
    "# Remove REST and WAIT_LSTM from SPECIAL_TOKS\n",
    "special_tokens = SPECIAL_TOKS.copy()\n",
    "special_tokens.remove(SEP)\n",
    "special_tokens.remove(BOS)\n",
    "\n",
    "generated_song = \" \".join(utils.replace_special_tokens(generated_song.split(), \"d1\", special_tokens))\n",
    "print(generated_song)"
   ]
  },
  {
   "cell_type": "code",
   "execution_count": null,
   "metadata": {},
   "outputs": [],
   "source": [
    "# Convert to music21\n",
    "new_song_ints = mapping.numericalize(generated_song.split(\" \"))\n",
    "new_song_ints = np.array(new_song_ints)\n",
    "\n",
    "new_song = utils.from_polyphonic_encoding(new_song_ints, mapping, bpm=140)\n",
    "\n",
    "path = Path(\"generated_song_pokemon_trans_poly.midi\")\n",
    "utils.write_midi(new_song, path)\n"
   ]
  }
 ],
 "metadata": {
  "kernelspec": {
   "display_name": "tf",
   "language": "python",
   "name": "tf"
  },
  "language_info": {
   "codemirror_mode": {
    "name": "ipython",
    "version": 3
   },
   "file_extension": ".py",
   "mimetype": "text/x-python",
   "name": "python",
   "nbconvert_exporter": "python",
   "pygments_lexer": "ipython3",
   "version": "3.10.9"
  },
  "orig_nbformat": 4
 },
 "nbformat": 4,
 "nbformat_minor": 2
}
