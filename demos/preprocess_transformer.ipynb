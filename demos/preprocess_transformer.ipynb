{
 "cells": [
  {
   "cell_type": "markdown",
   "metadata": {},
   "source": [
    "Get Bach song from music21 corpus and encode/decode in slower tempo"
   ]
  },
  {
   "cell_type": "code",
   "execution_count": null,
   "metadata": {},
   "outputs": [],
   "source": [
    "from mukkeBude.mapping import MusicMapping\n",
    "import utils\n",
    "import music21 as m21\n",
    "\n",
    "mapping = MusicMapping.create()\n",
    "paths = m21.corpus.getComposer('bach')\n",
    "song = utils.read_single_from_corpus(paths[0])\n",
    "utils.write_musicxml(song, output_path=\"original_bach.musicxml\")\n",
    "encoded_song = utils.to_polyphonic_encoding(song, mapping)\n",
    "print(mapping.textify(encoded_song))\n",
    "new_song = utils.from_polyphonic_encoding(encoded_song, mapping, bpm=40)\n",
    "utils.write_midi(new_song, output_path=\"slow_bach.mid\")\n",
    "utils.write_musicxml(new_song, output_path=\"slow_bach.musicxml\")"
   ]
  },
  {
   "cell_type": "markdown",
   "metadata": {},
   "source": [
    "Create random np.array() and fill with int values and convert it to midi"
   ]
  },
  {
   "cell_type": "code",
   "execution_count": null,
   "metadata": {},
   "outputs": [],
   "source": [
    "from mapping import MusicMapping\n",
    "import utils\n",
    "import music21 as m21\n",
    "import numpy as np\n",
    "\n",
    "mapping = MusicMapping.create()\n",
    "encoded_song = np.array([0,1,69,136,64,136,70,136,60,136])\n",
    "print(mapping.textify(encoded_song))\n",
    "new_song = utils.from_polyphonic_encoding(encoded_song, mapping)\n",
    "utils.write_midi(new_song)"
   ]
  }
 ],
 "metadata": {
  "kernelspec": {
   "display_name": "Python 3 (ipykernel)",
   "language": "python",
   "name": "python3"
  },
  "language_info": {
   "codemirror_mode": {
    "name": "ipython",
    "version": 3
   },
   "file_extension": ".py",
   "mimetype": "text/x-python",
   "name": "python",
   "nbconvert_exporter": "python",
   "pygments_lexer": "ipython3",
   "version": "3.9.16"
  },
  "vscode": {
   "interpreter": {
    "hash": "53d36e490746945b7b09d1471798d37f0a336ca81cc9c923c34658bbeb9b9b07"
   }
  }
 },
 "nbformat": 4,
 "nbformat_minor": 4
}
