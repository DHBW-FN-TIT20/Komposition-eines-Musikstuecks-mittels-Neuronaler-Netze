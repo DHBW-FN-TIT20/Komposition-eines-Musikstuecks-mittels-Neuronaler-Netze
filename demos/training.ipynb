{
 "cells": [
  {
   "cell_type": "markdown",
   "id": "e8f2f708-07f9-410f-a191-a397afb64d44",
   "metadata": {},
   "source": [
    "# Erstellen und Trainieren der KI"
   ]
  },
  {
   "cell_type": "code",
   "execution_count": 1,
   "id": "3d00b07f-6885-459d-9ebb-518af238de45",
   "metadata": {
    "tags": []
   },
   "outputs": [],
   "source": [
    "# Needed imports\n",
    "import numpy as np\n",
    "from pathlib import Path\n",
    "from tensorflow import keras\n",
    "\n",
    "# Needed variabel\n",
    "dataset_folder = Path(__file__).parent / \"dataset\"\n",
    "sequence_length = 64\n",
    "model_path = Path(__file__).parent / \"model.h5\""
   ]
  },
  {
   "cell_type": "code",
   "execution_count": 2,
   "id": "945c9b46-cd83-4c9b-8b8e-18fdfdebbc80",
   "metadata": {
    "tags": []
   },
   "outputs": [
    {
     "name": "stdout",
     "output_type": "stream",
     "text": [
      "(2576,)\n",
      "[ 5 16  9 16 16 16 10 16 11 16]\n"
     ]
    }
   ],
   "source": [
    "# Load the dataset\n",
    "songs = np.load(dataset_folder / \"songs.npy\")\n",
    "\n",
    "print(songs.shape)\n",
    "print(songs[:10])\n",
    "\n",
    "songs = songs.tolist()"
   ]
  },
  {
   "cell_type": "markdown",
   "id": "1eca9947-4788-4cf2-bdb1-b5880d03cbfd",
   "metadata": {},
   "source": [
    "## Erstellen der Trainingsdaten\n",
    "Wir erstellen sequenzen von eienr bestimmten länge und sagen dem Netzwerk, ok was kommt als nächstes. Dies macht man so lange, bis man alle Daten durchhat. Das schafft man, indem man die die Trainignsdaten nimmt, ein Teil herausschneided und dan den Ausschnit zum Herusschneiden immer eins weiter nach rechts shifted, bis man alle Daten durch ist.\n",
    "\n",
    "```bash\n",
    "# Data\n",
    "[12, 13, 14, 15, 16, 17, ...]\n",
    "\n",
    "# Erster input und targed\n",
    "[12, 13] -> 14\n",
    "\n",
    "#Zweiter input und targed\n",
    "[13, 14] -> 15\n",
    "```"
   ]
  },
  {
   "cell_type": "code",
   "execution_count": 3,
   "id": "794dae6e",
   "metadata": {
    "tags": []
   },
   "outputs": [],
   "source": [
    "# 100 symbols, 64 sl\n",
    "# 100 - 64 = 36\n",
    "num_sequences = len(songs) - sequence_length\n",
    "\n",
    "inputs = []\n",
    "targets = []\n",
    "\n",
    "for i in range(num_sequences):\n",
    "    inputs.append(songs[i:i+sequence_length])\n",
    "    targets.append(songs[i+sequence_length])"
   ]
  },
  {
   "cell_type": "code",
   "execution_count": 4,
   "id": "7801c99a",
   "metadata": {
    "tags": []
   },
   "outputs": [
    {
     "name": "stdout",
     "output_type": "stream",
     "text": [
      "Num sequences: 2512\n",
      "the first input sequence:\n",
      "[5, 16, 9, 16, 16, 16, 10, 16, 11, 16, 16, 10, 9, 16, 13, 16, 16, 16, 16, 16, 10, 16, 16, 16, 12, 16, 11, 16, 16, 10, 9, 16, 8, 16, 16, 16, 9, 16, 10, 16, 16, 16, 16, 16, 17, 16, 16, 16, 5, 16, 13, 16, 16, 16, 13, 16, 11, 16, 16, 10, 9, 16, 15, 16]\n",
      "the first target sequence:\n",
      "16\n",
      "\n",
      "The whole dataset for the first input sequence:\n",
      "[5, 16, 9, 16, 16, 16, 10, 16, 11, 16, 16, 10, 9, 16, 13, 16, 16, 16, 16, 16, 10, 16, 16, 16, 12, 16, 11, 16, 16, 10, 9, 16, 8, 16, 16, 16, 9, 16, 10, 16, 16, 16, 16, 16, 17, 16, 16, 16, 5, 16, 13, 16, 16, 16, 13, 16, 11, 16, 16, 10, 9, 16, 15, 16, 16]\n",
      "\n",
      "2512 2512\n"
     ]
    }
   ],
   "source": [
    "print(f\"Num sequences: {len(inputs)}\")\n",
    "print(\"the first input sequence:\")\n",
    "print(inputs[0])\n",
    "print(\"the first target sequence:\")\n",
    "print(targets[0])\n",
    "print()\n",
    "print(\"The whole dataset for the first input sequence:\")\n",
    "print(songs[:sequence_length+1])\n",
    "print()\n",
    "print(len(inputs), len(targets))"
   ]
  },
  {
   "cell_type": "markdown",
   "id": "b01c1777",
   "metadata": {},
   "source": [
    "## One-Hot encoding\n",
    "Jeder mögliche Wert den es geben kann wird als Reihe in einer tabelle gesehen.\n",
    "![](./Bilder/oenHot.png)\n",
    "\n",
    "In unserem Fall ist ist die größe der Tabelle gleich der Anzahl an Elemente in unserem `mapping.json`. In unserem Fall sollte das 18 sein."
   ]
  },
  {
   "cell_type": "code",
   "execution_count": 5,
   "id": "b011083d-19d2-49be-9bcf-6f20716143ba",
   "metadata": {
    "tags": []
   },
   "outputs": [
    {
     "name": "stdout",
     "output_type": "stream",
     "text": [
      "2512\n"
     ]
    }
   ],
   "source": [
    "print(len(inputs))"
   ]
  },
  {
   "cell_type": "code",
   "execution_count": 6,
   "id": "1814cb2c",
   "metadata": {
    "tags": []
   },
   "outputs": [],
   "source": [
    "vacabulay_size = len(np.unique(songs))\n",
    "inputs = keras.utils.to_categorical(inputs, num_classes=vacabulay_size)\n",
    "targets = np.array(targets)"
   ]
  },
  {
   "cell_type": "code",
   "execution_count": 7,
   "id": "7f2c7853",
   "metadata": {
    "tags": []
   },
   "outputs": [
    {
     "name": "stdout",
     "output_type": "stream",
     "text": [
      "Vocabulary size: 18\n",
      "(2512, 64, 18)\n",
      "\n",
      "[[[0. 0. 0. ... 0. 0. 0.]\n",
      "  [0. 0. 0. ... 0. 1. 0.]\n",
      "  [0. 0. 0. ... 0. 0. 0.]\n",
      "  ...\n",
      "  [0. 0. 0. ... 0. 1. 0.]\n",
      "  [0. 0. 0. ... 1. 0. 0.]\n",
      "  [0. 0. 0. ... 0. 1. 0.]]\n",
      "\n",
      " [[0. 0. 0. ... 0. 1. 0.]\n",
      "  [0. 0. 0. ... 0. 0. 0.]\n",
      "  [0. 0. 0. ... 0. 1. 0.]\n",
      "  ...\n",
      "  [0. 0. 0. ... 1. 0. 0.]\n",
      "  [0. 0. 0. ... 0. 1. 0.]\n",
      "  [0. 0. 0. ... 0. 1. 0.]]\n",
      "\n",
      " [[0. 0. 0. ... 0. 0. 0.]\n",
      "  [0. 0. 0. ... 0. 1. 0.]\n",
      "  [0. 0. 0. ... 0. 1. 0.]\n",
      "  ...\n",
      "  [0. 0. 0. ... 0. 1. 0.]\n",
      "  [0. 0. 0. ... 0. 1. 0.]\n",
      "  [0. 0. 0. ... 0. 1. 0.]]\n",
      "\n",
      " ...\n",
      "\n",
      " [[0. 0. 0. ... 0. 1. 0.]\n",
      "  [0. 0. 0. ... 0. 1. 0.]\n",
      "  [0. 0. 0. ... 0. 1. 0.]\n",
      "  ...\n",
      "  [1. 0. 0. ... 0. 0. 0.]\n",
      "  [1. 0. 0. ... 0. 0. 0.]\n",
      "  [1. 0. 0. ... 0. 0. 0.]]\n",
      "\n",
      " [[0. 0. 0. ... 0. 1. 0.]\n",
      "  [0. 0. 0. ... 0. 1. 0.]\n",
      "  [1. 0. 0. ... 0. 0. 0.]\n",
      "  ...\n",
      "  [1. 0. 0. ... 0. 0. 0.]\n",
      "  [1. 0. 0. ... 0. 0. 0.]\n",
      "  [1. 0. 0. ... 0. 0. 0.]]\n",
      "\n",
      " [[0. 0. 0. ... 0. 1. 0.]\n",
      "  [1. 0. 0. ... 0. 0. 0.]\n",
      "  [1. 0. 0. ... 0. 0. 0.]\n",
      "  ...\n",
      "  [1. 0. 0. ... 0. 0. 0.]\n",
      "  [1. 0. 0. ... 0. 0. 0.]\n",
      "  [1. 0. 0. ... 0. 0. 0.]]]\n"
     ]
    }
   ],
   "source": [
    "print(f\"Vocabulary size: {vacabulay_size}\")\n",
    "print(inputs.shape)\n",
    "print()\n",
    "print(inputs)"
   ]
  },
  {
   "cell_type": "code",
   "execution_count": 8,
   "id": "770e4b7f-49d7-49e2-b2cc-5694b4369156",
   "metadata": {
    "tags": []
   },
   "outputs": [
    {
     "name": "stdout",
     "output_type": "stream",
     "text": [
      "(2512,)\n",
      "\n",
      "[16 16 16 ...  0  0  0]\n"
     ]
    }
   ],
   "source": [
    "print(targets.shape)\n",
    "print()\n",
    "print(targets)"
   ]
  },
  {
   "cell_type": "markdown",
   "id": "28153ec1",
   "metadata": {},
   "source": [
    "## Erstellen des Modells\n"
   ]
  },
  {
   "cell_type": "code",
   "execution_count": 11,
   "id": "06ec501d",
   "metadata": {
    "tags": []
   },
   "outputs": [],
   "source": [
    "output_layer_size = vacabulay_size  # Number of unique symbols in the dataset\n",
    "hidden_layer_sizes = [256]      # Number of neurons in each hidden layer\n",
    "loss = \"sparse_categorical_crossentropy\"    # Loss function\n",
    "activation = \"softmax\"                      # Activation function\n",
    "learning_rate = 0.001                       # Learning rate\n",
    "optimizer = keras.optimizers.Adam(learning_rate=learning_rate)  # Optimizer"
   ]
  },
  {
   "cell_type": "markdown",
   "id": "fc36be69",
   "metadata": {},
   "source": [
    "Hier erstellt man nun das konkrete Netzwerk.\n",
    "\n",
    "`shape = (None, output_layer_size)`\n",
    "1. Variable `None`-> Wie viele Zeitstemnpel hat man. Bei None wird das automatisch ermittelt \n",
    "2. Variable `output_layer_size` -> Wie viele Inputs hat man pro Eingabe. Dies ist hier die Anzahl der verwendeten Noten\n",
    "\n",
    "Dem layer wird dann hidden LSTM layer hinzugefügt und ein Dropout, welches gegen Overfitting hilft."
   ]
  },
  {
   "cell_type": "code",
   "execution_count": 12,
   "id": "728c9cc6",
   "metadata": {
    "tags": []
   },
   "outputs": [],
   "source": [
    "# create the model achitecture\n",
    "# model = keras.Sequential() # <- Would be a good idea to use this\n",
    "\n",
    "# Input layer\n",
    "input_layer = keras.layers.Input(shape=(None, output_layer_size))\n",
    "\n",
    "# Hidden layers\n",
    "x = input_layer\n",
    "for hidden_layer_size in hidden_layer_sizes:\n",
    "    x = keras.layers.LSTM(hidden_layer_size)(x)\n",
    "\n",
    "# Avoid overfitting\n",
    "x = keras.layers.Dropout(0.3)(x)\n",
    "\n",
    "# Output layer. Full connection -> Dense\n",
    "output_layer = keras.layers.Dense(output_layer_size, activation=activation)(x)\n",
    "\n",
    "# The actual model\n",
    "model = keras.Model(input_layer, output_layer)"
   ]
  },
  {
   "cell_type": "code",
   "execution_count": 13,
   "id": "ead2634c",
   "metadata": {
    "tags": []
   },
   "outputs": [],
   "source": [
    "# Compile the model\n",
    "model.compile(loss=loss, optimizer=optimizer, metrics=[\"accuracy\"])"
   ]
  },
  {
   "cell_type": "code",
   "execution_count": 14,
   "id": "7e05c900",
   "metadata": {
    "tags": []
   },
   "outputs": [
    {
     "name": "stdout",
     "output_type": "stream",
     "text": [
      "Model: \"model\"\n",
      "_________________________________________________________________\n",
      "Layer (type)                 Output Shape              Param #   \n",
      "=================================================================\n",
      "input_2 (InputLayer)         [(None, None, 18)]        0         \n",
      "_________________________________________________________________\n",
      "lstm_2 (LSTM)                (None, 256)               281600    \n",
      "_________________________________________________________________\n",
      "dropout (Dropout)            (None, 256)               0         \n",
      "_________________________________________________________________\n",
      "dense (Dense)                (None, 18)                4626      \n",
      "=================================================================\n",
      "Total params: 286,226\n",
      "Trainable params: 286,226\n",
      "Non-trainable params: 0\n",
      "_________________________________________________________________\n"
     ]
    }
   ],
   "source": [
    "model.summary()"
   ]
  },
  {
   "cell_type": "code",
   "execution_count": 15,
   "id": "815ffc5b-bd85-43a1-b0ff-a23a7ad0b67c",
   "metadata": {
    "tags": []
   },
   "outputs": [],
   "source": [
    "# keras.utils.plot_model(model, 'model.png', show_shapes=True)"
   ]
  },
  {
   "cell_type": "markdown",
   "id": "5290e7dd",
   "metadata": {},
   "source": [
    "## Trainiere das Modell"
   ]
  },
  {
   "cell_type": "code",
   "execution_count": 16,
   "id": "811c61c1-8bf6-48c6-88af-5c9d72a2f145",
   "metadata": {
    "tags": []
   },
   "outputs": [
    {
     "name": "stdout",
     "output_type": "stream",
     "text": [
      "(2512, 64, 18)\n",
      "(2512,)\n"
     ]
    }
   ],
   "source": [
    "print(inputs.shape)\n",
    "print(targets.shape)\n",
    "\n",
    "shape = inputs[0].shape\n",
    "for i, x in enumerate(inputs):\n",
    "    if x.shape != shape:\n",
    "        print(f\"Error: {i}\")"
   ]
  },
  {
   "cell_type": "code",
   "execution_count": 20,
   "id": "33617394",
   "metadata": {
    "tags": []
   },
   "outputs": [
    {
     "name": "stdout",
     "output_type": "stream",
     "text": [
      "Epoch 1/50\n",
      "79/79 [==============================] - 7s 85ms/step - loss: 0.0116 - accuracy: 0.9964\n",
      "Epoch 2/50\n",
      "79/79 [==============================] - 7s 88ms/step - loss: 0.0109 - accuracy: 0.9952\n",
      "Epoch 3/50\n",
      "79/79 [==============================] - 7s 86ms/step - loss: 0.0098 - accuracy: 0.9964\n",
      "Epoch 4/50\n",
      "79/79 [==============================] - 7s 86ms/step - loss: 0.0106 - accuracy: 0.9948\n",
      "Epoch 5/50\n",
      "79/79 [==============================] - 7s 85ms/step - loss: 0.0119 - accuracy: 0.9952\n",
      "Epoch 6/50\n",
      "79/79 [==============================] - 7s 85ms/step - loss: 0.0109 - accuracy: 0.9956\n",
      "Epoch 7/50\n",
      "79/79 [==============================] - 7s 85ms/step - loss: 0.0108 - accuracy: 0.9948\n",
      "Epoch 8/50\n",
      "79/79 [==============================] - 7s 85ms/step - loss: 0.0103 - accuracy: 0.9944\n",
      "Epoch 9/50\n",
      "79/79 [==============================] - 7s 86ms/step - loss: 0.0102 - accuracy: 0.9952\n",
      "Epoch 10/50\n",
      "79/79 [==============================] - 7s 84ms/step - loss: 0.0104 - accuracy: 0.9956\n",
      "Epoch 11/50\n",
      "79/79 [==============================] - 7s 84ms/step - loss: 0.0114 - accuracy: 0.9956\n",
      "Epoch 12/50\n",
      "79/79 [==============================] - 7s 84ms/step - loss: 0.0097 - accuracy: 0.9964\n",
      "Epoch 13/50\n",
      "79/79 [==============================] - 7s 87ms/step - loss: 0.0126 - accuracy: 0.9956\n",
      "Epoch 14/50\n",
      "79/79 [==============================] - 7s 84ms/step - loss: 0.2619 - accuracy: 0.9287\n",
      "Epoch 15/50\n",
      "79/79 [==============================] - 7s 86ms/step - loss: 0.1391 - accuracy: 0.9550\n",
      "Epoch 16/50\n",
      "79/79 [==============================] - 7s 86ms/step - loss: 0.0393 - accuracy: 0.9881\n",
      "Epoch 17/50\n",
      "79/79 [==============================] - 6s 82ms/step - loss: 0.0314 - accuracy: 0.9920\n",
      "Epoch 18/50\n",
      "79/79 [==============================] - 7s 90ms/step - loss: 0.0225 - accuracy: 0.9916\n",
      "Epoch 19/50\n",
      "79/79 [==============================] - 7s 87ms/step - loss: 0.0146 - accuracy: 0.9968\n",
      "Epoch 20/50\n",
      "79/79 [==============================] - 7s 83ms/step - loss: 0.0125 - accuracy: 0.9956\n",
      "Epoch 21/50\n",
      "79/79 [==============================] - 7s 85ms/step - loss: 0.0119 - accuracy: 0.9948\n",
      "Epoch 22/50\n",
      "79/79 [==============================] - 7s 87ms/step - loss: 0.0124 - accuracy: 0.9956\n",
      "Epoch 23/50\n",
      "79/79 [==============================] - 7s 88ms/step - loss: 0.0115 - accuracy: 0.9956\n",
      "Epoch 24/50\n",
      "79/79 [==============================] - 7s 87ms/step - loss: 0.0121 - accuracy: 0.9960\n",
      "Epoch 25/50\n",
      "79/79 [==============================] - 7s 85ms/step - loss: 0.0110 - accuracy: 0.9956\n",
      "Epoch 26/50\n",
      "79/79 [==============================] - 7s 89ms/step - loss: 0.0111 - accuracy: 0.9960\n",
      "Epoch 27/50\n",
      "79/79 [==============================] - 7s 89ms/step - loss: 0.0109 - accuracy: 0.9952\n",
      "Epoch 28/50\n",
      "79/79 [==============================] - 6s 82ms/step - loss: 0.0098 - accuracy: 0.9952\n",
      "Epoch 29/50\n",
      "79/79 [==============================] - 7s 82ms/step - loss: 0.0100 - accuracy: 0.9952\n",
      "Epoch 30/50\n",
      "79/79 [==============================] - 6s 82ms/step - loss: 0.0096 - accuracy: 0.9960\n",
      "Epoch 31/50\n",
      "79/79 [==============================] - 6s 82ms/step - loss: 0.0102 - accuracy: 0.9964\n",
      "Epoch 32/50\n",
      "79/79 [==============================] - 6s 82ms/step - loss: 0.0108 - accuracy: 0.9948\n",
      "Epoch 33/50\n",
      "79/79 [==============================] - 7s 83ms/step - loss: 0.0095 - accuracy: 0.9964\n",
      "Epoch 34/50\n",
      "79/79 [==============================] - 6s 82ms/step - loss: 0.0098 - accuracy: 0.9956\n",
      "Epoch 35/50\n",
      "79/79 [==============================] - 6s 82ms/step - loss: 0.0094 - accuracy: 0.9956\n",
      "Epoch 36/50\n",
      "79/79 [==============================] - 6s 81ms/step - loss: 0.0109 - accuracy: 0.9948\n",
      "Epoch 37/50\n",
      "79/79 [==============================] - 7s 82ms/step - loss: 0.0092 - accuracy: 0.9960\n",
      "Epoch 38/50\n",
      "79/79 [==============================] - 7s 84ms/step - loss: 0.0102 - accuracy: 0.9964\n",
      "Epoch 39/50\n",
      "79/79 [==============================] - 7s 90ms/step - loss: 0.0318 - accuracy: 0.9904\n",
      "Epoch 40/50\n",
      "79/79 [==============================] - 7s 84ms/step - loss: 0.0740 - accuracy: 0.9777\n",
      "Epoch 41/50\n",
      "79/79 [==============================] - 7s 91ms/step - loss: 0.0272 - accuracy: 0.9912\n",
      "Epoch 42/50\n",
      "79/79 [==============================] - 7s 89ms/step - loss: 0.0123 - accuracy: 0.9964\n",
      "Epoch 43/50\n",
      "79/79 [==============================] - 7s 87ms/step - loss: 0.0117 - accuracy: 0.9956\n",
      "Epoch 44/50\n",
      "79/79 [==============================] - 7s 88ms/step - loss: 0.0114 - accuracy: 0.9956\n",
      "Epoch 45/50\n",
      "79/79 [==============================] - 7s 87ms/step - loss: 0.0118 - accuracy: 0.9952\n",
      "Epoch 46/50\n",
      "79/79 [==============================] - 7s 84ms/step - loss: 0.0105 - accuracy: 0.9960\n",
      "Epoch 47/50\n",
      "79/79 [==============================] - 7s 83ms/step - loss: 0.0103 - accuracy: 0.9952\n",
      "Epoch 48/50\n",
      "79/79 [==============================] - 7s 84ms/step - loss: 0.0102 - accuracy: 0.9964\n",
      "Epoch 49/50\n",
      "79/79 [==============================] - 7s 84ms/step - loss: 0.0110 - accuracy: 0.9960\n",
      "Epoch 50/50\n",
      "79/79 [==============================] - 7s 82ms/step - loss: 0.0099 - accuracy: 0.9956\n"
     ]
    }
   ],
   "source": [
    "epochs = 50\n",
    "batch_size = 64  # TODO Equal to sequence_length ?\n",
    "\n",
    "result = model.fit(inputs, targets, epochs=epochs)"
   ]
  },
  {
   "cell_type": "code",
   "execution_count": 21,
   "id": "afc6af65",
   "metadata": {
    "tags": []
   },
   "outputs": [
    {
     "name": "stdout",
     "output_type": "stream",
     "text": [
      "{'loss': [0.011579281650483608, 0.010895702987909317, 0.00976040679961443, 0.010581343434751034, 0.011904683895409107, 0.010861502029001713, 0.010826483368873596, 0.010318174958229065, 0.010150991380214691, 0.010435348376631737, 0.011392052285373211, 0.009685474447906017, 0.012550631538033485, 0.2619255781173706, 0.1390770822763443, 0.03931370750069618, 0.031365979462862015, 0.022514255717396736, 0.014571476727724075, 0.012526244856417179, 0.011941595003008842, 0.012418700382113457, 0.011477451771497726, 0.012071789242327213, 0.010992681607604027, 0.011076618917286396, 0.010853820480406284, 0.009794206358492374, 0.010028052143752575, 0.009630932472646236, 0.010219547897577286, 0.010813973844051361, 0.00954597070813179, 0.009756647981703281, 0.009364638477563858, 0.010903900489211082, 0.00924451369792223, 0.01020500436425209, 0.031833261251449585, 0.07404628396034241, 0.02716211974620819, 0.012304565869271755, 0.011661769822239876, 0.011423023417592049, 0.011818652041256428, 0.010543507523834705, 0.010291975922882557, 0.010240098461508751, 0.010952726937830448, 0.00986160896718502], 'accuracy': [0.996417224407196, 0.9952229261398315, 0.996417224407196, 0.9948248267173767, 0.9952229261398315, 0.9956210255622864, 0.9948248267173767, 0.9944267272949219, 0.9952229261398315, 0.9956210255622864, 0.9956210255622864, 0.996417224407196, 0.9956210255622864, 0.9287420511245728, 0.9550158977508545, 0.9880573153495789, 0.9920381903648376, 0.9916401505470276, 0.9968152642250061, 0.9956210255622864, 0.9948248267173767, 0.9956210255622864, 0.9956210255622864, 0.9960191249847412, 0.9956210255622864, 0.9960191249847412, 0.9952229261398315, 0.9952229261398315, 0.9952229261398315, 0.9960191249847412, 0.996417224407196, 0.9948248267173767, 0.996417224407196, 0.9956210255622864, 0.9956210255622864, 0.9948248267173767, 0.9960191249847412, 0.996417224407196, 0.9904458522796631, 0.977707028388977, 0.9912420511245728, 0.996417224407196, 0.9956210255622864, 0.9956210255622864, 0.9952229261398315, 0.9960191249847412, 0.9952229261398315, 0.996417224407196, 0.9960191249847412, 0.9956210255622864]}\n",
      "<keras.callbacks.History object at 0x0000021FCB41C550>\n"
     ]
    }
   ],
   "source": [
    "print(result.history)\n",
    "print(result)"
   ]
  },
  {
   "cell_type": "markdown",
   "id": "bd22686e",
   "metadata": {},
   "source": [
    "## Speicher das Modell"
   ]
  },
  {
   "cell_type": "code",
   "execution_count": 18,
   "id": "bac5fcd8",
   "metadata": {
    "tags": []
   },
   "outputs": [],
   "source": [
    "model.save(model_path)"
   ]
  }
 ],
 "metadata": {
  "kernelspec": {
   "display_name": "Python 3 (ipykernel)",
   "language": "python",
   "name": "python3"
  },
  "language_info": {
   "codemirror_mode": {
    "name": "ipython",
    "version": 3
   },
   "file_extension": ".py",
   "mimetype": "text/x-python",
   "name": "python",
   "nbconvert_exporter": "python",
   "pygments_lexer": "ipython3",
   "version": "3.9.6"
  }
 },
 "nbformat": 4,
 "nbformat_minor": 5
}
