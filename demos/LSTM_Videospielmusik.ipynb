{
 "cells": [
  {
   "attachments": {},
   "cell_type": "markdown",
   "metadata": {},
   "source": [
    "# Training\n",
    "\n",
    "In this section you can train the LSTM model with videogame sounds. The first section is monophony and the second with polyphony encoding."
   ]
  },
  {
   "attachments": {},
   "cell_type": "markdown",
   "metadata": {},
   "source": [
    "## Train monophony encoding"
   ]
  },
  {
   "cell_type": "code",
   "execution_count": null,
   "metadata": {
    "tags": []
   },
   "outputs": [],
   "source": [
    "# Disable tensorflow warnings\n",
    "import os\n",
    "os.environ['TF_CPP_MIN_LOG_LEVEL'] = '2'\n",
    "\n",
    "# 0 = all messages are logged (default behavior)\n",
    "# 1 = INFO messages are not printed\n",
    "# 2 = INFO and WARNING messages are not printed\n",
    "# 3 = INFO, WARNING, and ERROR messages are not printed"
   ]
  },
  {
   "cell_type": "code",
   "execution_count": null,
   "metadata": {
    "tags": []
   },
   "outputs": [],
   "source": [
    "# Load the TensorBoard notebook extension.\n",
    "%load_ext tensorboard"
   ]
  },
  {
   "cell_type": "code",
   "execution_count": null,
   "metadata": {
    "tags": []
   },
   "outputs": [],
   "source": [
    "from mukkeBude.model import MukkeBudeLSTM\n",
    "from mukkeBude.mapping import MusicMapping\n",
    "import mukkeBude.utils as utils\n",
    "import music21 as m21\n",
    "import tensorflow as tf\n",
    "import keras\n",
    "\n",
    "# Check if GPU is found\n",
    "print(tf.config.list_physical_devices('GPU'))"
   ]
  },
  {
   "cell_type": "code",
   "execution_count": null,
   "metadata": {
    "tags": []
   },
   "outputs": [],
   "source": [
    "# Create mappings\n",
    "mapping = MusicMapping.create()\n",
    "\n",
    "# optional save the mapping for visualisation\n",
    "# mapping.save(\"mapping.txt\")"
   ]
  },
  {
   "cell_type": "code",
   "execution_count": null,
   "metadata": {
    "tags": []
   },
   "outputs": [],
   "source": [
    "from pathlib import Path\n",
    "# Load songs\n",
    "paths = list(Path(\"../mukkeBude/songs/pokemon\").rglob(\"*.mid\"))\n",
    "print(f\"Found {len(paths)} songs.\")\n",
    "\n",
    "encoded_songs = utils.load_dataset_lstm(paths, 32, mapping, corpus=False, flat = False)"
   ]
  },
  {
   "attachments": {},
   "cell_type": "markdown",
   "metadata": {},
   "source": [
    "Each node is represented like this:\n",
    "```\n",
    "c  = n60\n",
    "c# = n61\n",
    "d  = n62\n",
    "...\n",
    "```\n",
    "\n",
    "To represent the duration of each note, we will use \"`_`\" for 1/16. For example, if we want to represent a C note with a duration of 1/8, we will use \"`n60 _ _`\". If we want to represent a C# note with a duration of 1/16, we will use onyl the letter \"`n61`\".\n",
    "\n",
    "To sepperate each song there are multiple \"`/`\" in the dataset."
   ]
  },
  {
   "cell_type": "code",
   "execution_count": null,
   "metadata": {
    "tags": []
   },
   "outputs": [],
   "source": [
    "# Train model\n",
    "model = MukkeBudeLSTM(mapping)\n",
    "print(model)\n",
    "\n",
    "# For tensorboard logging\n",
    "logdir = \"logs/videospielmusik_lstm_solo\"\n",
    "tensorboard_callback = keras.callbacks.TensorBoard(log_dir=logdir)\n",
    "\n",
    "model.train(encoded_songs, epochs=50, batch_size=32, tensorboard_callback=tensorboard_callback)"
   ]
  },
  {
   "attachments": {},
   "cell_type": "markdown",
   "metadata": {},
   "source": [
    "To load the pre trainend model you have to save the model. It will be saved at `mukkeBude/model/preTrainedModels`"
   ]
  },
  {
   "cell_type": "code",
   "execution_count": null,
   "metadata": {
    "tags": []
   },
   "outputs": [],
   "source": [
    "model.save(\"Videospielmusik_soloMelodie_lstm\")"
   ]
  },
  {
   "cell_type": "code",
   "execution_count": null,
   "metadata": {
    "tags": []
   },
   "outputs": [],
   "source": [
    "# Show the logs\n",
    "%tensorboard --logdir logs/videospielmusik_lstm_solo"
   ]
  },
  {
   "attachments": {},
   "cell_type": "markdown",
   "metadata": {},
   "source": [
    "## Train polyphony encoding"
   ]
  },
  {
   "cell_type": "code",
   "execution_count": null,
   "metadata": {
    "tags": []
   },
   "outputs": [],
   "source": [
    "# Disable tensorflow warnings\n",
    "import os\n",
    "os.environ['TF_CPP_MIN_LOG_LEVEL'] = '2'\n",
    "\n",
    "# 0 = all messages are logged (default behavior)\n",
    "# 1 = INFO messages are not printed\n",
    "# 2 = INFO and WARNING messages are not printed\n",
    "# 3 = INFO, WARNING, and ERROR messages are not printed"
   ]
  },
  {
   "cell_type": "code",
   "execution_count": null,
   "metadata": {},
   "outputs": [],
   "source": [
    "# Load the TensorBoard notebook extension.\n",
    "%load_ext tensorboard"
   ]
  },
  {
   "cell_type": "code",
   "execution_count": null,
   "metadata": {
    "tags": []
   },
   "outputs": [],
   "source": [
    "from mukkeBude.model import MukkeBudeLSTM\n",
    "from mukkeBude.mapping import MusicMapping\n",
    "import mukkeBude.utils as utils\n",
    "import music21 as m21\n",
    "import tensorflow as tf\n",
    "import keras\n",
    "\n",
    "# Check if GPU is found\n",
    "print(tf.config.list_physical_devices('GPU'))"
   ]
  },
  {
   "cell_type": "code",
   "execution_count": null,
   "metadata": {
    "tags": []
   },
   "outputs": [],
   "source": [
    "# Create mappings\n",
    "mapping = MusicMapping.create()\n",
    "\n",
    "# optional save the mapping\n",
    "# mapping.save(\"mapping.txt\")"
   ]
  },
  {
   "cell_type": "code",
   "execution_count": null,
   "metadata": {
    "tags": []
   },
   "outputs": [],
   "source": [
    "from pathlib import Path\n",
    "# Load songs\n",
    "paths = list(Path(\"../mukkeBude/songs/pokemon\").rglob(\"*.mid\"))\n",
    "print(f\"Found {len(paths)} songs in corpus.\")\n",
    "\n",
    "encoded_songs = []\n",
    "for path in paths:\n",
    "    song = utils.read_single(path)\n",
    "    encoded_song = utils.to_polyphonic_encoding(song, mapping)\n",
    "    encoded_songs.extend(encoded_song)\n",
    "\n",
    "print(f\"Songs encoded: {len(encoded_songs)}\")"
   ]
  },
  {
   "attachments": {},
   "cell_type": "markdown",
   "metadata": {},
   "source": [
    "Each node is represented like this:\n",
    "```\n",
    "c  = n60\n",
    "c# = n61\n",
    "d  = n62\n",
    "...\n",
    "```\n",
    "\n",
    "To represent the duration of each note, we will use \"`d1, d2, d3, ...`\". For example, if we want to represent a C note with a duration of 1/8, we will use \"`n60 d2`\". If we want to represent a C# note with a duration of 1/16, we will use \"`n61 d1`\".\n",
    "\n",
    "To sepperate the notes which are played at the same time we will use \"`xxsep`\". For example, if we want to represent a C note with a duration of 1/16 and a C# note with a duration of 1/16 played at the same time, we will use \"`n60 d1 n61 d1 xxsep`\".\n",
    "\n",
    "To sepperate each song there is \"`xxbos`\" in the dataset."
   ]
  },
  {
   "cell_type": "code",
   "execution_count": null,
   "metadata": {
    "tags": []
   },
   "outputs": [],
   "source": [
    "# Train model\n",
    "model = MukkeBudeLSTM(mapping)\n",
    "print(model)\n",
    "\n",
    "logdir = \"logs/videospielmusik_lstm_polyphonie\"\n",
    "tensorboard_callback = keras.callbacks.TensorBoard(log_dir=logdir)\n",
    "\n",
    "model.train(encoded_songs, epochs=50, batch_size=32, tensorboard_callback=tensorboard_callback)"
   ]
  },
  {
   "cell_type": "code",
   "execution_count": null,
   "metadata": {},
   "outputs": [],
   "source": [
    "# Save model\n",
    "model.save(\"Videospielmusik_polyphonie_lstm\")"
   ]
  },
  {
   "cell_type": "code",
   "execution_count": null,
   "metadata": {
    "tags": []
   },
   "outputs": [],
   "source": [
    "# Show the logs\n",
    "%tensorboard --logdir logs/videospielmusik_lstm_polyphonie"
   ]
  },
  {
   "attachments": {},
   "cell_type": "markdown",
   "metadata": {},
   "source": [
    "# Generate music\n",
    "\n",
    "In this section you can generate music with a pre trained LSTM model. The first section is monophony and the second with polyphony encoding."
   ]
  },
  {
   "attachments": {},
   "cell_type": "markdown",
   "metadata": {},
   "source": [
    "## Generate monophony"
   ]
  },
  {
   "cell_type": "code",
   "execution_count": null,
   "metadata": {},
   "outputs": [],
   "source": [
    "# Disable tensorflow warnings\n",
    "import os\n",
    "os.environ['TF_CPP_MIN_LOG_LEVEL'] = '2'\n",
    "\n",
    "# 0 = all messages are logged (default behavior)\n",
    "# 1 = INFO messages are not printed\n",
    "# 2 = INFO and WARNING messages are not printed\n",
    "# 3 = INFO, WARNING, and ERROR messages are not printed"
   ]
  },
  {
   "cell_type": "code",
   "execution_count": null,
   "metadata": {},
   "outputs": [],
   "source": [
    "from mukkeBude.model import MukkeBudeLSTM\n",
    "from mukkeBude.mapping import MusicMapping\n",
    "import mukkeBude.utils as utils\n",
    "import tensorflow as tf\n",
    "from pathlib import Path\n",
    "\n",
    "from mukkeBude.mapping import SPECIAL_TOKS\n",
    "from mukkeBude.mapping import REST\n",
    "from mukkeBude.mapping import WAIT_LSTM\n",
    "\n",
    "\n",
    "# Check if GPU is found\n",
    "print(tf.config.list_physical_devices('GPU'))"
   ]
  },
  {
   "cell_type": "code",
   "execution_count": null,
   "metadata": {},
   "outputs": [],
   "source": [
    "# Create mappings\n",
    "mapping = MusicMapping.create()\n",
    "\n",
    "# optional save the mapping\n",
    "# mapping.save(\"mapping.txt\")"
   ]
  },
  {
   "cell_type": "code",
   "execution_count": null,
   "metadata": {},
   "outputs": [],
   "source": [
    "model = MukkeBudeLSTM.load(mapping, \"Videospielmusik_soloMelodie_lstm\")"
   ]
  },
  {
   "attachments": {},
   "cell_type": "markdown",
   "metadata": {},
   "source": [
    "You need to pass a start seed. You can also give the network a max length for the generation (it can be shorter but not longer)"
   ]
  },
  {
   "cell_type": "code",
   "execution_count": null,
   "metadata": {},
   "outputs": [],
   "source": [
    "# Create song\n",
    "generated_song = model.generate(\"n79 _ n67 n67 n67 _ n74 n79 n77 _ n65 n65 n65 _ n72 n77 n76 _ n60 n60 n60 _ n76 n76 n76 _ _ n72 n67 n76 n78 _ _ _ n74 n69 n81 n67 _ _ _ _ _ _ _ _ _ _\", max_length=800, temperature=0.7)\n",
    "\n",
    "# Remove REST and WAIT_LSTM from SPECIAL_TOKS\n",
    "# They should not be removed from the generated song\n",
    "special_tokens = SPECIAL_TOKS.copy()\n",
    "special_tokens.remove(REST)\n",
    "special_tokens.remove(WAIT_LSTM)\n",
    "\n",
    "generated_song = \" \".join(utils.replace_special_tokens(generated_song.split(), WAIT_LSTM, special_tokens))"
   ]
  },
  {
   "cell_type": "code",
   "execution_count": null,
   "metadata": {},
   "outputs": [],
   "source": [
    "new_song = utils.decode_songs_old(generated_song, bpm=120)\n",
    "print(generated_song)"
   ]
  },
  {
   "cell_type": "code",
   "execution_count": null,
   "metadata": {},
   "outputs": [],
   "source": [
    "path = Path(\"generated_song_videospielmusik_lstm_mono.mid\")\n",
    "utils.write_midi(new_song, path)"
   ]
  },
  {
   "attachments": {},
   "cell_type": "markdown",
   "metadata": {},
   "source": [
    "To open the midi file we recomend [musecore](https://musescore.org/de)"
   ]
  },
  {
   "attachments": {},
   "cell_type": "markdown",
   "metadata": {},
   "source": [
    "## Generate polyphony"
   ]
  },
  {
   "cell_type": "code",
   "execution_count": null,
   "metadata": {},
   "outputs": [],
   "source": [
    "# Disable tensorflow warnings\n",
    "import os\n",
    "os.environ['TF_CPP_MIN_LOG_LEVEL'] = '2'\n",
    "\n",
    "# 0 = all messages are logged (default behavior)\n",
    "# 1 = INFO messages are not printed\n",
    "# 2 = INFO and WARNING messages are not printed\n",
    "# 3 = INFO, WARNING, and ERROR messages are not printed"
   ]
  },
  {
   "cell_type": "code",
   "execution_count": null,
   "metadata": {},
   "outputs": [],
   "source": [
    "from mukkeBude.model import MukkeBudeLSTM\n",
    "from mukkeBude.mapping import MusicMapping\n",
    "import mukkeBude.utils as utils\n",
    "import tensorflow as tf\n",
    "import numpy as np\n",
    "from pathlib import Path\n",
    "\n",
    "from mukkeBude.mapping import SPECIAL_TOKS\n",
    "from mukkeBude.mapping import SEP\n",
    "from mukkeBude.mapping import BOS\n",
    "\n",
    "\n",
    "# Check if GPU is found\n",
    "print(tf.config.list_physical_devices('GPU'))"
   ]
  },
  {
   "cell_type": "code",
   "execution_count": null,
   "metadata": {},
   "outputs": [],
   "source": [
    "# Create mappings\n",
    "mapping = MusicMapping.create()\n",
    "\n",
    "# optional save the mapping\n",
    "# mapping.save(\"mapping.txt\")"
   ]
  },
  {
   "cell_type": "code",
   "execution_count": null,
   "metadata": {},
   "outputs": [],
   "source": [
    "model = MukkeBudeLSTM.load(mapping, \"Videospielmusik_polyphonie_lstm\")"
   ]
  },
  {
   "cell_type": "code",
   "execution_count": null,
   "metadata": {},
   "outputs": [],
   "source": [
    "# Create song\n",
    "generated_song = model.generate(\"n46 d4 xxsep d4 n53 d2 n50 d2 xxsep d2 n62 d1 n58 d1 xxsep d2 n53 d2 n53 d2 n50 d2 xxsep d4 n46 d4 xxsep d4 n55 d2 n51 d2 xxsep d2 n63 d1 n58 d1 xxsep d2 n55 d2 n55 d2 n51 d2 xxsep d4 n46 d4 xxsep d4 n57 d2 n53 d2 xxsep d2 n65 d1 n60 d1 xxsep d2 n57 d2 n57 d2 n53 d2 xxsep d4 n46 d4 xxsep d4 n55 d2 n51 d2 xxsep d2 n63 d1 n58 d1 xxsep d2 n55 d2 n55 d2 n51 d2 xxsep d4\", 1500, temperature=0.7)\n",
    "\n",
    "# Remove REST and WAIT_LSTM from SPECIAL_TOKS\n",
    "# They should not be removed from the generated song\n",
    "special_tokens = SPECIAL_TOKS.copy()\n",
    "special_tokens.remove(SEP)\n",
    "special_tokens.remove(BOS)\n",
    "\n",
    "generated_song = \" \".join(utils.replace_special_tokens(generated_song.split(), \"d1\", special_tokens))"
   ]
  },
  {
   "cell_type": "code",
   "execution_count": null,
   "metadata": {},
   "outputs": [],
   "source": [
    "new_song_ints = mapping.numericalize(generated_song.split(\" \"))\n",
    "new_song = utils.from_polyphonic_encoding(np.array(new_song_ints), mapping, bpm=120)"
   ]
  },
  {
   "cell_type": "code",
   "execution_count": null,
   "metadata": {},
   "outputs": [],
   "source": [
    "path = Path(\"generated_song_videospielmusik_lstm_poly.mid\")\n",
    "utils.write_midi(new_song, path)"
   ]
  }
 ],
 "metadata": {
  "kernelspec": {
   "display_name": "Python 3 (ipykernel)",
   "language": "python",
   "name": "python3"
  },
  "language_info": {
   "codemirror_mode": {
    "name": "ipython",
    "version": 3
   },
   "file_extension": ".py",
   "mimetype": "text/x-python",
   "name": "python",
   "nbconvert_exporter": "python",
   "pygments_lexer": "ipython3",
   "version": "3.9.16"
  }
 },
 "nbformat": 4,
 "nbformat_minor": 4
}
