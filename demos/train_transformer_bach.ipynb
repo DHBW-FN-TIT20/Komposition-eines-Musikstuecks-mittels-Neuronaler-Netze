{
 "cells": [
  {
   "cell_type": "code",
   "execution_count": null,
   "metadata": {},
   "outputs": [],
   "source": [
    "# Disable tensorflow warnings\n",
    "import os\n",
    "os.environ['TF_CPP_MIN_LOG_LEVEL'] = '2'\n",
    "\n",
    "# 0 = all messages are logged (default behavior)\n",
    "# 1 = INFO messages are not printed\n",
    "# 2 = INFO and WARNING messages are not printed\n",
    "# 3 = INFO, WARNING, and ERROR messages are not printed"
   ]
  },
  {
   "cell_type": "code",
   "execution_count": null,
   "metadata": {},
   "outputs": [],
   "source": [
    "# Load the TensorBoard notebook extension.\n",
    "%load_ext tensorboard"
   ]
  },
  {
   "cell_type": "code",
   "execution_count": null,
   "metadata": {},
   "outputs": [],
   "source": [
    "from mukkeBude.model import MukkeBudeTransformer\n",
    "from mukkeBude.mapping import MusicMapping\n",
    "import mukkeBude.utils as utils\n",
    "import music21 as m21\n",
    "import tensorflow as tf\n",
    "import numpy as np\n",
    "import keras\n",
    "from pathlib import Path\n",
    "\n",
    "# Check if GPU is found\n",
    "print(tf.config.list_physical_devices('GPU'))"
   ]
  },
  {
   "cell_type": "code",
   "execution_count": null,
   "metadata": {},
   "outputs": [],
   "source": [
    "# Create mappings\n",
    "mapping = MusicMapping.create()\n",
    "mapping.save(\"mapping.txt\")"
   ]
  },
  {
   "cell_type": "code",
   "execution_count": null,
   "metadata": {},
   "outputs": [],
   "source": [
    "# Load songs\n",
    "paths = m21.corpus.getComposer('bach')\n",
    "paths = paths[:100]\n",
    "print(f\"Found {len(paths)} songs in corpus.\")\n",
    "\n",
    "encoded_songs = []\n",
    "for path in paths:\n",
    "    song = utils.read_single_from_corpus(path)\n",
    "    encoded_song = utils.to_polyphonic_encoding(song, mapping)\n",
    "    encoded_songs.append(mapping.textify(encoded_song))\n",
    "\n",
    "print(f\"Songs encoded: {len(encoded_songs)}\")"
   ]
  },
  {
   "cell_type": "code",
   "execution_count": null,
   "metadata": {},
   "outputs": [],
   "source": [
    "# Create dataset\n",
    "utils.create_train_data(encoded_songs, \"raw_train_ds.txt\")\n",
    "print(\"Dataset created\")"
   ]
  },
  {
   "cell_type": "code",
   "execution_count": null,
   "metadata": {},
   "outputs": [],
   "source": [
    "# Train model\n",
    "model = MukkeBudeTransformer(mapping)\n",
    "print(model)\n",
    "\n",
    "logdir = \"logs/bach_transformer\"\n",
    "tensorboard_callback = keras.callbacks.TensorBoard(log_dir=logdir)\n",
    "\n",
    "model.train(\"raw_train_ds.txt\", min_training_seq_len=32, epochs=30, tensorboard_callback=tensorboard_callback)"
   ]
  },
  {
   "cell_type": "code",
   "execution_count": null,
   "metadata": {},
   "outputs": [],
   "source": [
    "%tensorboard --logdir logs/bach_transformer"
   ]
  },
  {
   "cell_type": "code",
   "execution_count": null,
   "metadata": {},
   "outputs": [],
   "source": [
    "# Create song\n",
    "generated_song = model.generate(\"xxbos n67 d4 n62 d4 n58 d4 n43 d4 xxsep d4 n67 d4 n62 d4 n58 d4 n55 d4 xxsep d4 n69 d4 n62 d4 n57 d4 n54 d4 xxsep\", max_length=2048, probability=0.8)\n",
    "new_song_str = generated_song.numpy().decode(\"utf-8\")\n",
    "print(f\"CLEAN SONG: {new_song_str}\\n\\n\")\n",
    "\n",
    "# THIS DEPENDS ON THE OUTPUT - NEED TO FIX THE OUTPUT\n",
    "# new_song_str = new_song_str[15:]\n",
    "# new_song_str = \"xxbos xxpad \" + new_song_str\n",
    "# new_song_str = new_song_str.replace(\"   \", \" \")\n",
    "\n",
    "print(new_song_str[:50])"
   ]
  },
  {
   "cell_type": "code",
   "execution_count": null,
   "metadata": {},
   "outputs": [],
   "source": [
    "# Convert to music21\n",
    "new_song_ints = mapping.numericalize(new_song_str.split(\" \"))\n",
    "new_song_ints = np.array(new_song_ints)\n",
    "\n",
    "print(new_song_ints[:50])\n",
    "print(mapping.textify(new_song_ints[:50]))\n",
    "\n",
    "new_song = utils.from_polyphonic_encoding(new_song_ints, mapping, bpm=100)\n",
    "path = Path(\"generated_song_bach.mid\")\n",
    "utils.write_midi(new_song, path)\n",
    "utils.write_musicxml(new_song, \"generated_song_bach.musicxml\")"
   ]
  },
  {
   "cell_type": "code",
   "execution_count": null,
   "metadata": {},
   "outputs": [],
   "source": [
    "# Open song in MuseScore (Linux if installed)\n",
    "!musescore4portable {path.absolute()}"
   ]
  }
 ],
 "metadata": {
  "kernelspec": {
   "display_name": "Python 3 (ipykernel)",
   "language": "python",
   "name": "python3"
  },
  "language_info": {
   "codemirror_mode": {
    "name": "ipython",
    "version": 3
   },
   "file_extension": ".py",
   "mimetype": "text/x-python",
   "name": "python",
   "nbconvert_exporter": "python",
   "pygments_lexer": "ipython3",
   "version": "3.9.16"
  },
  "vscode": {
   "interpreter": {
    "hash": "9052d763eeeacaf5da08a840d251d734fa4deea148f97d28b11062c8c516292f"
   }
  }
 },
 "nbformat": 4,
 "nbformat_minor": 4
}
