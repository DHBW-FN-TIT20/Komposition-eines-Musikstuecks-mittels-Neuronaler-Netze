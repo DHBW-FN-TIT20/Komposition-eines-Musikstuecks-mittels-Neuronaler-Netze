{
 "cells": [
  {
   "cell_type": "markdown",
   "id": "356c3e5c-9693-4d96-8a4e-01e02a157c36",
   "metadata": {},
   "source": [
    "# Generieren von Daten\n",
    "In diesem Notebook wird mithilfe des erstellten Modell's Musik generiert"
   ]
  },
  {
   "cell_type": "code",
   "execution_count": null,
   "id": "00691400-1ac1-4963-8df2-243cbabe56f0",
   "metadata": {},
   "outputs": [],
   "source": [
    "# Needed imports\n",
    "import numpy as np\n",
    "import json\n",
    "from tensorflow import keras\n",
    "from pathlib import Path\n",
    "\n",
    "# Needed variabel\n",
    "model_path = Path(__file__).parent / \"model.h5\"\n",
    "datasets_folder = Path(__file__).parent / 'dataset'\n",
    "mapping_path = datasets_folder / 'mappings.json'\n",
    "sequence_length = 64"
   ]
  },
  {
   "attachments": {},
   "cell_type": "markdown",
   "id": "51529034-35f7-43f8-a0ab-758d70eb4dcf",
   "metadata": {},
   "source": [
    "## Lade das modell und die Mappings"
   ]
  },
  {
   "cell_type": "code",
   "execution_count": null,
   "id": "73ef9e5b-87d7-4ffb-ae7a-91510651b0be",
   "metadata": {},
   "outputs": [],
   "source": [
    "model = keras.models.load_model(model_path)\n",
    "model.summary()"
   ]
  },
  {
   "cell_type": "code",
   "execution_count": null,
   "id": "377113bd",
   "metadata": {},
   "outputs": [],
   "source": [
    "with open(mapping_path, 'r') as f:\n",
    "    mappings = json.load(f)\n",
    "\n",
    "print(mappings)"
   ]
  },
  {
   "cell_type": "code",
   "execution_count": null,
   "id": "67797dcb",
   "metadata": {},
   "outputs": [],
   "source": [
    "start_symbols = [\"/\"] * sequence_length"
   ]
  },
  {
   "attachments": {},
   "cell_type": "markdown",
   "id": "2745d45e",
   "metadata": {},
   "source": [
    "## Erstellen des angangsseeds"
   ]
  },
  {
   "cell_type": "code",
   "execution_count": null,
   "id": "ca35deff",
   "metadata": {},
   "outputs": [],
   "source": [
    "seed  "
   ]
  }
 ],
 "metadata": {
  "kernelspec": {
   "display_name": "Python 3 (ipykernel)",
   "language": "python",
   "name": "python3"
  },
  "language_info": {
   "codemirror_mode": {
    "name": "ipython",
    "version": 3
   },
   "file_extension": ".py",
   "mimetype": "text/x-python",
   "name": "python",
   "nbconvert_exporter": "python",
   "pygments_lexer": "ipython3",
   "version": "3.9.6"
  }
 },
 "nbformat": 4,
 "nbformat_minor": 5
}
