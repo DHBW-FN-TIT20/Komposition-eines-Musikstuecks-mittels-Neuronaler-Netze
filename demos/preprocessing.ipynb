{
 "cells": [
  {
   "cell_type": "markdown",
   "metadata": {
    "tags": []
   },
   "source": [
    "# Preprocessing\n",
    "\n",
    "Folgende Schritte werden hier durchgeführt:\n",
    "\n",
    "1. Laden der Daten\n",
    "2. Songs filtern, welche nicht verwendet werden können\n",
    "3. Transponieren der Lieder zu einheitlichem C maj oder A min\n",
    "4. Encode die Musik zu einem Zeitserienformat\n",
    "5. Speicher die Zeitserien in eine Textdatei für spätere wiederverwendung"
   ]
  },
  {
   "cell_type": "markdown",
   "metadata": {
    "jp-MarkdownHeadingCollapsed": true,
    "tags": []
   },
   "source": [
    "## Laden der Songs\n",
    "In dem Abschnitt werden alle Daten geladen die in dem Ornder `deutschl`sind mit der Endung `.krn`"
   ]
  },
  {
   "cell_type": "code",
   "execution_count": 1,
   "metadata": {
    "tags": []
   },
   "outputs": [],
   "source": [
    "from pathlib import Path\n",
    "import music21 as m21"
   ]
  },
  {
   "cell_type": "markdown",
   "metadata": {},
   "source": [
    "Laden der Lieder in `songs` in einem Music21 Score."
   ]
  },
  {
   "cell_type": "code",
   "execution_count": 2,
   "metadata": {
    "tags": []
   },
   "outputs": [],
   "source": [
    "data_folder = Path(__file__).parent / 'deutschl' / 'test'\n",
    "\n",
    "songs = []\n",
    "\n",
    "# Open all .krn files in the folder\n",
    "for file in data_folder.glob('*.krn'):\n",
    "    song = m21.converter.parse(file)\n",
    "    songs.append(song)"
   ]
  },
  {
   "cell_type": "markdown",
   "metadata": {},
   "source": [
    "Anzahl der geladenen Lieder:"
   ]
  },
  {
   "cell_type": "code",
   "execution_count": 3,
   "metadata": {
    "tags": []
   },
   "outputs": [
    {
     "name": "stdout",
     "output_type": "stream",
     "text": [
      "Loaded 12 songs\n"
     ]
    }
   ],
   "source": [
    "print(f\"Loaded {len(songs)} songs\")"
   ]
  },
  {
   "cell_type": "markdown",
   "metadata": {},
   "source": [
    "Zeigt das Lied 0 an. </br>\n",
    "Hinweis msuic21 muss entsprechend eingestellt sein"
   ]
  },
  {
   "cell_type": "code",
   "execution_count": 4,
   "metadata": {},
   "outputs": [],
   "source": [
    "# songs[0].show()"
   ]
  },
  {
   "cell_type": "markdown",
   "metadata": {
    "jp-MarkdownHeadingCollapsed": true,
    "tags": []
   },
   "source": [
    "## Songs filtern\n",
    "Filtern der Songs nach akzeptable Längen der Noten:\n",
    "- 0.25\n",
    "- 0.5\n",
    "- 0.75\n",
    "- 1.0\n",
    "- 1.5\n",
    "- 2\n",
    "- 3\n",
    "- 4\n",
    "\n",
    "Siehe hier (3 und 0.75 sind Noten mit nem Punkt hinten drann hier nicht gelisted):\n",
    "![](./Bilder/Notenl%C3%A4nge.png)"
   ]
  },
  {
   "cell_type": "code",
   "execution_count": 5,
   "metadata": {},
   "outputs": [
    {
     "name": "stdout",
     "output_type": "stream",
     "text": [
      "Found 0 bad songs\n",
      "Removed 0 bad songs\n",
      "Remaining songs: 12\n"
     ]
    }
   ],
   "source": [
    "accaptable_durations = [0.25, 0.5, 0.75, 1.0, 1.5, 2.0, 3.0, 4.0]\n",
    "\n",
    "bad_songs = []\n",
    "\n",
    "for index, song in enumerate(songs):\n",
    "    for note in song.flat.notesAndRests:\n",
    "        if note.duration.quarterLength not in accaptable_durations:\n",
    "            bad_songs.append(index)\n",
    "            break\n",
    "\n",
    "print(f\"Found {len(bad_songs)} bad songs\")\n",
    "\n",
    "# Remove bad songs\n",
    "for index in sorted(bad_songs, reverse=True):\n",
    "    del songs[index]\n",
    "\n",
    "print(f\"Removed {len(bad_songs)} bad songs\")\n",
    "print(f\"Remaining songs: {len(songs)}\")"
   ]
  },
  {
   "cell_type": "markdown",
   "metadata": {
    "jp-MarkdownHeadingCollapsed": true,
    "tags": []
   },
   "source": [
    "## Transponieren der Lieder zu einheitlichem C maj oder A min\n",
    "\n",
    "Dies wird gemacht, um später zum lernen der KI Daten einzusparen. Nach diesem Schritt muss das Netzwerk nicht alle 24 verschiedene Schlüssel generalliesiern. Möchte man es torztdem, dann nimmnt man alle Daten und trnsponiert es in alle verschiedene Notenschlüssel und verwendet dies zum lernen. Das sind aber ein haufen Daten, die man an sich nicht benötigt\n",
    "\n",
    "1. Notenschlüssel des Liedes bekommen / ermittelen </br>\n",
    "   Parts sind die einzelnen Abschnitte der Lieder\n",
    "2. Entweder die Notenschlüssel ist bereits im Lied hinterlegt -> Verwende diesen </br>\n",
    "   Oder music21 versucht den Notenschlüssel herauszufinden\n",
    "3. Wir berechnen den Abstand von einem major Lied zu C oder von minor nach A\n",
    "4. Transponieren alle Lieder mit dem zuvor ermittelten Notenschlüssel\n",
    "\n",
    "----\n",
    "\n",
    "Notizen\n",
    "\n",
    "Maj -> Dur (glücklich)\n",
    "Min -> Moll (unglücklich)\n",
    "\n",
    "Music21 Aufbau\n",
    "![](./Bilder/music21-Struktur.png)\n",
    "![](./Bilder/music21-Struktur-Beispiel.png)"
   ]
  },
  {
   "cell_type": "code",
   "execution_count": 6,
   "metadata": {
    "tags": []
   },
   "outputs": [],
   "source": [
    "transposed_songs = []\n",
    "\n",
    "for song in songs:\n",
    "    parts = song.getElementsByClass(m21.stream.Part)\n",
    "    measures_part0 = parts[0].getElementsByClass(m21.stream.Measure)\n",
    "    key = measures_part0[0][4]      # There is the key signature of the most songs in THIS dataset \n",
    "\n",
    "    # If no key siganture is found, we use music21's key guessing algorithm\n",
    "    if not isinstance(key, m21.key.Key):\n",
    "        key = song.analyze('key')\n",
    "\n",
    "    # get interval for transposition\n",
    "    if key.mode == \"major\":\n",
    "        # Interval between tonic and C\n",
    "        interval = m21.interval.Interval(key.tonic, m21.pitch.Pitch(\"C\"))\n",
    "    elif key.mode == \"minor\":\n",
    "        # Interval between tonic and A\n",
    "        interval = m21.interval.Interval(key.tonic, m21.pitch.Pitch(\"A\"))\n",
    "\n",
    "    # transpose song to C major or A minor\n",
    "    transposed_song = song.transpose(interval)\n",
    "    transposed_songs.append(transposed_song)"
   ]
  },
  {
   "cell_type": "code",
   "execution_count": 7,
   "metadata": {},
   "outputs": [],
   "source": [
    "# transposed_songs[0].show()"
   ]
  },
  {
   "cell_type": "markdown",
   "metadata": {
    "jp-MarkdownHeadingCollapsed": true,
    "tags": []
   },
   "source": [
    "## Encoden der Songs\n",
    "Die Songs werden in ein Textformat transponiert.\n",
    "\n",
    "Hierfür verwendet man die MIDI Integer Werte für die einzelne Tonhöhen. Jeder Zeitspempel in der Textdatei ist eine 1/16 Note. Bedeutet, dass bei der Tonhöhe von 60 und einer Länge von 1.0 Takte dies umgeandelt wird in -> [60, \"_\", \"_\", \"_\"]\n",
    "\n",
    "Ein \"_\" bedeutet, dass der Vorherige gespielte Ton immer noch gespielt wird."
   ]
  },
  {
   "cell_type": "code",
   "execution_count": 8,
   "metadata": {
    "tags": []
   },
   "outputs": [],
   "source": [
    "encoded_songs = []\n",
    "\n",
    "for song in transposed_songs:\n",
    "\n",
    "    # Every time step is a quarter note\n",
    "    time_step = 0.25\n",
    "\n",
    "    encoded_song = []\n",
    "\n",
    "    # Save the song in MIDI format\n",
    "    # A event is a note or a rest\n",
    "    for event in song.flat.notesAndRests:\n",
    "\n",
    "        # Notes\n",
    "        if isinstance(event, m21.note.Note):\n",
    "            symbol = event.pitch.midi\n",
    "        # Rests\n",
    "        elif isinstance(event, m21.note.Rest):\n",
    "            symbol = \"r\"\n",
    "\n",
    "        # For example, if the duration of the event is 1.0 (a quarter note), we need to add 4 time steps\n",
    "        # The note itself and 3 \"_\" symbols\n",
    "        steps = int(event.duration.quarterLength / time_step)\n",
    "        for step in range(steps):\n",
    "            if step == 0:\n",
    "                encoded_song.append(symbol)\n",
    "            else:\n",
    "                encoded_song.append(\"_\")\n",
    "\n",
    "    # cast the encoded song to string\n",
    "    encoded_song = \" \".join(map(str, encoded_song))\n",
    "    encoded_songs.append(encoded_song)"
   ]
  },
  {
   "cell_type": "markdown",
   "metadata": {},
   "source": [
    "So sehen die Songs jetzt aus:"
   ]
  },
  {
   "cell_type": "code",
   "execution_count": 9,
   "metadata": {
    "tags": []
   },
   "outputs": [
    {
     "name": "stdout",
     "output_type": "stream",
     "text": [
      "64 _ 69 _ _ _ 71 _ 72 _ _ 71 69 _ 76 _ _ _ _ _ 71 _ _ _ 74 _ 72 _ _ 71 69 _ 68 _ _ _ 69 _ 71 _ _ _ _ _ r _ _ _ 64 _ 76 _ _ _ 76 _ 72 _ _ 71 69 _ 81 _ _ _ _ _ 77 _ _ _ 74 _ 72 _ _ 71 69 _ 71 _ _ 69 68 _ 69 _ _ _ _ _ r _ _ _\n"
     ]
    }
   ],
   "source": [
    "print(encoded_songs[0])"
   ]
  },
  {
   "cell_type": "markdown",
   "metadata": {
    "jp-MarkdownHeadingCollapsed": true,
    "tags": []
   },
   "source": [
    "## Speichern der Encoded Songs\n",
    "Um die Schritte nicht immer wieder erneut durchzuführen, speichern wir die `encoded_songs` im Ordner datasets"
   ]
  },
  {
   "cell_type": "code",
   "execution_count": 10,
   "metadata": {
    "tags": []
   },
   "outputs": [
    {
     "name": "stdout",
     "output_type": "stream",
     "text": [
      "D:\\Dokumente2\\Python_Programme\\Komposition-eines-Musikstuecks-mittels-Neuronaler-Netze\\demos\\dataset\n"
     ]
    }
   ],
   "source": [
    "# Create the folders\n",
    "datasets_folder = Path(__file__).parent / 'dataset'\n",
    "datasets_folder.mkdir(exist_ok=True)\n",
    "\n",
    "print(datasets_folder)"
   ]
  },
  {
   "cell_type": "code",
   "execution_count": 11,
   "metadata": {
    "tags": []
   },
   "outputs": [],
   "source": [
    "# Clear the folder from old Data\n",
    "for file in datasets_folder.glob('*'):\n",
    "    file.unlink()"
   ]
  },
  {
   "cell_type": "code",
   "execution_count": 12,
   "metadata": {
    "tags": []
   },
   "outputs": [],
   "source": [
    "for index, encoded_song in enumerate(encoded_songs):\n",
    "    save_path = datasets_folder / f\"{index}\"\n",
    "    with open(save_path, \"w\") as file:\n",
    "        file.write(encoded_song)"
   ]
  },
  {
   "cell_type": "markdown",
   "metadata": {},
   "source": [
    "## Erstellen einer einzigen Datei der Trainingsdaten\n",
    "Um das Netzwerk später leichter zu trainieren, speichern wir alle Songs in einer einzigen Datei. Die einzelne Songs werden mit einem Sepperator getrennt."
   ]
  },
  {
   "cell_type": "code",
   "execution_count": 13,
   "metadata": {
    "tags": []
   },
   "outputs": [],
   "source": [
    "# Load the data\n",
    "encoded_songs = []\n",
    "for file in datasets_folder.glob('*'):\n",
    "    with open(file, \"r\") as f:\n",
    "        encoded_songs.append(f.read())"
   ]
  },
  {
   "cell_type": "code",
   "execution_count": 14,
   "metadata": {
    "tags": []
   },
   "outputs": [],
   "source": [
    "single_file = datasets_folder / 'singel_file'\n",
    "single_file.unlink(missing_ok=True)\n",
    "\n",
    "sequence_length = 64\n",
    "\n",
    "new_song_delimiter = \"/ \" * sequence_length"
   ]
  },
  {
   "cell_type": "markdown",
   "metadata": {},
   "source": [
    "So schaut ein song aus, wie er in die Datei gespeichert wird:"
   ]
  },
  {
   "cell_type": "code",
   "execution_count": 15,
   "metadata": {
    "tags": []
   },
   "outputs": [
    {
     "name": "stdout",
     "output_type": "stream",
     "text": [
      "Length: 351\n",
      "64 _ 69 _ _ _ 71 _ 72 _ _ 71 69 _ 76 _ _ _ _ _ 71 _ _ _ 74 _ 72 _ _ 71 69 _ 68 _ _ _ 69 _ 71 _ _ _ _ _ r _ _ _ 64 _ 76 _ _ _ 76 _ 72 _ _ 71 69 _ 81 _ _ _ _ _ 77 _ _ _ 74 _ 72 _ _ 71 69 _ 71 _ _ 69 68 _ 69 _ _ _ _ _ r _ _ _ / / / / / / / / / / / / / / / / / / / / / / / / / / / / / / / / / / / / / / / / / / / / / / / / / / / / / / / / / / / / / / / / \n"
     ]
    }
   ],
   "source": [
    "song_0 = encoded_songs[0] + \" \" + new_song_delimiter\n",
    "print(f\"Length: {len(song_0)}\")\n",
    "print(song_0)"
   ]
  },
  {
   "cell_type": "code",
   "execution_count": 16,
   "metadata": {
    "tags": []
   },
   "outputs": [],
   "source": [
    "# Create a single file with all songs\n",
    "with open(single_file, \"a\") as file:\n",
    "    for index, song in enumerate(encoded_songs):\n",
    "        file.write(song)\n",
    "\n",
    "        # Remove the last space if it is the last song\n",
    "        if index != len(encoded_songs) - 1:\n",
    "            file.write( \" \" + new_song_delimiter)\n",
    "        else:\n",
    "            file.write( \" \" + new_song_delimiter[:-1])"
   ]
  },
  {
   "cell_type": "code",
   "execution_count": 17,
   "metadata": {
    "tags": []
   },
   "outputs": [
    {
     "name": "stdout",
     "output_type": "stream",
     "text": [
      "64 _ 69 _ _ _ 71 _ 72 _ _ 71 69 _ 76 _ _ _ _ _ 71 _ _ _ 74 _ 72 _ _ 71 69 _ 68 _ _ _ 69 _ 71 _ _ _ _ _ r _ _ _ 64 _ 76 _ _ _ 76 _ 72 _ _ 71 69 _ 81 _ _ _ _ _ 77 _ _ _ 74 _ 72 _ _ 71 69 _ 71 _ _ 69 68 _ 69 _ _ _ _ _ r _ _ _ / / / / / / / / / / / / / / / / / / / / / / / / / / / / / / / / / / / / / / / / / / / / / / / / / / / / / / / / / / / / / / / / 64 _ 69 _ _ _ 71 _ 72 _ _ 71 69 _ 76 _ _ _ _ _ 71 _ _ _ 74 _ 72 _ _ 71 69 _ 68 _ _ _ 69 _ 71 _ _ _ _ _ r _ _ _ 64 _ 76 _ _ _ 76 _ 72 _ _ 71 69 _ 81 _ _ _ _ _ 77 _ _ _ 74 _ 72 _ _ 71 69 _ 71 _ _ 69 68 _ 69 _ _ _ _ _ r _ _ _ / / / / / / / / / / / / / / / / / / / / / / / / / / / / / / / / / / / / / / / / / / / / / / / / / / / / / / / / / / / / / / / / 55 _ _ _ 64 _ _ _ 64 _ 64 _ 64 _ _ _ 62 _ 62 _ 62 _ _ _ _ _ 60 _ 60 _ _ _ 55 _ _ _ 65 _ _ _ 65 _ 65 _ 65 _ 64 _ 67 _ 64 _ 64 _ _ _ 62 _ _ _ r _ _ _ 55 _ _ _ 67 _ _ _ 67 _ 67 _ 67 _ _ _ 65 _ 65 _ 64 _ _ _ _ _ _ _ 67 _ 65 _ 64 _ 62 _ 60 _ _ _ 60 _ 60 _ 64 _ 62 _ 62 _ _ _ 60 _ _ _ _ _ _ _ 62 _ _ _ 65\n"
     ]
    }
   ],
   "source": [
    "# Show the first 1000 characters\n",
    "with open(single_file, \"r\") as file:\n",
    "    print(file.read(1000))"
   ]
  },
  {
   "cell_type": "code",
   "execution_count": 18,
   "metadata": {
    "tags": []
   },
   "outputs": [
    {
     "name": "stdout",
     "output_type": "stream",
     "text": [
      "/ / / / / / / / / / / / / / / / / / / / / / / / / / / / / / / / / / / / / / / / / / / 76 _ _ _ _ _ 74 _ 72 _ 64 _ 69 _ _ _ 67 _ 65 _ 62 _ _ _ 69 _ _ _ 67 _ 65 _ 62 _ _ _ 69 _ _ _ 67 _ 64 _ 60 _ _ r 76 _ _ _ _ _ 74 _ 72 _ 64 _ 69 _ _ _ 67 _ 65 _ 62 _ _ _ 67 _ _ _ 69 _ _ _ 71 _ _ _ 72 _ _ _ _ _ _ _ r _ _ _ 77 _ _ 76 74 _ _ _ r _ _ _ 76 _ _ 74 72 _ _ _ r _ _ _ 67 _ _ _ 69 _ _ _ 71 _ _ _ 72 _ 71 _ 72 _ 74 _ 76 _ _ _ 77 _ _ _ 76 74 _ _ _ r _ _ 76 _ _ 74 72 _ _ _ r _ _ _ 67 _ _ _ 69 _ _ _ 71 _ _ _ 72 _ _ _ _ _ _ _ r _ _ _ / / / / / / / / / / / / / / / / / / / / / / / / / / / / / / / / / / / / / / / / / / / / / / / / / / / / / / / / / / / / / / / / 64 _ 69 _ _ _ 71 _ 72 _ _ 71 69 _ 76 _ _ _ _ _ 71 _ _ _ 74 _ 72 _ _ 71 69 _ 68 _ _ _ 69 _ 71 _ _ _ _ _ r _ _ _ 64 _ 76 _ _ _ 76 _ 72 _ _ 71 69 _ 81 _ _ _ _ _ 77 _ _ _ 74 _ 72 _ _ 71 69 _ 71 _ _ 69 68 _ 69 _ _ _ _ _ r _ _ _ / / / / / / / / / / / / / / / / / / / / / / / / / / / / / / / / / / / / / / / / / / / / / / / / / / / / / / / / / / / / / / / /\n"
     ]
    }
   ],
   "source": [
    "# Show the last 1000 characters\n",
    "with open(single_file, \"r\") as file:\n",
    "    text = file.read()\n",
    "    print(text[-1000:])"
   ]
  },
  {
   "cell_type": "markdown",
   "metadata": {},
   "source": [
    "## Erstellen einer Lookup Tabelle\n",
    "Jedes Zeichen in der `single_file` muss gemapped werden in einen Zahlenwert. Nur so kann das die KI verarbeiten.\n",
    "\n",
    "Dies wird realisiert, indem wir ein `Dict` erstellen.\n",
    "Dabei wir die \"Space\" jedoch nicht mehr berücksichtigt!"
   ]
  },
  {
   "cell_type": "code",
   "execution_count": 19,
   "metadata": {
    "tags": []
   },
   "outputs": [],
   "source": [
    "mappings = {}\n",
    "\n",
    "songs = \"\"\n",
    "with open(single_file, \"r\") as file:\n",
    "    songs = file.read()\n",
    "\n",
    "# Create a set with all unique characters\n",
    "songs_splittet = songs.split()\n",
    "vocabular = sorted(set(songs_splittet))"
   ]
  },
  {
   "cell_type": "code",
   "execution_count": 20,
   "metadata": {
    "tags": []
   },
   "outputs": [
    {
     "name": "stdout",
     "output_type": "stream",
     "text": [
      "Vocabular: ['/', '55', '57', '60', '62', '64', '65', '67', '68', '69', '71', '72', '74', '76', '77', '81', '_', 'r']\n"
     ]
    }
   ],
   "source": [
    "print(f\"Vocabular: {vocabular}\")"
   ]
  },
  {
   "cell_type": "code",
   "execution_count": 21,
   "metadata": {
    "tags": []
   },
   "outputs": [],
   "source": [
    "# Create a dictionary to map characters to integers\n",
    "for index, char in enumerate(vocabular):\n",
    "    mappings[char] = index"
   ]
  },
  {
   "cell_type": "code",
   "execution_count": 22,
   "metadata": {
    "tags": []
   },
   "outputs": [],
   "source": [
    "# Save the dictionary for later use\n",
    "import json\n",
    "\n",
    "mapping_path = datasets_folder / 'mappings.json'\n",
    "with open(mapping_path, \"w\") as file:\n",
    "    json.dump(mappings, file, indent=4)"
   ]
  },
  {
   "cell_type": "markdown",
   "metadata": {},
   "source": [
    "## Song in int Werte Konvertieren\n",
    "Mithilfe der Lookuptabelle werden die Daten in Intdaten konventiert"
   ]
  },
  {
   "cell_type": "code",
   "execution_count": 23,
   "metadata": {},
   "outputs": [],
   "source": [
    "# Load the mappings\n",
    "mappings = {}\n",
    "with open(mapping_path, \"r\") as file:\n",
    "    mappings = json.load(file)"
   ]
  },
  {
   "cell_type": "code",
   "execution_count": 24,
   "metadata": {},
   "outputs": [
    {
     "name": "stdout",
     "output_type": "stream",
     "text": [
      "{'/': 0, '55': 1, '57': 2, '60': 3, '62': 4, '64': 5, '65': 6, '67': 7, '68': 8, '69': 9, '71': 10, '72': 11, '74': 12, '76': 13, '77': 14, '81': 15, '_': 16, 'r': 17}\n"
     ]
    }
   ],
   "source": [
    "print(mappings)"
   ]
  },
  {
   "cell_type": "code",
   "execution_count": 25,
   "metadata": {},
   "outputs": [],
   "source": [
    "songs_in_int = []\n",
    "\n",
    "for song in songs_splittet:\n",
    "    songs_in_int.append(mappings[song])"
   ]
  },
  {
   "cell_type": "markdown",
   "metadata": {},
   "source": [
    "Alle Songs sind nun komplett in Integer-Werte Konventiert."
   ]
  },
  {
   "cell_type": "code",
   "execution_count": 26,
   "metadata": {},
   "outputs": [
    {
     "name": "stdout",
     "output_type": "stream",
     "text": [
      "[5, 16, 9, 16, 16, 16, 10, 16, 11, 16, 16, 10, 9, 16, 13, 16, 16, 16, 16, 16, 10, 16, 16, 16, 12, 16, 11, 16, 16, 10, 9, 16, 8, 16, 16, 16, 9, 16, 10, 16, 16, 16, 16, 16, 17, 16, 16, 16, 5, 16, 13, 16, 16, 16, 13, 16, 11, 16, 16, 10, 9, 16, 15, 16, 16, 16, 16, 16, 14, 16, 16, 16, 12, 16, 11, 16, 16, 10, 9, 16, 10, 16, 16, 9, 8, 16, 9, 16, 16, 16, 16, 16, 17, 16, 16, 16, 0, 0, 0, 0]\n"
     ]
    }
   ],
   "source": [
    "print(songs_in_int[:100])"
   ]
  },
  {
   "cell_type": "code",
   "execution_count": 27,
   "metadata": {
    "tags": []
   },
   "outputs": [],
   "source": [
    "# Save the songs\n",
    "import numpy as np\n",
    "\n",
    "songs_in_int = np.array(songs_in_int)\n",
    "\n",
    "np.save(datasets_folder / 'songs.npy', songs_in_int)"
   ]
  }
 ],
 "metadata": {
  "kernelspec": {
   "display_name": "Python 3 (ipykernel)",
   "language": "python",
   "name": "python3"
  },
  "language_info": {
   "codemirror_mode": {
    "name": "ipython",
    "version": 3
   },
   "file_extension": ".py",
   "mimetype": "text/x-python",
   "name": "python",
   "nbconvert_exporter": "python",
   "pygments_lexer": "ipython3",
   "version": "3.9.6"
  }
 },
 "nbformat": 4,
 "nbformat_minor": 4
}
