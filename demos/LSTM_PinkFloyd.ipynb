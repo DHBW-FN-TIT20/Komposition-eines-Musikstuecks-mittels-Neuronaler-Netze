{
 "cells": [
  {
   "cell_type": "markdown",
   "metadata": {},
   "source": [
    "# Training\n",
    "\n",
    "In this section you can train the LSTM model with PinkFloyd sounds. Only polyphonic encoding is supported due to complexity of the songs."
   ]
  },
  {
   "cell_type": "markdown",
   "metadata": {},
   "source": [
    "## Train polyphony encoding"
   ]
  },
  {
   "cell_type": "code",
   "execution_count": null,
   "metadata": {
    "tags": []
   },
   "outputs": [],
   "source": [
    "# Disable tensorflow warnings\n",
    "import os\n",
    "os.environ['TF_CPP_MIN_LOG_LEVEL'] = '2'\n",
    "\n",
    "# 0 = all messages are logged (default behavior)\n",
    "# 1 = INFO messages are not printed\n",
    "# 2 = INFO and WARNING messages are not printed\n",
    "# 3 = INFO, WARNING, and ERROR messages are not printed"
   ]
  },
  {
   "cell_type": "code",
   "execution_count": null,
   "metadata": {
    "tags": []
   },
   "outputs": [],
   "source": [
    "from mukkeBude.model import MukkeBudeLSTM\n",
    "from mukkeBude.mapping import MusicMapping\n",
    "import mukkeBude.utils as utils\n",
    "import music21 as m21\n",
    "import tensorflow as tf\n",
    "import keras\n",
    "\n",
    "# Check if GPU is found\n",
    "print(tf.config.list_physical_devices('GPU'))"
   ]
  },
  {
   "cell_type": "code",
   "execution_count": null,
   "metadata": {
    "tags": []
   },
   "outputs": [],
   "source": [
    "# Create mappings\n",
    "mapping = MusicMapping.create()\n",
    "\n",
    "# optional save the mapping\n",
    "# mapping.save(\"mapping.txt\")"
   ]
  },
  {
   "cell_type": "code",
   "execution_count": null,
   "metadata": {
    "tags": []
   },
   "outputs": [],
   "source": [
    "from pathlib import Path\n",
    "# Load songs\n",
    "paths = list(Path(\"../mukkeBude/songs/pinkfloyd\").rglob(\"*.mid\"))\n",
    "print(f\"Found {len(paths)} songs.\")\n",
    "\n",
    "encoded_songs = []\n",
    "for path in paths:\n",
    "    song = utils.read_single(path)\n",
    "    encoded_song = utils.to_polyphonic_encoding(song, mapping)\n",
    "    encoded_songs.extend(encoded_song)"
   ]
  },
  {
   "cell_type": "markdown",
   "metadata": {},
   "source": [
    "Each node is represented like this:\n",
    "```\n",
    "c  = n60\n",
    "c# = n61\n",
    "d  = n62\n",
    "...\n",
    "```\n",
    "\n",
    "To represent the duration of each note, we will use \"`d1, d2, d3, ...`\". For example, if we want to represent a C note with a duration of 1/8, we will use \"`n60 d2`\". If we want to represent a C# note with a duration of 1/16, we will use \"`n61 d1`\".\n",
    "\n",
    "To sepperate the notes which are played at the same time we will use \"`xxsep`\". For example, if we want to represent a C note with a duration of 1/16 and a C# note with a duration of 1/16 played at the same time, we will use \"`n60 d1 n61 d1 xxsep`\".\n",
    "\n",
    "To sepperate each song there is \"`xxbos`\" in the dataset."
   ]
  },
  {
   "cell_type": "code",
   "execution_count": null,
   "metadata": {
    "tags": []
   },
   "outputs": [],
   "source": [
    "# Train model\n",
    "model = MukkeBudeLSTM(mapping)\n",
    "print(model)\n",
    "\n",
    "logdir = \"logs/pinkfloyd_lstm_polyphonie\"\n",
    "tensorboard_callback = keras.callbacks.TensorBoard(log_dir=logdir)\n",
    "\n",
    "model.train(encoded_songs, epochs=50, batch_size=16, tensorboard_callback=tensorboard_callback)"
   ]
  },
  {
   "cell_type": "code",
   "execution_count": null,
   "metadata": {
    "tags": []
   },
   "outputs": [],
   "source": [
    "# Save model\n",
    "model.save(\"PinkFloyd_polyphonie_lstm\")"
   ]
  },
  {
   "cell_type": "code",
   "execution_count": null,
   "metadata": {
    "tags": []
   },
   "outputs": [],
   "source": [
    "# Show the logs\n",
    "%tensorboard --logdir logs/pinkfloyd_lstm_polyphonie"
   ]
  },
  {
   "cell_type": "markdown",
   "metadata": {},
   "source": [
    "# Generate music\n",
    "\n",
    "In this section you can generate music with a pre trained LSTM model."
   ]
  },
  {
   "cell_type": "markdown",
   "metadata": {},
   "source": [
    "To open the midi file we recomend [musecore](https://musescore.org/de)"
   ]
  },
  {
   "cell_type": "markdown",
   "metadata": {},
   "source": [
    "## Generate polyphony"
   ]
  },
  {
   "cell_type": "code",
   "execution_count": null,
   "metadata": {},
   "outputs": [],
   "source": [
    "# Disable tensorflow warnings\n",
    "import os\n",
    "os.environ['TF_CPP_MIN_LOG_LEVEL'] = '2'\n",
    "\n",
    "# 0 = all messages are logged (default behavior)\n",
    "# 1 = INFO messages are not printed\n",
    "# 2 = INFO and WARNING messages are not printed\n",
    "# 3 = INFO, WARNING, and ERROR messages are not printed"
   ]
  },
  {
   "cell_type": "code",
   "execution_count": null,
   "metadata": {},
   "outputs": [],
   "source": [
    "from mukkeBude.model import MukkeBudeLSTM\n",
    "from mukkeBude.mapping import MusicMapping\n",
    "import mukkeBude.utils as utils\n",
    "import tensorflow as tf\n",
    "import numpy as np\n",
    "from pathlib import Path\n",
    "\n",
    "from mukkeBude.mapping import SPECIAL_TOKS\n",
    "from mukkeBude.mapping import SEP\n",
    "from mukkeBude.mapping import BOS\n",
    "\n",
    "\n",
    "# Check if GPU is found\n",
    "print(tf.config.list_physical_devices('GPU'))"
   ]
  },
  {
   "cell_type": "code",
   "execution_count": null,
   "metadata": {},
   "outputs": [],
   "source": [
    "# Create mappings\n",
    "mapping = MusicMapping.create()\n",
    "\n",
    "# optional save the mapping\n",
    "# mapping.save(\"mapping.txt\")"
   ]
  },
  {
   "cell_type": "code",
   "execution_count": null,
   "metadata": {},
   "outputs": [],
   "source": [
    "model = MukkeBudeLSTM.load(mapping, \"PinkFloyd_polyphonie_lstm\")"
   ]
  },
  {
   "cell_type": "code",
   "execution_count": null,
   "metadata": {},
   "outputs": [],
   "source": [
    "# Create song\n",
    "generated_song = model.generate(\"n69 d1 xxsep d1 n74 d1 n69 d1 xxsep d1 n78 d16 n74 d16 n69 d16 xxsep d22 n78 d6 n74 d6 n69 d6 xxsep d6 n79 d4 n71 d4 xxsep d4 n78 d4 n69 d4 xxsep d4 n76 d2 n69 d2 xxsep d2 n76 d10 n69 d10 xxsep d10 n74 d4 n69 d4 xxsep d4 n73 d2 n69 d2 xxsep d2 n73 d3 n69 d3 xxsep d3 n69 d1 xxsep d1 n64 d10 xxsep d10 n62 d2 xxsep d2 n62 d16 xxsep d16 n62 d8 xxsep d8 n78 d3 n69 d3 xxsep d3 n79 d3 n71 d3 xxsep d2 n78 d3 n69 d3 xxsep d3 n76 d11 n69 d11 xxsep d11 n74 d3 xxsep d2 n73 d3 xxsep d3 n69 d3 xxsep d3 n64 d3 xxsep d2 n62 d3 xxsep d3 n61 d3 xxsep d3 n59 d3 xxsep d2 n57 d3 xxsep d3 n67 d16 n60 d16 xxsep d19 n67 d3 n60 d3 xxsep d3 n66 d3 n60 d3 xxsep d2 n64 d3 n60 d3 xxsep d3 n62 d6 xxsep d6 n66 d1 xxsep d1 n64 d1 xxsep d1 n64 d6 n60 d6 xxsep d6 n62 d2 n59 d2 xxsep d2 n62 d8 n59 d8 xxsep d12 n62 d4 n59 d4 xxsep d4 n64 d1 n59 d1 xxsep d1 n62 d1 xxsep d1 n59 d1 xxsep d1\", 1000, temperature=0.5)\n",
    "\n",
    "# Remove REST and WAIT_LSTM from SPECIAL_TOKS\n",
    "# They should not be removed from the generated song\n",
    "special_tokens = SPECIAL_TOKS.copy()\n",
    "special_tokens.remove(SEP)\n",
    "special_tokens.remove(BOS)\n",
    "\n",
    "generated_song = \" \".join(utils.replace_special_tokens(generated_song.split(), \"d1\", special_tokens))"
   ]
  },
  {
   "cell_type": "code",
   "execution_count": null,
   "metadata": {},
   "outputs": [],
   "source": [
    "new_song_ints = mapping.numericalize(generated_song.split(\" \"))\n",
    "new_song = utils.from_polyphonic_encoding(np.array(new_song_ints), mapping, bpm=140, instrument=m21.instrument.ElectricGuitar())"
   ]
  },
  {
   "cell_type": "code",
   "execution_count": null,
   "metadata": {},
   "outputs": [],
   "source": [
    "path = Path(\"generated_song_pinkfloyd_lstm_poly.mid\")\n",
    "utils.write_midi(new_song, path)"
   ]
  }
 ],
 "metadata": {
  "kernelspec": {
   "display_name": "Python 3 (ipykernel)",
   "language": "python",
   "name": "python3"
  },
  "language_info": {
   "codemirror_mode": {
    "name": "ipython",
    "version": 3
   },
   "file_extension": ".py",
   "mimetype": "text/x-python",
   "name": "python",
   "nbconvert_exporter": "python",
   "pygments_lexer": "ipython3",
   "version": "3.9.16"
  }
 },
 "nbformat": 4,
 "nbformat_minor": 4
}
