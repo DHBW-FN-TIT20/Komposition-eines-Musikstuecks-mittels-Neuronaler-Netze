{
 "cells": [
  {
   "attachments": {},
   "cell_type": "markdown",
   "metadata": {},
   "source": [
    "## Train polyphony encoding"
   ]
  },
  {
   "cell_type": "code",
   "execution_count": 39,
   "metadata": {},
   "outputs": [],
   "source": [
    "# Disable tensorflow warnings\n",
    "import os\n",
    "os.environ['TF_CPP_MIN_LOG_LEVEL'] = '2'\n",
    "\n",
    "# 0 = all messages are logged (default behavior)\n",
    "# 1 = INFO messages are not printed\n",
    "# 2 = INFO and WARNING messages are not printed\n",
    "# 3 = INFO, WARNING, and ERROR messages are not printed"
   ]
  },
  {
   "cell_type": "code",
   "execution_count": 40,
   "metadata": {},
   "outputs": [
    {
     "name": "stdout",
     "output_type": "stream",
     "text": [
      "The tensorboard extension is already loaded. To reload it, use:\n",
      "  %reload_ext tensorboard\n"
     ]
    }
   ],
   "source": [
    "# Load the TensorBoard notebook extension.\n",
    "%load_ext tensorboard"
   ]
  },
  {
   "cell_type": "code",
   "execution_count": 41,
   "metadata": {},
   "outputs": [
    {
     "name": "stdout",
     "output_type": "stream",
     "text": [
      "[PhysicalDevice(name='/physical_device:GPU:0', device_type='GPU')]\n"
     ]
    }
   ],
   "source": [
    "from mukkeBude.model import MukkeBudeTransformer\n",
    "from mukkeBude.mapping import MusicMapping\n",
    "import mukkeBude.utils as utils\n",
    "import music21 as m21\n",
    "import tensorflow as tf\n",
    "import keras\n",
    "\n",
    "# Check if GPU is found\n",
    "print(tf.config.list_physical_devices('GPU'))"
   ]
  },
  {
   "cell_type": "code",
   "execution_count": 42,
   "metadata": {},
   "outputs": [],
   "source": [
    "# Create mappings\n",
    "mapping = MusicMapping.create()\n",
    "\n",
    "# optional save the mapping\n",
    "# mapping.save(\"mapping.txt\")"
   ]
  },
  {
   "attachments": {},
   "cell_type": "markdown",
   "metadata": {},
   "source": [
    "We use the music21 corpus for the bach training data. </br>\n",
    "You can adjust the `paths` to reduce the number of training songs. </br>\n",
    "</br>\n",
    "See: https://web.mit.edu/music21/doc/about/referenceCorpus.html\n",
    "\n",
    "To load custom training data use:\n",
    "```python\n",
    "# Load songs\n",
    "from pathlib import Path\n",
    "\n",
    "paths = list(Path(\"./dataset/Pokemon\").rglob(\"*.midi\"))\n",
    "```"
   ]
  },
  {
   "cell_type": "code",
   "execution_count": 43,
   "metadata": {},
   "outputs": [
    {
     "name": "stdout",
     "output_type": "stream",
     "text": [
      "Found 16 songs in corpus.\n",
      "Songs encoded: 16\n"
     ]
    }
   ],
   "source": [
    "from pathlib import Path\n",
    "paths = list(Path(\"../mukkeBude/songs/pokemon\").rglob(\"*.mid\"))\n",
    "# Load songs\n",
    "# paths = m21.corpus.getComposer('bach')\n",
    "# paths = paths[:100]\n",
    "print(f\"Found {len(paths)} songs in corpus.\")\n",
    "\n",
    "encoded_songs = []\n",
    "for path in paths:\n",
    "    song = utils.read_single(path)\n",
    "    encoded_song = utils.to_polyphonic_encoding(song, mapping)\n",
    "    encoded_songs.append(mapping.textify(encoded_song))\n",
    "\n",
    "print(f\"Songs encoded: {len(encoded_songs)}\")"
   ]
  },
  {
   "cell_type": "code",
   "execution_count": 44,
   "metadata": {},
   "outputs": [
    {
     "name": "stdout",
     "output_type": "stream",
     "text": [
      "Dataset created\n"
     ]
    }
   ],
   "source": [
    "# Create dataset\n",
    "utils.create_train_data(encoded_songs, \"raw_train_ds.txt\")\n",
    "print(\"Dataset created\")"
   ]
  },
  {
   "cell_type": "code",
   "execution_count": 45,
   "metadata": {},
   "outputs": [
    {
     "name": "stdout",
     "output_type": "stream",
     "text": [
      "Model: \"model_1\"\n",
      "_________________________________________________________________\n",
      " Layer (type)                Output Shape              Param #   \n",
      "=================================================================\n",
      " input_2 (InputLayer)        [(None, None)]            0         \n",
      "                                                                 \n",
      " token_and_position_embeddin  (None, None, 256)        780288    \n",
      " g_1 (TokenAndPositionEmbedd                                     \n",
      " ing)                                                            \n",
      "                                                                 \n",
      " transformer_decoder_4 (Tran  (None, None, 256)        394749    \n",
      " sformerDecoder)                                                 \n",
      "                                                                 \n",
      " transformer_decoder_5 (Tran  (None, None, 256)        394749    \n",
      " sformerDecoder)                                                 \n",
      "                                                                 \n",
      " transformer_decoder_6 (Tran  (None, None, 256)        394749    \n",
      " sformerDecoder)                                                 \n",
      "                                                                 \n",
      " transformer_decoder_7 (Tran  (None, None, 256)        394749    \n",
      " sformerDecoder)                                                 \n",
      "                                                                 \n",
      " dense_1 (Dense)             (None, None, 1000)        257000    \n",
      "                                                                 \n",
      "=================================================================\n",
      "Total params: 2,616,284\n",
      "Trainable params: 2,616,284\n",
      "Non-trainable params: 0\n",
      "_________________________________________________________________\n",
      "Epoch 1/100\n",
      "1/1 - 4s - loss: 7.1244 - perplexity: 1241.9089 - 4s/epoch - 4s/step\n",
      "Epoch 2/100\n",
      "1/1 - 0s - loss: 5.0693 - perplexity: 159.0559 - 98ms/epoch - 98ms/step\n",
      "Epoch 3/100\n",
      "1/1 - 0s - loss: 4.0614 - perplexity: 58.0580 - 96ms/epoch - 96ms/step\n",
      "Epoch 4/100\n",
      "1/1 - 0s - loss: 3.5435 - perplexity: 34.5875 - 96ms/epoch - 96ms/step\n",
      "Epoch 5/100\n",
      "1/1 - 0s - loss: 3.2394 - perplexity: 25.5183 - 97ms/epoch - 97ms/step\n",
      "Epoch 6/100\n",
      "1/1 - 0s - loss: 2.9621 - perplexity: 19.3392 - 95ms/epoch - 95ms/step\n",
      "Epoch 7/100\n",
      "1/1 - 0s - loss: 2.7327 - perplexity: 15.3746 - 98ms/epoch - 98ms/step\n",
      "Epoch 8/100\n",
      "1/1 - 0s - loss: 2.5624 - perplexity: 12.9664 - 92ms/epoch - 92ms/step\n",
      "Epoch 9/100\n",
      "1/1 - 0s - loss: 2.4180 - perplexity: 11.2235 - 96ms/epoch - 96ms/step\n",
      "Epoch 10/100\n",
      "1/1 - 0s - loss: 2.3053 - perplexity: 10.0268 - 94ms/epoch - 94ms/step\n",
      "Epoch 11/100\n",
      "1/1 - 0s - loss: 2.2119 - perplexity: 9.1335 - 98ms/epoch - 98ms/step\n",
      "Epoch 12/100\n",
      "1/1 - 0s - loss: 2.1316 - perplexity: 8.4283 - 94ms/epoch - 94ms/step\n",
      "Epoch 13/100\n",
      "1/1 - 0s - loss: 2.0672 - perplexity: 7.9023 - 95ms/epoch - 95ms/step\n",
      "Epoch 14/100\n",
      "1/1 - 0s - loss: 2.0068 - perplexity: 7.4398 - 97ms/epoch - 97ms/step\n",
      "Epoch 15/100\n",
      "1/1 - 0s - loss: 1.9577 - perplexity: 7.0832 - 98ms/epoch - 98ms/step\n",
      "Epoch 16/100\n",
      "1/1 - 0s - loss: 1.9044 - perplexity: 6.7151 - 95ms/epoch - 95ms/step\n",
      "Epoch 17/100\n",
      "1/1 - 0s - loss: 1.8523 - perplexity: 6.3746 - 96ms/epoch - 96ms/step\n",
      "Epoch 18/100\n",
      "1/1 - 0s - loss: 1.7980 - perplexity: 6.0378 - 96ms/epoch - 96ms/step\n",
      "Epoch 19/100\n",
      "1/1 - 0s - loss: 1.7441 - perplexity: 5.7208 - 95ms/epoch - 95ms/step\n",
      "Epoch 20/100\n",
      "1/1 - 0s - loss: 1.6861 - perplexity: 5.3983 - 96ms/epoch - 96ms/step\n",
      "Epoch 21/100\n",
      "1/1 - 0s - loss: 1.6213 - perplexity: 5.0597 - 94ms/epoch - 94ms/step\n",
      "Epoch 22/100\n",
      "1/1 - 0s - loss: 1.5632 - perplexity: 4.7740 - 95ms/epoch - 95ms/step\n",
      "Epoch 23/100\n",
      "1/1 - 0s - loss: 1.5059 - perplexity: 4.5084 - 97ms/epoch - 97ms/step\n",
      "Epoch 24/100\n",
      "1/1 - 0s - loss: 1.4382 - perplexity: 4.2130 - 96ms/epoch - 96ms/step\n",
      "Epoch 25/100\n",
      "1/1 - 0s - loss: 1.3757 - perplexity: 3.9577 - 97ms/epoch - 97ms/step\n",
      "Epoch 26/100\n",
      "1/1 - 0s - loss: 1.3102 - perplexity: 3.7070 - 95ms/epoch - 95ms/step\n",
      "Epoch 27/100\n",
      "1/1 - 0s - loss: 1.2570 - perplexity: 3.5148 - 94ms/epoch - 94ms/step\n",
      "Epoch 28/100\n",
      "1/1 - 0s - loss: 1.2001 - perplexity: 3.3206 - 96ms/epoch - 96ms/step\n",
      "Epoch 29/100\n",
      "1/1 - 0s - loss: 1.1433 - perplexity: 3.1370 - 99ms/epoch - 99ms/step\n",
      "Epoch 30/100\n",
      "1/1 - 0s - loss: 1.0844 - perplexity: 2.9577 - 96ms/epoch - 96ms/step\n",
      "Epoch 31/100\n",
      "1/1 - 0s - loss: 1.0330 - perplexity: 2.8094 - 96ms/epoch - 96ms/step\n",
      "Epoch 32/100\n",
      "1/1 - 0s - loss: 0.9834 - perplexity: 2.6736 - 96ms/epoch - 96ms/step\n",
      "Epoch 33/100\n",
      "1/1 - 0s - loss: 0.9366 - perplexity: 2.5513 - 95ms/epoch - 95ms/step\n",
      "Epoch 34/100\n",
      "1/1 - 0s - loss: 0.8885 - perplexity: 2.4314 - 96ms/epoch - 96ms/step\n",
      "Epoch 35/100\n",
      "1/1 - 0s - loss: 0.8426 - perplexity: 2.3223 - 98ms/epoch - 98ms/step\n",
      "Epoch 36/100\n",
      "1/1 - 0s - loss: 0.8031 - perplexity: 2.2325 - 94ms/epoch - 94ms/step\n",
      "Epoch 37/100\n",
      "1/1 - 0s - loss: 0.7645 - perplexity: 2.1480 - 96ms/epoch - 96ms/step\n",
      "Epoch 38/100\n",
      "1/1 - 0s - loss: 0.7106 - perplexity: 2.0352 - 94ms/epoch - 94ms/step\n",
      "Epoch 39/100\n",
      "1/1 - 0s - loss: 0.6670 - perplexity: 1.9483 - 94ms/epoch - 94ms/step\n",
      "Epoch 40/100\n",
      "1/1 - 0s - loss: 0.6375 - perplexity: 1.8918 - 97ms/epoch - 97ms/step\n",
      "Epoch 41/100\n",
      "1/1 - 0s - loss: 0.6069 - perplexity: 1.8347 - 96ms/epoch - 96ms/step\n",
      "Epoch 42/100\n",
      "1/1 - 0s - loss: 0.5624 - perplexity: 1.7550 - 289ms/epoch - 289ms/step\n",
      "Epoch 43/100\n",
      "1/1 - 0s - loss: 0.5216 - perplexity: 1.6847 - 97ms/epoch - 97ms/step\n",
      "Epoch 44/100\n",
      "1/1 - 0s - loss: 0.4985 - perplexity: 1.6462 - 94ms/epoch - 94ms/step\n",
      "Epoch 45/100\n",
      "1/1 - 0s - loss: 0.4713 - perplexity: 1.6020 - 102ms/epoch - 102ms/step\n",
      "Epoch 46/100\n",
      "1/1 - 0s - loss: 0.4385 - perplexity: 1.5503 - 96ms/epoch - 96ms/step\n",
      "Epoch 47/100\n",
      "1/1 - 0s - loss: 0.4129 - perplexity: 1.5112 - 94ms/epoch - 94ms/step\n",
      "Epoch 48/100\n",
      "1/1 - 0s - loss: 0.4012 - perplexity: 1.4936 - 96ms/epoch - 96ms/step\n",
      "Epoch 49/100\n",
      "1/1 - 0s - loss: 0.3683 - perplexity: 1.4452 - 97ms/epoch - 97ms/step\n",
      "Epoch 50/100\n",
      "1/1 - 0s - loss: 0.3338 - perplexity: 1.3963 - 94ms/epoch - 94ms/step\n",
      "Epoch 51/100\n",
      "1/1 - 0s - loss: 0.3129 - perplexity: 1.3674 - 96ms/epoch - 96ms/step\n",
      "Epoch 52/100\n",
      "1/1 - 0s - loss: 0.2814 - perplexity: 1.3250 - 92ms/epoch - 92ms/step\n",
      "Epoch 53/100\n",
      "1/1 - 0s - loss: 0.2645 - perplexity: 1.3028 - 96ms/epoch - 96ms/step\n",
      "Epoch 54/100\n",
      "1/1 - 0s - loss: 0.2405 - perplexity: 1.2719 - 96ms/epoch - 96ms/step\n",
      "Epoch 55/100\n",
      "1/1 - 0s - loss: 0.2292 - perplexity: 1.2575 - 96ms/epoch - 96ms/step\n",
      "Epoch 56/100\n",
      "1/1 - 0s - loss: 0.2236 - perplexity: 1.2505 - 94ms/epoch - 94ms/step\n",
      "Epoch 57/100\n",
      "1/1 - 0s - loss: 0.2484 - perplexity: 1.2820 - 94ms/epoch - 94ms/step\n",
      "Epoch 58/100\n",
      "1/1 - 0s - loss: 0.2883 - perplexity: 1.3341 - 96ms/epoch - 96ms/step\n",
      "Epoch 59/100\n",
      "1/1 - 0s - loss: 0.1892 - perplexity: 1.2082 - 101ms/epoch - 101ms/step\n",
      "Epoch 60/100\n",
      "1/1 - 0s - loss: 0.2032 - perplexity: 1.2253 - 101ms/epoch - 101ms/step\n",
      "Epoch 61/100\n",
      "1/1 - 0s - loss: 0.1686 - perplexity: 1.1836 - 97ms/epoch - 97ms/step\n",
      "Epoch 62/100\n",
      "1/1 - 0s - loss: 0.1821 - perplexity: 1.1997 - 95ms/epoch - 95ms/step\n",
      "Epoch 63/100\n",
      "1/1 - 0s - loss: 0.1326 - perplexity: 1.1418 - 97ms/epoch - 97ms/step\n",
      "Epoch 64/100\n",
      "1/1 - 0s - loss: 0.1515 - perplexity: 1.1636 - 96ms/epoch - 96ms/step\n",
      "Epoch 65/100\n",
      "1/1 - 0s - loss: 0.1218 - perplexity: 1.1296 - 96ms/epoch - 96ms/step\n",
      "Epoch 66/100\n",
      "1/1 - 0s - loss: 0.1167 - perplexity: 1.1238 - 98ms/epoch - 98ms/step\n",
      "Epoch 67/100\n",
      "1/1 - 0s - loss: 0.1114 - perplexity: 1.1179 - 96ms/epoch - 96ms/step\n",
      "Epoch 68/100\n",
      "1/1 - 0s - loss: 0.0961 - perplexity: 1.1009 - 96ms/epoch - 96ms/step\n",
      "Epoch 69/100\n",
      "1/1 - 0s - loss: 0.0893 - perplexity: 1.0934 - 96ms/epoch - 96ms/step\n",
      "Epoch 70/100\n",
      "1/1 - 0s - loss: 0.0872 - perplexity: 1.0911 - 94ms/epoch - 94ms/step\n",
      "Epoch 71/100\n",
      "1/1 - 0s - loss: 0.0784 - perplexity: 1.0816 - 103ms/epoch - 103ms/step\n",
      "Epoch 72/100\n",
      "1/1 - 0s - loss: 0.0716 - perplexity: 1.0742 - 96ms/epoch - 96ms/step\n",
      "Epoch 73/100\n",
      "1/1 - 0s - loss: 0.0690 - perplexity: 1.0714 - 96ms/epoch - 96ms/step\n",
      "Epoch 74/100\n",
      "1/1 - 0s - loss: 0.0636 - perplexity: 1.0656 - 96ms/epoch - 96ms/step\n",
      "Epoch 75/100\n",
      "1/1 - 0s - loss: 0.0584 - perplexity: 1.0602 - 96ms/epoch - 96ms/step\n",
      "Epoch 76/100\n",
      "1/1 - 0s - loss: 0.0563 - perplexity: 1.0579 - 94ms/epoch - 94ms/step\n",
      "Epoch 77/100\n",
      "1/1 - 0s - loss: 0.0535 - perplexity: 1.0550 - 96ms/epoch - 96ms/step\n",
      "Epoch 78/100\n",
      "1/1 - 0s - loss: 0.0496 - perplexity: 1.0508 - 101ms/epoch - 101ms/step\n",
      "Epoch 79/100\n",
      "1/1 - 0s - loss: 0.0470 - perplexity: 1.0481 - 98ms/epoch - 98ms/step\n",
      "Epoch 80/100\n",
      "1/1 - 0s - loss: 0.0455 - perplexity: 1.0466 - 95ms/epoch - 95ms/step\n",
      "Epoch 81/100\n",
      "1/1 - 0s - loss: 0.0437 - perplexity: 1.0446 - 96ms/epoch - 96ms/step\n",
      "Epoch 82/100\n",
      "1/1 - 0s - loss: 0.0415 - perplexity: 1.0424 - 96ms/epoch - 96ms/step\n",
      "Epoch 83/100\n",
      "1/1 - 0s - loss: 0.0397 - perplexity: 1.0405 - 95ms/epoch - 95ms/step\n",
      "Epoch 84/100\n",
      "1/1 - 0s - loss: 0.0385 - perplexity: 1.0392 - 95ms/epoch - 95ms/step\n",
      "Epoch 85/100\n",
      "1/1 - 0s - loss: 0.0375 - perplexity: 1.0382 - 96ms/epoch - 96ms/step\n",
      "Epoch 86/100\n",
      "1/1 - 0s - loss: 0.0365 - perplexity: 1.0372 - 96ms/epoch - 96ms/step\n",
      "Epoch 87/100\n",
      "1/1 - 0s - loss: 0.0355 - perplexity: 1.0361 - 97ms/epoch - 97ms/step\n",
      "Epoch 88/100\n",
      "1/1 - 0s - loss: 0.0344 - perplexity: 1.0350 - 100ms/epoch - 100ms/step\n",
      "Epoch 89/100\n",
      "1/1 - 0s - loss: 0.0334 - perplexity: 1.0340 - 96ms/epoch - 96ms/step\n",
      "Epoch 90/100\n",
      "1/1 - 0s - loss: 0.0327 - perplexity: 1.0332 - 97ms/epoch - 97ms/step\n",
      "Epoch 91/100\n",
      "1/1 - 0s - loss: 0.0321 - perplexity: 1.0327 - 94ms/epoch - 94ms/step\n",
      "Epoch 92/100\n",
      "1/1 - 0s - loss: 0.0317 - perplexity: 1.0322 - 97ms/epoch - 97ms/step\n",
      "Epoch 93/100\n",
      "1/1 - 0s - loss: 0.0311 - perplexity: 1.0316 - 94ms/epoch - 94ms/step\n",
      "Epoch 94/100\n",
      "1/1 - 0s - loss: 0.0305 - perplexity: 1.0310 - 95ms/epoch - 95ms/step\n",
      "Epoch 95/100\n",
      "1/1 - 0s - loss: 0.0300 - perplexity: 1.0304 - 95ms/epoch - 95ms/step\n",
      "Epoch 96/100\n",
      "1/1 - 0s - loss: 0.0295 - perplexity: 1.0299 - 97ms/epoch - 97ms/step\n",
      "Epoch 97/100\n",
      "1/1 - 0s - loss: 0.0291 - perplexity: 1.0295 - 96ms/epoch - 96ms/step\n",
      "Epoch 98/100\n",
      "1/1 - 0s - loss: 0.0288 - perplexity: 1.0292 - 97ms/epoch - 97ms/step\n",
      "Epoch 99/100\n",
      "1/1 - 0s - loss: 0.0285 - perplexity: 1.0289 - 93ms/epoch - 93ms/step\n",
      "Epoch 100/100\n",
      "1/1 - 0s - loss: 0.0282 - perplexity: 1.0286 - 96ms/epoch - 96ms/step\n"
     ]
    },
    {
     "data": {
      "text/plain": [
       "<keras.callbacks.History at 0x1981ca2a4a0>"
      ]
     },
     "execution_count": 45,
     "metadata": {},
     "output_type": "execute_result"
    }
   ],
   "source": [
    "# Train model\n",
    "model = MukkeBudeTransformer(mapping)\n",
    "print(model)\n",
    "\n",
    "logdir = \"logs/bach_transformer\"\n",
    "tensorboard_callback = keras.callbacks.TensorBoard(log_dir=logdir)\n",
    "\n",
    "model.train(\"raw_train_ds.txt\", min_training_seq_len=32, epochs=100, tensorboard_callback=tensorboard_callback)"
   ]
  },
  {
   "cell_type": "code",
   "execution_count": 46,
   "metadata": {},
   "outputs": [
    {
     "data": {
      "text/html": [
       "\n",
       "      <iframe id=\"tensorboard-frame-5c63565ed742b90b\" width=\"100%\" height=\"800\" frameborder=\"0\">\n",
       "      </iframe>\n",
       "      <script>\n",
       "        (function() {\n",
       "          const frame = document.getElementById(\"tensorboard-frame-5c63565ed742b90b\");\n",
       "          const url = new URL(\"http://localhost\");\n",
       "          const port = 6006;\n",
       "          if (port) {\n",
       "            url.port = port;\n",
       "          }\n",
       "          frame.src = url;\n",
       "        })();\n",
       "      </script>\n",
       "    "
      ],
      "text/plain": [
       "<IPython.core.display.HTML object>"
      ]
     },
     "metadata": {},
     "output_type": "display_data"
    }
   ],
   "source": [
    "%tensorboard --logdir logs/bach_transformer"
   ]
  },
  {
   "cell_type": "code",
   "execution_count": 47,
   "metadata": {},
   "outputs": [
    {
     "data": {
      "text/plain": [
       "'c:\\\\Users\\\\flori\\\\anaconda3\\\\envs\\\\tf\\\\lib\\\\site-packages\\\\mukkeBude\\\\model\\\\preTrainedModels\\\\Videospielmusik_polyphonie_transformer.h5'"
      ]
     },
     "execution_count": 47,
     "metadata": {},
     "output_type": "execute_result"
    }
   ],
   "source": [
    "model.save(\"Videospielmusik_polyphonie_transformer\")"
   ]
  },
  {
   "attachments": {},
   "cell_type": "markdown",
   "metadata": {},
   "source": [
    "## Generate polyphony"
   ]
  },
  {
   "cell_type": "code",
   "execution_count": 48,
   "metadata": {},
   "outputs": [],
   "source": [
    "# Disable tensorflow warnings\n",
    "import os\n",
    "os.environ['TF_CPP_MIN_LOG_LEVEL'] = '2'\n",
    "\n",
    "# 0 = all messages are logged (default behavior)\n",
    "# 1 = INFO messages are not printed\n",
    "# 2 = INFO and WARNING messages are not printed\n",
    "# 3 = INFO, WARNING, and ERROR messages are not printed"
   ]
  },
  {
   "cell_type": "code",
   "execution_count": 49,
   "metadata": {},
   "outputs": [
    {
     "name": "stdout",
     "output_type": "stream",
     "text": [
      "[PhysicalDevice(name='/physical_device:GPU:0', device_type='GPU')]\n"
     ]
    }
   ],
   "source": [
    "from mukkeBude.mapping import MusicMapping\n",
    "import mukkeBude.utils as utils\n",
    "import tensorflow as tf\n",
    "import numpy as np\n",
    "from pathlib import Path\n",
    "\n",
    "from mukkeBude.mapping import SPECIAL_TOKS\n",
    "from mukkeBude.mapping import SEP\n",
    "from mukkeBude.mapping import BOS\n",
    "\n",
    "# Check if GPU is found\n",
    "print(tf.config.list_physical_devices('GPU'))"
   ]
  },
  {
   "cell_type": "code",
   "execution_count": 50,
   "metadata": {},
   "outputs": [],
   "source": [
    "# Create mappings\n",
    "mapping = MusicMapping.create()\n",
    "\n",
    "# optional save the mapping\n",
    "# mapping.save(\"mapping.txt\")"
   ]
  },
  {
   "attachments": {},
   "cell_type": "markdown",
   "metadata": {},
   "source": [
    "**This does not work! In the current state you can not load a transformer network from a file!**</br>\n",
    "You need to train it first and use it here."
   ]
  },
  {
   "cell_type": "code",
   "execution_count": 51,
   "metadata": {},
   "outputs": [],
   "source": [
    "#model = MukkeBudeTransformer.load(mapping, \"Bach_polyphonie_transformer\")"
   ]
  },
  {
   "cell_type": "code",
   "execution_count": 52,
   "metadata": {},
   "outputs": [
    {
     "name": "stdout",
     "output_type": "stream",
     "text": [
      "prompt_tokens: [39 19  4 19 32 18 26 18  4 18 20 17 28 17  4 18 32 18 32 18 26 18  4 19\n",
      " 39 19  4 19 31 18 41 18  4 18 37 17 28 17  4 18]\n"
     ]
    },
    {
     "ename": "",
     "evalue": "",
     "output_type": "error",
     "traceback": [
      "\u001b[1;31mCanceled future for execute_request message before replies were done"
     ]
    },
    {
     "ename": "",
     "evalue": "",
     "output_type": "error",
     "traceback": [
      "\u001b[1;31mThe Kernel crashed while executing code in the the current cell or a previous cell. Please review the code in the cell(s) to identify a possible cause of the failure. Click <a href='https://aka.ms/vscodeJupyterKernelCrash'>here</a> for more info. View Jupyter <a href='command:jupyter.viewOutput'>log</a> for further details."
     ]
    }
   ],
   "source": [
    "# Create song\n",
    "generated_song = model.generate(\"n46 d4 xxsep d4 n53 d2 n50 d2 xxsep d2 n62 d1 n58 d1 xxsep d2 n53 d2 n53 d2 n50 d2 xxsep d4 n46 d4 xxsep d4 n55 d2 n51 d2 xxsep d2 n63 d1 n58 d1 xxsep d2\", max_length=1000, probability=0.8)\n",
    "\n",
    "# Remove REST and WAIT_LSTM from SPECIAL_TOKS\n",
    "special_tokens = SPECIAL_TOKS.copy()\n",
    "special_tokens.remove(SEP)\n",
    "special_tokens.remove(BOS)\n",
    "\n",
    "generated_song = \" \".join(utils.replace_special_tokens(generated_song.split(), \"d1\", special_tokens))\n",
    "print(generated_song)"
   ]
  },
  {
   "cell_type": "code",
   "execution_count": null,
   "metadata": {},
   "outputs": [],
   "source": [
    "# Convert to music21\n",
    "new_song_ints = mapping.numericalize(generated_song.split(\" \"))\n",
    "new_song_ints = np.array(new_song_ints)\n",
    "\n",
    "new_song = utils.from_polyphonic_encoding(new_song_ints, mapping, bpm=140)\n",
    "\n",
    "path = Path(\"generated_song_pokemon_trans_poly.midi\")\n",
    "utils.write_midi(new_song, path)\n"
   ]
  }
 ],
 "metadata": {
  "kernelspec": {
   "display_name": "tf",
   "language": "python",
   "name": "tf"
  },
  "language_info": {
   "codemirror_mode": {
    "name": "ipython",
    "version": 3
   },
   "file_extension": ".py",
   "mimetype": "text/x-python",
   "name": "python",
   "nbconvert_exporter": "python",
   "pygments_lexer": "ipython3",
   "version": "3.10.9"
  }
 },
 "nbformat": 4,
 "nbformat_minor": 4
}
