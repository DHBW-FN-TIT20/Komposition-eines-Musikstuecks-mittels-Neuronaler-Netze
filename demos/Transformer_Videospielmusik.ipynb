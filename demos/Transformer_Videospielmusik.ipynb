{
 "cells": [
  {
   "attachments": {},
   "cell_type": "markdown",
   "metadata": {},
   "source": [
    "# Training\n",
    "\n",
    "In this section you can train the transformer model with Pokemon. The first section is monophony and the second with polyphony encoding."
   ]
  },
  {
   "attachments": {},
   "cell_type": "markdown",
   "metadata": {},
   "source": [
    "## Train monophony encoding"
   ]
  },
  {
   "cell_type": "code",
   "execution_count": null,
   "metadata": {},
   "outputs": [],
   "source": [
    "# Disable tensorflow warnings\n",
    "import os\n",
    "os.environ['TF_CPP_MIN_LOG_LEVEL'] = '2'\n",
    "\n",
    "# 0 = all messages are logged (default behavior)\n",
    "# 1 = INFO messages are not printed\n",
    "# 2 = INFO and WARNING messages are not printed\n",
    "# 3 = INFO, WARNING, and ERROR messages are not printed"
   ]
  },
  {
   "cell_type": "code",
   "execution_count": null,
   "metadata": {},
   "outputs": [],
   "source": [
    "# Load the TensorBoard notebook extension.\n",
    "%load_ext tensorboard"
   ]
  },
  {
   "cell_type": "code",
   "execution_count": null,
   "metadata": {},
   "outputs": [],
   "source": [
    "from mukkeBude.model import MukkeBudeTransformer\n",
    "from mukkeBude.mapping import MusicMapping\n",
    "import mukkeBude.utils as utils\n",
    "import music21 as m21\n",
    "import tensorflow as tf\n",
    "import keras\n",
    "\n",
    "# Check if GPU is found\n",
    "print(tf.config.list_physical_devices('GPU'))"
   ]
  },
  {
   "cell_type": "code",
   "execution_count": null,
   "metadata": {},
   "outputs": [],
   "source": [
    "# Create mappings\n",
    "mapping = MusicMapping.create()\n",
    "\n",
    "# optional save the mapping\n",
    "# mapping.save(\"mapping.txt\")"
   ]
  },
  {
   "attachments": {},
   "cell_type": "markdown",
   "metadata": {},
   "source": [
    "We use the music21 corpus for the bach training data. </br>\n",
    "You can adjust the `paths` to reduce the number of training songs. </br>\n",
    "</br>\n",
    "See: https://web.mit.edu/music21/doc/about/referenceCorpus.html\n",
    "\n",
    "To use custom training data use:\n",
    "```python\n",
    "from pathlib import Path\n",
    "\n",
    "# Path to the input files\n",
    "paths = list(Path(\"./dataset/Pokemon\").rglob(\"*.midi\"))\n",
    "encoded_songs = utils.load_dataset_lstm(paths, 64, mapping, raw_songs=True, corpus=False)\n",
    "```"
   ]
  },
  {
   "cell_type": "code",
   "execution_count": null,
   "metadata": {},
   "outputs": [],
   "source": [
    "from pathlib import Path\n",
    "paths = list(Path(\"../mukkeBude/songs/pokemon\").rglob(\"*.mid\"))\n",
    "\n",
    "print(f\"Found {len(paths)} songs in corpus.\")\n",
    "\n",
    "# BUG: Error - There are `music21.chord.Chord D4 G4` in the song\n",
    "encoded_songs = utils.load_dataset_lstm(paths, 64, mapping, raw_songs=True, corpus=False)"
   ]
  },
  {
   "attachments": {},
   "cell_type": "markdown",
   "metadata": {},
   "source": [
    "Each node is represented like this:\n",
    "```\n",
    "c  = n60\n",
    "c# = n61\n",
    "d  = n62\n",
    "...\n",
    "```\n",
    "\n",
    "To represent the duration of each note, we will use \"`_`\" for 1/16. For example, if we want to represent a C note with a duration of 1/8, we will use \"`n60 _ _`\". If we want to represent a C# note with a duration of 1/16, we will use onyl the letter \"`n61`\".\n",
    "\n",
    "To sepperate each song there are multiple \"`/`\" in the dataset."
   ]
  },
  {
   "cell_type": "code",
   "execution_count": null,
   "metadata": {},
   "outputs": [],
   "source": [
    "# Create dataset\n",
    "# Tranformer needs the dataset without xxbos and each song in one new line\n",
    "utils.create_train_data(encoded_songs, \"raw_train_ds_mono_videospiel.txt\")\n",
    "print(\"Dataset created\")"
   ]
  },
  {
   "cell_type": "code",
   "execution_count": null,
   "metadata": {},
   "outputs": [],
   "source": [
    "# Train model\n",
    "model = MukkeBudeTransformer(mapping)\n",
    "print(model)\n",
    "\n",
    "logdir = \"logs/videospiel_transformer_solo\"\n",
    "tensorboard_callback = keras.callbacks.TensorBoard(log_dir=logdir)\n",
    "\n",
    "model.train(\"raw_train_ds_mono_videospiel.txt\", min_training_seq_len=32, epochs=100, tensorboard_callback=tensorboard_callback)"
   ]
  },
  {
   "cell_type": "code",
   "execution_count": null,
   "metadata": {},
   "outputs": [],
   "source": [
    "model.save(\"Videospielmusik_soloMelodie_transformer\")"
   ]
  },
  {
   "cell_type": "code",
   "execution_count": null,
   "metadata": {},
   "outputs": [],
   "source": [
    "%tensorboard --logdir logs/videospiel_transformer_solo"
   ]
  },
  {
   "attachments": {},
   "cell_type": "markdown",
   "metadata": {},
   "source": [
    "## Train polyphony encoding"
   ]
  },
  {
   "cell_type": "code",
   "execution_count": null,
   "metadata": {},
   "outputs": [],
   "source": [
    "# Disable tensorflow warnings\n",
    "import os\n",
    "os.environ['TF_CPP_MIN_LOG_LEVEL'] = '2'\n",
    "\n",
    "# 0 = all messages are logged (default behavior)\n",
    "# 1 = INFO messages are not printed\n",
    "# 2 = INFO and WARNING messages are not printed\n",
    "# 3 = INFO, WARNING, and ERROR messages are not printed"
   ]
  },
  {
   "cell_type": "code",
   "execution_count": null,
   "metadata": {},
   "outputs": [],
   "source": [
    "# Load the TensorBoard notebook extension.\n",
    "%load_ext tensorboard"
   ]
  },
  {
   "cell_type": "code",
   "execution_count": null,
   "metadata": {},
   "outputs": [],
   "source": [
    "from mukkeBude.model import MukkeBudeTransformer\n",
    "from mukkeBude.mapping import MusicMapping\n",
    "import mukkeBude.utils as utils\n",
    "import music21 as m21\n",
    "import tensorflow as tf\n",
    "import keras\n",
    "\n",
    "# Check if GPU is found\n",
    "print(tf.config.list_physical_devices('GPU'))"
   ]
  },
  {
   "cell_type": "code",
   "execution_count": null,
   "metadata": {},
   "outputs": [],
   "source": [
    "# Create mappings\n",
    "mapping = MusicMapping.create()\n",
    "\n",
    "# optional save the mapping\n",
    "# mapping.save(\"mapping.txt\")"
   ]
  },
  {
   "attachments": {},
   "cell_type": "markdown",
   "metadata": {},
   "source": [
    "We use the music21 corpus for the bach training data. </br>\n",
    "You can adjust the `paths` to reduce the number of training songs. </br>\n",
    "</br>\n",
    "See: https://web.mit.edu/music21/doc/about/referenceCorpus.html\n",
    "\n",
    "To use custom training data use:\n",
    "```python\n",
    "from pathlib import Path\n",
    "\n",
    "# Path to the input files\n",
    "paths = list(Path(\"./dataset/Pokemon\").rglob(\"*.midi\"))\n",
    "```"
   ]
  },
  {
   "cell_type": "code",
   "execution_count": null,
   "metadata": {},
   "outputs": [],
   "source": [
    "from pathlib import Path\n",
    "paths = list(Path(\"../mukkeBude/songs/pokemon\").rglob(\"*.mid\"))\n",
    "\n",
    "print(f\"Found {len(paths)} songs in corpus.\")\n",
    "\n",
    "encoded_songs = []\n",
    "for path in paths:\n",
    "    song = utils.read_single(path)\n",
    "    encoded_song = utils.to_polyphonic_encoding(song, mapping)\n",
    "    encoded_songs.append(mapping.textify(encoded_song))\n",
    "\n",
    "print(f\"Songs encoded: {len(encoded_songs)}\")"
   ]
  },
  {
   "attachments": {},
   "cell_type": "markdown",
   "metadata": {},
   "source": [
    "Each node is represented like this:\n",
    "```\n",
    "c  = n60\n",
    "c# = n61\n",
    "d  = n62\n",
    "...\n",
    "```\n",
    "\n",
    "To represent the duration of each note, we will use \"`d1, d2, d3, ...`\". For example, if we want to represent a C note with a duration of 1/8, we will use \"`n60 d2`\". If we want to represent a C# note with a duration of 1/16, we will use \"`n61 d1`\".\n",
    "\n",
    "To sepperate the notes which are played at the same time we will use \"`xxsep`\". For example, if we want to represent a C note with a duration of 1/16 and a C# note with a duration of 1/16 played at the same time, we will use \"`n60 d1 n61 d1 xxsep`\".\n",
    "\n",
    "To sepperate each song there is \"`xxbos`\" in the dataset."
   ]
  },
  {
   "cell_type": "code",
   "execution_count": null,
   "metadata": {},
   "outputs": [],
   "source": [
    "# Create dataset\n",
    "# Tranformer needs the dataset without xxbos and each song in one new line\n",
    "utils.create_train_data(encoded_songs, \"raw_train_ds_videospiel.txt\")\n",
    "print(\"Dataset created\")"
   ]
  },
  {
   "cell_type": "code",
   "execution_count": null,
   "metadata": {},
   "outputs": [],
   "source": [
    "# Train model\n",
    "model = MukkeBudeTransformer(mapping)\n",
    "print(model)\n",
    "\n",
    "logdir = \"logs/videospiel_transformer_polyphonie\"\n",
    "tensorboard_callback = keras.callbacks.TensorBoard(log_dir=logdir)\n",
    "\n",
    "model.train(\"raw_train_ds_videospiel.txt\", min_training_seq_len=32, epochs=100, tensorboard_callback=tensorboard_callback)"
   ]
  },
  {
   "cell_type": "code",
   "execution_count": null,
   "metadata": {},
   "outputs": [],
   "source": [
    "model.save(\"Videospielmusik_polyphonie_transformer\")"
   ]
  },
  {
   "cell_type": "code",
   "execution_count": null,
   "metadata": {},
   "outputs": [],
   "source": [
    "%tensorboard --logdir logs/videospiel_transformer_polyphonie"
   ]
  },
  {
   "attachments": {},
   "cell_type": "markdown",
   "metadata": {},
   "source": [
    "# Generate music\n",
    "\n",
    "In this section you can generate music with a pre trained transformer model. The first section is monophony and the second with polyphony encoding."
   ]
  },
  {
   "attachments": {},
   "cell_type": "markdown",
   "metadata": {},
   "source": [
    "## Generate monophony"
   ]
  },
  {
   "cell_type": "code",
   "execution_count": null,
   "metadata": {},
   "outputs": [],
   "source": [
    "# Disable tensorflow warnings\n",
    "import os\n",
    "os.environ['TF_CPP_MIN_LOG_LEVEL'] = '2'\n",
    "\n",
    "# 0 = all messages are logged (default behavior)\n",
    "# 1 = INFO messages are not printed\n",
    "# 2 = INFO and WARNING messages are not printed\n",
    "# 3 = INFO, WARNING, and ERROR messages are not printed"
   ]
  },
  {
   "cell_type": "code",
   "execution_count": null,
   "metadata": {},
   "outputs": [],
   "source": [
    "from mukkeBude.mapping import MusicMapping\n",
    "from mukkeBude.model import MukkeBudeTransformer\n",
    "import mukkeBude.utils as utils\n",
    "import tensorflow as tf\n",
    "from pathlib import Path\n",
    "\n",
    "from mukkeBude.mapping import SPECIAL_TOKS\n",
    "from mukkeBude.mapping import REST\n",
    "from mukkeBude.mapping import WAIT_LSTM\n",
    "\n",
    "# Check if GPU is found\n",
    "print(tf.config.list_physical_devices('GPU'))"
   ]
  },
  {
   "cell_type": "code",
   "execution_count": null,
   "metadata": {},
   "outputs": [],
   "source": [
    "# Create mappings\n",
    "mapping = MusicMapping.create()\n",
    "\n",
    "# optional save the mapping\n",
    "# mapping.save(\"mapping.txt\")"
   ]
  },
  {
   "attachments": {},
   "cell_type": "markdown",
   "metadata": {},
   "source": [
    "You have to know the trainings data and the same trainings parameter."
   ]
  },
  {
   "cell_type": "code",
   "execution_count": null,
   "metadata": {},
   "outputs": [],
   "source": [
    "model = MukkeBudeTransformer.load(mapping, \"Videospielmusik_soloMelodie_transformer\", \"raw_train_ds_mono_videospiel.txt\", min_training_seq_len=32)"
   ]
  },
  {
   "cell_type": "code",
   "execution_count": null,
   "metadata": {},
   "outputs": [],
   "source": [
    "# Create song\n",
    "# TODO: Right start seed\n",
    "# generated_song = model.generate(\"n60 _ _ _ n55 _ _ _ n52 _ _ _ n48 _ n47 _ n60 _ _ _ n60\", max_length=500)\n",
    "\n",
    "# Remove REST and WAIT_LSTM from SPECIAL_TOKS\n",
    "# They should not be removed from the generated song\n",
    "special_tokens = SPECIAL_TOKS.copy()\n",
    "special_tokens.remove(REST)\n",
    "special_tokens.remove(WAIT_LSTM)\n",
    "\n",
    "generated_song = \" \".join(utils.replace_special_tokens(generated_song.split(), WAIT_LSTM, special_tokens))"
   ]
  },
  {
   "cell_type": "code",
   "execution_count": null,
   "metadata": {},
   "outputs": [],
   "source": [
    "new_song = utils.decode_songs_old(generated_song)\n",
    "print(generated_song)"
   ]
  },
  {
   "cell_type": "code",
   "execution_count": null,
   "metadata": {},
   "outputs": [],
   "source": [
    "path = Path(\"generated_song_pokemon_trans_mono.midi\")\n",
    "utils.write_midi(new_song, path)"
   ]
  },
  {
   "attachments": {},
   "cell_type": "markdown",
   "metadata": {},
   "source": [
    "## Generate polyphony"
   ]
  },
  {
   "cell_type": "code",
   "execution_count": null,
   "metadata": {},
   "outputs": [],
   "source": [
    "# Disable tensorflow warnings\n",
    "import os\n",
    "os.environ['TF_CPP_MIN_LOG_LEVEL'] = '2'\n",
    "\n",
    "# 0 = all messages are logged (default behavior)\n",
    "# 1 = INFO messages are not printed\n",
    "# 2 = INFO and WARNING messages are not printed\n",
    "# 3 = INFO, WARNING, and ERROR messages are not printed"
   ]
  },
  {
   "cell_type": "code",
   "execution_count": null,
   "metadata": {},
   "outputs": [],
   "source": [
    "from mukkeBude.mapping import MusicMapping\n",
    "import mukkeBude.utils as utils\n",
    "import tensorflow as tf\n",
    "import numpy as np\n",
    "from pathlib import Path\n",
    "\n",
    "from mukkeBude.mapping import SPECIAL_TOKS\n",
    "from mukkeBude.mapping import SEP\n",
    "from mukkeBude.mapping import BOS\n",
    "\n",
    "# Check if GPU is found\n",
    "print(tf.config.list_physical_devices('GPU'))"
   ]
  },
  {
   "cell_type": "code",
   "execution_count": null,
   "metadata": {},
   "outputs": [],
   "source": [
    "# Create mappings\n",
    "mapping = MusicMapping.create()\n",
    "\n",
    "# optional save the mapping\n",
    "# mapping.save(\"mapping.txt\")"
   ]
  },
  {
   "attachments": {},
   "cell_type": "markdown",
   "metadata": {},
   "source": [
    "You have to know the trainings data and the same trainings parameter."
   ]
  },
  {
   "cell_type": "code",
   "execution_count": null,
   "metadata": {},
   "outputs": [],
   "source": [
    "model = MukkeBudeTransformer.load(mapping, \"Videospielmusik_polyphonie_transformer\", \"raw_train_ds_videospiel.txt\", min_training_seq_len=32)"
   ]
  },
  {
   "cell_type": "code",
   "execution_count": null,
   "metadata": {},
   "outputs": [],
   "source": [
    "# Create song\n",
    "generated_song = model.generate(\"n46 d4 xxsep d4 n53 d2 n50 d2 xxsep d2 n62 d1 n58 d1 xxsep d2 n53 d2 n53 d2 n50 d2 xxsep d4 n46 d4 xxsep d4 n55 d2 n51 d2 xxsep d2 n63 d1 n58 d1 xxsep d2\", max_length=1000, probability=0.8)\n",
    "\n",
    "# Remove REST and WAIT_LSTM from SPECIAL_TOKS\n",
    "# They should not be removed from the generated song\n",
    "\n",
    "special_tokens = SPECIAL_TOKS.copy()\n",
    "special_tokens.remove(SEP)\n",
    "special_tokens.remove(BOS)\n",
    "\n",
    "generated_song = \" \".join(utils.replace_special_tokens(generated_song.split(), \"d1\", special_tokens))\n",
    "print(generated_song)"
   ]
  },
  {
   "cell_type": "code",
   "execution_count": null,
   "metadata": {},
   "outputs": [],
   "source": [
    "# Convert to music21\n",
    "new_song_ints = mapping.numericalize(generated_song.split(\" \"))\n",
    "new_song_ints = np.array(new_song_ints)\n",
    "\n",
    "new_song = utils.from_polyphonic_encoding(new_song_ints, mapping, bpm=140)\n",
    "\n",
    "path = Path(\"generated_song_pokemon_trans_poly.midi\")\n",
    "utils.write_midi(new_song, path)\n"
   ]
  }
 ],
 "metadata": {
  "kernelspec": {
   "display_name": ".venv",
   "language": "python",
   "name": "python3"
  },
  "language_info": {
   "codemirror_mode": {
    "name": "ipython",
    "version": 3
   },
   "file_extension": ".py",
   "mimetype": "text/x-python",
   "name": "python",
   "nbconvert_exporter": "python",
   "pygments_lexer": "ipython3",
   "version": "3.9.16"
  }
 },
 "nbformat": 4,
 "nbformat_minor": 4
}
