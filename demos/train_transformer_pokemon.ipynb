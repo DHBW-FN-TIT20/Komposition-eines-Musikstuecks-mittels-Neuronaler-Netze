{
 "cells": [
  {
   "cell_type": "code",
   "execution_count": 1,
   "metadata": {},
   "outputs": [],
   "source": [
    "# Disable tensorflow warnings\n",
    "import os\n",
    "os.environ['TF_CPP_MIN_LOG_LEVEL'] = '2'\n",
    "\n",
    "# 0 = all messages are logged (default behavior)\n",
    "# 1 = INFO messages are not printed\n",
    "# 2 = INFO and WARNING messages are not printed\n",
    "# 3 = INFO, WARNING, and ERROR messages are not printed"
   ]
  },
  {
   "cell_type": "code",
   "execution_count": 2,
   "metadata": {},
   "outputs": [
    {
     "name": "stdout",
     "output_type": "stream",
     "text": [
      "[]\n"
     ]
    }
   ],
   "source": [
    "from mukkeBude.model import MukkeBudeTransformer\n",
    "from mukkeBude.mapping import MusicMapping\n",
    "import mukkeBude.utils as utils\n",
    "import tensorflow as tf\n",
    "import numpy as np\n",
    "from pathlib import Path\n",
    "\n",
    "# Check if GPU is found\n",
    "print(tf.config.list_physical_devices('GPU'))"
   ]
  },
  {
   "cell_type": "code",
   "execution_count": 3,
   "metadata": {},
   "outputs": [],
   "source": [
    "# Create mappings\n",
    "mapping = MusicMapping.create()\n",
    "mapping.save(\"mapping.txt\")"
   ]
  },
  {
   "cell_type": "code",
   "execution_count": 4,
   "metadata": {},
   "outputs": [
    {
     "name": "stdout",
     "output_type": "stream",
     "text": [
      "Found 9 songs in corpus.\n"
     ]
    },
    {
     "name": "stderr",
     "output_type": "stream",
     "text": [
      "d:\\Projekte\\Python\\Tensorflow\\Komposition-eines-Musikstuecks-mittels-Neuronaler-Netze\\mukkeBude\\utils.py:137: StreamIteratorInefficientWarning: highestTime is not defined on StreamIterators. Call .stream() first for efficiency\n",
      "  song.flat.getElementsByClass(\"Note\").highestTime,\n",
      "d:\\Projekte\\Python\\Tensorflow\\Komposition-eines-Musikstuecks-mittels-Neuronaler-Netze\\mukkeBude\\utils.py:138: StreamIteratorInefficientWarning: highestTime is not defined on StreamIterators. Call .stream() first for efficiency\n",
      "  song.flat.getElementsByClass(\"Chord\").highestTime,\n"
     ]
    },
    {
     "name": "stdout",
     "output_type": "stream",
     "text": [
      "Songs encoded: 9\n"
     ]
    }
   ],
   "source": [
    "# Load songs\n",
    "songs = utils.read_all(\"./dataset/Pokemon/\")\n",
    "# paths = paths[:100]\n",
    "print(f\"Found {len(songs)} songs in corpus.\")\n",
    "\n",
    "encoded_songs = []\n",
    "for song in songs:\n",
    "    encoded_song = utils.to_polyphonic_encoding(song, mapping)\n",
    "    encoded_songs.append(mapping.textify(encoded_song))\n",
    "\n",
    "print(f\"Songs encoded: {len(encoded_songs)}\")"
   ]
  },
  {
   "cell_type": "code",
   "execution_count": 5,
   "metadata": {},
   "outputs": [
    {
     "name": "stdout",
     "output_type": "stream",
     "text": [
      "Dataset created\n"
     ]
    }
   ],
   "source": [
    "# Create dataset\n",
    "utils.create_train_data(encoded_songs, \"raw_pokemon_train_ds.txt\")\n",
    "print(\"Dataset created\")"
   ]
  },
  {
   "cell_type": "code",
   "execution_count": 6,
   "metadata": {},
   "outputs": [
    {
     "name": "stdout",
     "output_type": "stream",
     "text": [
      "Model: \"model\"\n",
      "_________________________________________________________________\n",
      " Layer (type)                Output Shape              Param #   \n",
      "=================================================================\n",
      " input_1 (InputLayer)        [(None, None)]            0         \n",
      "                                                                 \n",
      " token_and_position_embeddin  (None, None, 256)        780288    \n",
      " g (TokenAndPositionEmbeddin                                     \n",
      " g)                                                              \n",
      "                                                                 \n",
      " transformer_decoder (Transf  (None, None, 256)        394749    \n",
      " ormerDecoder)                                                   \n",
      "                                                                 \n",
      " transformer_decoder_1 (Tran  (None, None, 256)        394749    \n",
      " sformerDecoder)                                                 \n",
      "                                                                 \n",
      " transformer_decoder_2 (Tran  (None, None, 256)        394749    \n",
      " sformerDecoder)                                                 \n",
      "                                                                 \n",
      " transformer_decoder_3 (Tran  (None, None, 256)        394749    \n",
      " sformerDecoder)                                                 \n",
      "                                                                 \n",
      " dense (Dense)               (None, None, 1000)        257000    \n",
      "                                                                 \n",
      "=================================================================\n",
      "Total params: 2,616,284\n",
      "Trainable params: 2,616,284\n",
      "Non-trainable params: 0\n",
      "_________________________________________________________________\n",
      "Epoch 1/50\n",
      "1/1 - 4s - loss: 6.9831 - perplexity: 1078.2794 - 4s/epoch - 4s/step\n",
      "Epoch 2/50\n",
      "1/1 - 0s - loss: 4.9550 - perplexity: 141.8787 - 345ms/epoch - 345ms/step\n",
      "Epoch 3/50\n",
      "1/1 - 0s - loss: 4.0583 - perplexity: 57.8753 - 398ms/epoch - 398ms/step\n",
      "Epoch 4/50\n",
      "1/1 - 0s - loss: 3.5747 - perplexity: 35.6828 - 330ms/epoch - 330ms/step\n",
      "Epoch 5/50\n",
      "1/1 - 0s - loss: 3.2842 - perplexity: 26.6874 - 339ms/epoch - 339ms/step\n",
      "Epoch 6/50\n",
      "1/1 - 0s - loss: 3.0088 - perplexity: 20.2640 - 337ms/epoch - 337ms/step\n",
      "Epoch 7/50\n",
      "1/1 - 0s - loss: 2.7772 - perplexity: 16.0743 - 337ms/epoch - 337ms/step\n",
      "Epoch 8/50\n",
      "1/1 - 0s - loss: 2.5988 - perplexity: 13.4474 - 358ms/epoch - 358ms/step\n",
      "Epoch 9/50\n",
      "1/1 - 0s - loss: 2.4225 - perplexity: 11.2744 - 334ms/epoch - 334ms/step\n",
      "Epoch 10/50\n",
      "1/1 - 0s - loss: 2.2983 - perplexity: 9.9577 - 333ms/epoch - 333ms/step\n",
      "Epoch 11/50\n",
      "1/1 - 0s - loss: 2.1720 - perplexity: 8.7758 - 336ms/epoch - 336ms/step\n",
      "Epoch 12/50\n",
      "1/1 - 0s - loss: 2.0836 - perplexity: 8.0335 - 340ms/epoch - 340ms/step\n",
      "Epoch 13/50\n",
      "1/1 - 0s - loss: 1.9909 - perplexity: 7.3220 - 339ms/epoch - 339ms/step\n",
      "Epoch 14/50\n",
      "1/1 - 0s - loss: 1.9220 - perplexity: 6.8349 - 336ms/epoch - 336ms/step\n",
      "Epoch 15/50\n",
      "1/1 - 0s - loss: 1.8441 - perplexity: 6.3224 - 340ms/epoch - 340ms/step\n",
      "Epoch 16/50\n",
      "1/1 - 0s - loss: 1.7797 - perplexity: 5.9283 - 330ms/epoch - 330ms/step\n",
      "Epoch 17/50\n",
      "1/1 - 0s - loss: 1.7016 - perplexity: 5.4827 - 334ms/epoch - 334ms/step\n",
      "Epoch 18/50\n",
      "1/1 - 0s - loss: 1.6333 - perplexity: 5.1209 - 334ms/epoch - 334ms/step\n",
      "Epoch 19/50\n",
      "1/1 - 0s - loss: 1.5543 - perplexity: 4.7319 - 335ms/epoch - 335ms/step\n",
      "Epoch 20/50\n",
      "1/1 - 0s - loss: 1.4840 - perplexity: 4.4105 - 336ms/epoch - 336ms/step\n",
      "Epoch 21/50\n",
      "1/1 - 0s - loss: 1.4121 - perplexity: 4.1047 - 340ms/epoch - 340ms/step\n",
      "Epoch 22/50\n",
      "1/1 - 0s - loss: 1.3299 - perplexity: 3.7809 - 353ms/epoch - 353ms/step\n",
      "Epoch 23/50\n",
      "1/1 - 0s - loss: 1.2558 - perplexity: 3.5108 - 335ms/epoch - 335ms/step\n",
      "Epoch 24/50\n",
      "1/1 - 0s - loss: 1.1833 - perplexity: 3.2652 - 347ms/epoch - 347ms/step\n",
      "Epoch 25/50\n",
      "1/1 - 0s - loss: 1.1109 - perplexity: 3.0372 - 326ms/epoch - 326ms/step\n",
      "Epoch 26/50\n",
      "1/1 - 0s - loss: 1.0483 - perplexity: 2.8529 - 354ms/epoch - 354ms/step\n",
      "Epoch 27/50\n",
      "1/1 - 0s - loss: 0.9723 - perplexity: 2.6439 - 328ms/epoch - 328ms/step\n",
      "Epoch 28/50\n",
      "1/1 - 0s - loss: 0.8889 - perplexity: 2.4325 - 397ms/epoch - 397ms/step\n",
      "Epoch 29/50\n",
      "1/1 - 0s - loss: 0.8239 - perplexity: 2.2793 - 347ms/epoch - 347ms/step\n",
      "Epoch 30/50\n",
      "1/1 - 0s - loss: 0.7651 - perplexity: 2.1491 - 338ms/epoch - 338ms/step\n",
      "Epoch 31/50\n",
      "1/1 - 0s - loss: 0.6992 - perplexity: 2.0121 - 331ms/epoch - 331ms/step\n",
      "Epoch 32/50\n",
      "1/1 - 0s - loss: 0.6420 - perplexity: 1.9003 - 329ms/epoch - 329ms/step\n",
      "Epoch 33/50\n",
      "1/1 - 0s - loss: 0.5980 - perplexity: 1.8185 - 329ms/epoch - 329ms/step\n",
      "Epoch 34/50\n",
      "1/1 - 0s - loss: 0.5469 - perplexity: 1.7279 - 329ms/epoch - 329ms/step\n",
      "Epoch 35/50\n",
      "1/1 - 0s - loss: 0.4945 - perplexity: 1.6398 - 358ms/epoch - 358ms/step\n",
      "Epoch 36/50\n",
      "1/1 - 0s - loss: 0.4488 - perplexity: 1.5665 - 334ms/epoch - 334ms/step\n",
      "Epoch 37/50\n",
      "1/1 - 0s - loss: 0.4124 - perplexity: 1.5104 - 336ms/epoch - 336ms/step\n",
      "Epoch 38/50\n",
      "1/1 - 0s - loss: 0.3701 - perplexity: 1.4479 - 337ms/epoch - 337ms/step\n",
      "Epoch 39/50\n",
      "1/1 - 0s - loss: 0.3304 - perplexity: 1.3915 - 339ms/epoch - 339ms/step\n",
      "Epoch 40/50\n",
      "1/1 - 0s - loss: 0.3009 - perplexity: 1.3511 - 336ms/epoch - 336ms/step\n",
      "Epoch 41/50\n",
      "1/1 - 0s - loss: 0.2712 - perplexity: 1.3115 - 341ms/epoch - 341ms/step\n",
      "Epoch 42/50\n",
      "1/1 - 0s - loss: 0.2494 - perplexity: 1.2833 - 330ms/epoch - 330ms/step\n",
      "Epoch 43/50\n",
      "1/1 - 0s - loss: 0.2305 - perplexity: 1.2592 - 342ms/epoch - 342ms/step\n",
      "Epoch 44/50\n",
      "1/1 - 0s - loss: 0.2139 - perplexity: 1.2385 - 346ms/epoch - 346ms/step\n",
      "Epoch 45/50\n",
      "1/1 - 0s - loss: 0.1959 - perplexity: 1.2164 - 340ms/epoch - 340ms/step\n",
      "Epoch 46/50\n",
      "1/1 - 0s - loss: 0.1622 - perplexity: 1.1761 - 366ms/epoch - 366ms/step\n",
      "Epoch 47/50\n",
      "1/1 - 0s - loss: 0.1451 - perplexity: 1.1562 - 348ms/epoch - 348ms/step\n",
      "Epoch 48/50\n",
      "1/1 - 0s - loss: 0.1414 - perplexity: 1.1519 - 344ms/epoch - 344ms/step\n",
      "Epoch 49/50\n",
      "1/1 - 0s - loss: 0.1199 - perplexity: 1.1273 - 335ms/epoch - 335ms/step\n",
      "Epoch 50/50\n",
      "1/1 - 0s - loss: 0.1083 - perplexity: 1.1144 - 348ms/epoch - 348ms/step\n"
     ]
    },
    {
     "data": {
      "text/plain": [
       "<keras.callbacks.History at 0x2098cc9f3a0>"
      ]
     },
     "execution_count": 6,
     "metadata": {},
     "output_type": "execute_result"
    }
   ],
   "source": [
    "# Train model\n",
    "model = MukkeBudeTransformer(mapping)\n",
    "print(model)\n",
    "model.train(\"raw_pokemon_train_ds.txt\", min_training_seq_len=32, epochs=50)"
   ]
  },
  {
   "cell_type": "code",
   "execution_count": 17,
   "metadata": {},
   "outputs": [
    {
     "name": "stdout",
     "output_type": "stream",
     "text": [
      "prompt_tokens: [2]\n",
      "CLEAN SONG: xxbos n69 d1 n53 d1 xxsep d1 n57 d1 xxsep d1 n71 d1 n60 d1 xxsep d1 n64 d1 xxsep d1 n72 d1 n69 d1 xxsep d2 n76 d4 n71 d4 n65 d4 xxsep d4 n72 d2 n69 d2 xxsep d2 n69 d2 n67 d2 xxsep d2 n67 d2 n62 d2 xxsep d2 n67 d1 n52 d1 xxsep d1 n55 d1 xxsep d1 n69 d1 n59 d1 xxsep d1 n62 d1 xxsep d1 n71 d1 n67 d1 xxsep d2 n74 d4 n64 d4 n57 d4 xxsep d4 n72 d2 n69 d2 xxsep d2 n71 d2 n64 d2 xxsep d2 n72 d2 n57 d2 xxsep d2 n69 d1 n50 d1 xxsep d1 n53 d1 xxsep d1 n71 d1 n57 d1 xxsep d1 n60 d1 xxsep d1 n72 d1 n69 d1 xxsep d1 xxsep d1 xxsep d1 xxsep d1 xxsep d1 xxsep d1 xxsep d1 xxsep d1 xxsep d1 xxsep d1 xxsep d1 xxsep d1 n69 d1 xxsep d1 xxsep d1 n64 d4 xxsep d1 n71 d1 xxsep d1 xxsep d1 n77 d1 xxsep d1 xxsep d1 xxsep d1 xxsep d1 xxsep d1 xxsep d1 xxsep d1 n77 d1 n63 d1 n64 d4 n72 d1 xxsep d1 xxsep d1 n69 d1 xxsep d1 xxsep d1 xxsep d1 xxsep d1 xxsep d2 n60 d1 xxsep d1 n69 d1 n71 d1 n69 d1 n69 d1 xxsep d1 n64 d1 n69 d1 n75 d1 xxsep d1 n69 d1 n69 d1 xxsep d1 xxsep d1 xxsep d1 n69 d1 xxsep d1 n69 d1 xxsep d1 xxsep d1 n69 d1 n69 d1 xxsep d1 n64 d1 xxsep d1 xxsep d1 n69 d1 xxsep d1 n69 d1 xxsep d1 xxsep d1 xxsep d1 xxsep d1 xxsep d1 n69 d1 n69 d1 xxsep d1 n69 d1 n60 d1 n64 d1 xxsep d1 xxsep d1 n51 d1 n51 d1 xxsep d1 n69 d1 n69 d1 xxsep d1 xxsep d1 n69 d1 xxsep d1 xxsep d1 n72 d1 xxsep d1 n63 d1 xxsep d1 xxsep d1 n60 d1 n64 d1 xxsep d1 xxsep d1 n51 d1 xxsep d1 xxsep d1 n77 d1 xxsep d1 n69 d1 xxsep d1 n69 d1 xxsep d1 xxsep d1 n69 d1 xxsep d1 xxsep d1 n60 d1 xxsep d1 n58 d1 xxsep d1 n75 d1 n69 d1 xxsep d1 xxsep d1 n69 d1 n60 d1 n77 d1 xxsep d1 xxsep d1 n77 d1 n69 d1 n69 d1 xxsep d1 xxsep d1 n69 d1 xxsep d1 xxsep d1 n64 d1 n69 d1 n50 d4 xxsep d1 xxsep d1 xxsep d1 n69 d1 n69 d1 n60 d1 n64 d1 n60 d1 n69 d1 n71 d1 xxsep d1 xxsep d1 xxsep d1 n69 d1 xxsep d1 xxsep d1 n60 d1 n69 d1 xxsep d1 xxsep d1 xxsep d1 xxsep d1 xxsep d1 n50 d4 xxsep d1 n57 d1 xxsep d1 xxsep d1 xxsep d1 xxsep d1 xxsep d1 n69 d1 xxsep d1 n69 d1 xxsep d1 xxsep d1 n63 d1 n69 d1 xxsep d1 xxsep d1 n69 d1 n57 d1 n69 d1 n69 d1 n72 d1 xxsep d1 n75 d1 xxsep d1 xxsep d1 n69 d1 n77 d1 n69 d1 n72 d1 n69 d1 n64 d1 n69 d1 xxsep d1 xxsep d1 xxsep d1 xxsep d1 xxsep d1 xxsep d1 xxsep d1 n60 d1 xxsep d1 n68 d1 xxsep d1 xxsep d1 n69 d1 xxsep d1 n69 d1 n60 d1 xxsep d1 n64 d1 xxsep d1 n75 d1 xxsep d1 n71 d1 xxsep d1 xxsep d1 xxsep d1 xxsep d1 xxsep d1 xxsep d1 n69 d1 n64 d1 xxsep d1 n72 d1 xxsep d1 xxsep d1 xxsep d1 xxsep d1 n69 d1 n77 d1 n72 d1 n69 d1 n69 d1 n64 d1 xxsep d1 xxsep d1 n69 d1 xxsep d1 xxsep d1 n79 d1 n77 d1 n52 d1 xxsep d1 xxsep d1 n69 d1 n69 d1 xxsep d1 xxsep d1 n69 d1 xxsep d1 n69 d1 n64 d1 n77 d1 n60 d1 xxsep d1 n69 d1 n69 d1 xxsep d1 n69 d1 n69 d1 xxsep d1 xxsep d1 n64 d1 xxsep d1 n69 d1 xxsep d1 n72 d1 n69 d1 n64 d1 n71 d1 n79 d1 xxsep d1 xxsep d1 n69 d1 xxsep d1 n69 d1 xxsep d1 n62 d1 xxsep d1 n69 d1 n72 d1 n69 d1 n69 d1 xxsep d1 n71 d1 xxsep d1 xxsep d1 n69 d1 xxsep d1 xxsep d1 xxsep d1 n79 d1 n69 d1 n64 d1 n69 d1 xxsep d1 xxsep d1 xxsep d2 n67 d2 n69 d1 n60 d1 n69 d1 xxsep d2 n79 d1 n71 d1 n69 d1 n75 d1 n69 d1 n72 d1 n60 d1 xxsep d1 n64 d1 n69 d1 n71 d1 xxsep d1 xxsep d1 xxsep d1 n77 d1 n69 d1 xxsep d1 n69 d1 n69 d1 xxsep d1 n69 d1 xxsep d1 n69 d1 xxsep d1 n69 d1 n64 d1 n71 d1 n57 d1 n69 d1 n69 d1 n69 d1 xxsep d1 xxsep d1 xxsep d1 n71 d1 n69 d1 xxsep d1 xxsep d1 n69 d1 n69 d1 xxsep d1 n51 d1 n69 d1 n64 d1 n75 d1 xxsep d1 xxsep d1 xxsep d1 xxsep d1 xxsep d1 n77 d1 n64 d1 xxsep d1 xxsep d1 xxsep d1 xxsep d1 xxsep d1 n69 d1 xxsep d1 n69 d1 xxsep d1 n69 d1 n69 d1 xxsep d1 xxsep d1 xxsep d1 n69 d1 n69 d1 xxsep d1 n75 d1 n69 d1 n64 d1 n63 d1 n69 d1 xxsep d1 xxsep d1 xxsep d1 xxsep d1 xxsep d1 xxsep d1 n64 d1 xxsep d1 n77 d1 xxsep d1 xxsep d1 xxsep d1 n71 d1 n69 d1 n77 d1 xxsep d1 xxsep d1 xxsep d1 n69 d1 n64 d1 xxsep d1 xxsep d1 xxsep d1 n60 d1 n64 d1 n64 d1 n69 d1 xxsep d1 n71 d1 xxsep d1 xxsep d1 xxsep d1 n69 d1 n69 d1 xxsep d1 xxsep d1 n72 d1 n69 d1 xxsep d1 xxsep d1 n75 d1 n69 d1 xxsep d2 n69 d1 xxsep d1 n69 d1 n64 d1 xxsep d1 xxsep d1 xxsep d1 n69 d1 xxsep d2 n69 d1 n69 d1 xxsep d1 xxsep d1 xxsep d1 n69 d1 n69 d1 n71 d1 n69 d1 n69 d1 n71 d1 xxsep d1 n64 d1 xxsep d1 xxsep d1 n60\n",
      "\n",
      "\n",
      "xxbos n69 d1 n53 d1 xxsep d1 n57 d1 xxsep d1 n71 d1 n60 d1 xxsep d1 n64 d1 xxsep d1 n72 d1 n69 d1 xxsep d2 n76 d4 n71 d4 n65 d4 xxsep d4 n72 d2 n69 d2 xxsep d2 n69 d2 n67 d2 xxsep d2 n67 d2 n62 d2 xxsep d2 n67 d1 n52 d1 xxsep d1 n55 d1 xxsep d1 n69 d1 n59 d1 xxsep d1 n62 d1 xxsep d1 n71 d1 n67 d1 xxsep d2 n74 d4 n64 d4 n57 d4 xxsep d4 n72 d2 n69 d2 xxsep d2 n71 d2 n64 d2 xxsep d2 n72 d2 n57 d2 xxsep d2 n69 d1 n50 d1 xxsep d1 n53 d1 xxsep d1 n71 d1 n57 d1 xxsep d1 n60 d1 xxsep d1 n72 d1 n69 d1 xxsep d1 xxsep d1 xxsep d1 xxsep d1 xxsep d1 xxsep d1 xxsep d1 xxsep d1 xxsep d1 xxsep d1 xxsep d1 xxsep d1 n69 d1 xxsep d1 xxsep d1 n64 d4 xxsep d1 n71 d1 xxsep d1 xxsep d1 n77 d1 xxsep d1 xxsep d1 xxsep d1 xxsep d1 xxsep d1 xxsep d1 xxsep d1 n77 d1 n63 d1 n64 d4 n72 d1 xxsep d1 xxsep d1 n69 d1 xxsep d1 xxsep d1 xxsep d1 xxsep d1 xxsep d2 n60 d1 xxsep d1 n69 d1 n71 d1 n69 d1 n69 d1 xxsep d1 n64 d1 n69 d1 n75 d1 xxsep d1 n69 d1 n69 d1 xxsep d1 xxsep d1 xxsep d1 n69 d1 xxsep d1 n69 d1 xxsep d1 xxsep d1 n69 d1 n69 d1 xxsep d1 n64 d1 xxsep d1 xxsep d1 n69 d1 xxsep d1 n69 d1 xxsep d1 xxsep d1 xxsep d1 xxsep d1 xxsep d1 n69 d1 n69 d1 xxsep d1 n69 d1 n60 d1 n64 d1 xxsep d1 xxsep d1 n51 d1 n51 d1 xxsep d1 n69 d1 n69 d1 xxsep d1 xxsep d1 n69 d1 xxsep d1 xxsep d1 n72 d1 xxsep d1 n63 d1 xxsep d1 xxsep d1 n60 d1 n64 d1 xxsep d1 xxsep d1 n51 d1 xxsep d1 xxsep d1 n77 d1 xxsep d1 n69 d1 xxsep d1 n69 d1 xxsep d1 xxsep d1 n69 d1 xxsep d1 xxsep d1 n60 d1 xxsep d1 n58 d1 xxsep d1 n75 d1 n69 d1 xxsep d1 xxsep d1 n69 d1 n60 d1 n77 d1 xxsep d1 xxsep d1 n77 d1 n69 d1 n69 d1 xxsep d1 xxsep d1 n69 d1 xxsep d1 xxsep d1 n64 d1 n69 d1 n50 d4 xxsep d1 xxsep d1 xxsep d1 n69 d1 n69 d1 n60 d1 n64 d1 n60 d1 n69 d1 n71 d1 xxsep d1 xxsep d1 xxsep d1 n69 d1 xxsep d1 xxsep d1 n60 d1 n69 d1 xxsep d1 xxsep d1 xxsep d1 xxsep d1 xxsep d1 n50 d4 xxsep d1 n57 d1 xxsep d1 xxsep d1 xxsep d1 xxsep d1 xxsep d1 n69 d1 xxsep d1 n69 d1 xxsep d1 xxsep d1 n63 d1 n69 d1 xxsep d1 xxsep d1 n69 d1 n57 d1 n69 d1 n69 d1 n72 d1 xxsep d1 n75 d1 xxsep d1 xxsep d1 n69 d1 n77 d1 n69 d1 n72 d1 n69 d1 n64 d1 n69 d1 xxsep d1 xxsep d1 xxsep d1 xxsep d1 xxsep d1 xxsep d1 xxsep d1 n60 d1 xxsep d1 n68 d1 xxsep d1 xxsep d1 n69 d1 xxsep d1 n69 d1 n60 d1 xxsep d1 n64 d1 xxsep d1 n75 d1 xxsep d1 n71 d1 xxsep d1 xxsep d1 xxsep d1 xxsep d1 xxsep d1 xxsep d1 n69 d1 n64 d1 xxsep d1 n72 d1 xxsep d1 xxsep d1 xxsep d1 xxsep d1 n69 d1 n77 d1 n72 d1 n69 d1 n69 d1 n64 d1 xxsep d1 xxsep d1 n69 d1 xxsep d1 xxsep d1 n79 d1 n77 d1 n52 d1 xxsep d1 xxsep d1 n69 d1 n69 d1 xxsep d1 xxsep d1 n69 d1 xxsep d1 n69 d1 n64 d1 n77 d1 n60 d1 xxsep d1 n69 d1 n69 d1 xxsep d1 n69 d1 n69 d1 xxsep d1 xxsep d1 n64 d1 xxsep d1 n69 d1 xxsep d1 n72 d1 n69 d1 n64 d1 n71 d1 n79 d1 xxsep d1 xxsep d1 n69 d1 xxsep d1 n69 d1 xxsep d1 n62 d1 xxsep d1 n69 d1 n72 d1 n69 d1 n69 d1 xxsep d1 n71 d1 xxsep d1 xxsep d1 n69 d1 xxsep d1 xxsep d1 xxsep d1 n79 d1 n69 d1 n64 d1 n69 d1 xxsep d1 xxsep d1 xxsep d2 n67 d2 n69 d1 n60 d1 n69 d1 xxsep d2 n79 d1 n71 d1 n69 d1 n75 d1 n69 d1 n72 d1 n60 d1 xxsep d1 n64 d1 n69 d1 n71 d1 xxsep d1 xxsep d1 xxsep d1 n77 d1 n69 d1 xxsep d1 n69 d1 n69 d1 xxsep d1 n69 d1 xxsep d1 n69 d1 xxsep d1 n69 d1 n64 d1 n71 d1 n57 d1 n69 d1 n69 d1 n69 d1 xxsep d1 xxsep d1 xxsep d1 n71 d1 n69 d1 xxsep d1 xxsep d1 n69 d1 n69 d1 xxsep d1 n51 d1 n69 d1 n64 d1 n75 d1 xxsep d1 xxsep d1 xxsep d1 xxsep d1 xxsep d1 n77 d1 n64 d1 xxsep d1 xxsep d1 xxsep d1 xxsep d1 xxsep d1 n69 d1 xxsep d1 n69 d1 xxsep d1 n69 d1 n69 d1 xxsep d1 xxsep d1 xxsep d1 n69 d1 n69 d1 xxsep d1 n75 d1 n69 d1 n64 d1 n63 d1 n69 d1 xxsep d1 xxsep d1 xxsep d1 xxsep d1 xxsep d1 xxsep d1 n64 d1 xxsep d1 n77 d1 xxsep d1 xxsep d1 xxsep d1 n71 d1 n69 d1 n77 d1 xxsep d1 xxsep d1 xxsep d1 n69 d1 n64 d1 xxsep d1 xxsep d1 xxsep d1 n60 d1 n64 d1 n64 d1 n69 d1 xxsep d1 n71 d1 xxsep d1 xxsep d1 xxsep d1 n69 d1 n69 d1 xxsep d1 xxsep d1 n72 d1 n69 d1 xxsep d1 xxsep d1 n75 d1 n69 d1 xxsep d2 n69 d1 xxsep d1 n69 d1 n64 d1 xxsep d1 xxsep d1 xxsep d1 n69 d1 xxsep d2 n69 d1 n69 d1 xxsep d1 xxsep d1 xxsep d1 n69 d1 n69 d1 n71 d1 n69 d1 n69 d1 n71 d1 xxsep d1 n64 d1 xxsep d1 xxsep d1 n60\n"
     ]
    }
   ],
   "source": [
    "# Create song\n",
    "generated_song = model.generate(\"xxbos\", max_length=1024, probability=0.25)\n",
    "new_song_str = generated_song.numpy().decode(\"utf-8\")\n",
    "print(f\"CLEAN SONG: {new_song_str}\\n\\n\")\n",
    "\n",
    "# THIS DEPENDS ON THE OUTPUT - NEED TO FIX THE OUTPUT\n",
    "# new_song_str = new_song_str[15:]\n",
    "# new_song_str = \"xxbos xxpad \" + new_song_str\n",
    "# new_song_str = new_song_str.replace(\"   \", \" \")\n",
    "\n",
    "print(new_song_str)"
   ]
  },
  {
   "cell_type": "code",
   "execution_count": 19,
   "metadata": {},
   "outputs": [
    {
     "name": "stdout",
     "output_type": "stream",
     "text": [
      "[  0  73 133 ...   3 133  64]\n",
      "xxbos n69 d1 n53 d1 xxsep d1 n57 d1 xxsep d1 n71 d1 n60 d1 xxsep d1 n64 d1 xxsep d1 n72 d1 n69 d1 xxsep d2 n76 d4 n71 d4 n65 d4 xxsep d4 n72 d2 n69 d2 xxsep d2 n69 d2 n67 d2 xxsep d2 n67 d2 n62 d2 xxsep d2 n67 d1 n52 d1 xxsep d1 n55 d1 xxsep d1 n69 d1 n59 d1 xxsep d1 n62 d1 xxsep d1 n71 d1 n67 d1 xxsep d2 n74 d4 n64 d4 n57 d4 xxsep d4 n72 d2 n69 d2 xxsep d2 n71 d2 n64 d2 xxsep d2 n72 d2 n57 d2 xxsep d2 n69 d1 n50 d1 xxsep d1 n53 d1 xxsep d1 n71 d1 n57 d1 xxsep d1 n60 d1 xxsep d1 n72 d1 n69 d1 xxsep d1 xxsep d1 xxsep d1 xxsep d1 xxsep d1 xxsep d1 xxsep d1 xxsep d1 xxsep d1 xxsep d1 xxsep d1 xxsep d1 n69 d1 xxsep d1 xxsep d1 n64 d4 xxsep d1 n71 d1 xxsep d1 xxsep d1 n77 d1 xxsep d1 xxsep d1 xxsep d1 xxsep d1 xxsep d1 xxsep d1 xxsep d1 n77 d1 n63 d1 n64 d4 n72 d1 xxsep d1 xxsep d1 n69 d1 xxsep d1 xxsep d1 xxsep d1 xxsep d1 xxsep d2 n60 d1 xxsep d1 n69 d1 n71 d1 n69 d1 n69 d1 xxsep d1 n64 d1 n69 d1 n75 d1 xxsep d1 n69 d1 n69 d1 xxsep d1 xxsep d1 xxsep d1 n69 d1 xxsep d1 n69 d1 xxsep d1 xxsep d1 n69 d1 n69 d1 xxsep d1 n64 d1 xxsep d1 xxsep d1 n69 d1 xxsep d1 n69 d1 xxsep d1 xxsep d1 xxsep d1 xxsep d1 xxsep d1 n69 d1 n69 d1 xxsep d1 n69 d1 n60 d1 n64 d1 xxsep d1 xxsep d1 n51 d1 n51 d1 xxsep d1 n69 d1 n69 d1 xxsep d1 xxsep d1 n69 d1 xxsep d1 xxsep d1 n72 d1 xxsep d1 n63 d1 xxsep d1 xxsep d1 n60 d1 n64 d1 xxsep d1 xxsep d1 n51 d1 xxsep d1 xxsep d1 n77 d1 xxsep d1 n69 d1 xxsep d1 n69 d1 xxsep d1 xxsep d1 n69 d1 xxsep d1 xxsep d1 n60 d1 xxsep d1 n58 d1 xxsep d1 n75 d1 n69 d1 xxsep d1 xxsep d1 n69 d1 n60 d1 n77 d1 xxsep d1 xxsep d1 n77 d1 n69 d1 n69 d1 xxsep d1 xxsep d1 n69 d1 xxsep d1 xxsep d1 n64 d1 n69 d1 n50 d4 xxsep d1 xxsep d1 xxsep d1 n69 d1 n69 d1 n60 d1 n64 d1 n60 d1 n69 d1 n71 d1 xxsep d1 xxsep d1 xxsep d1 n69 d1 xxsep d1 xxsep d1 n60 d1 n69 d1 xxsep d1 xxsep d1 xxsep d1 xxsep d1 xxsep d1 n50 d4 xxsep d1 n57 d1 xxsep d1 xxsep d1 xxsep d1 xxsep d1 xxsep d1 n69 d1 xxsep d1 n69 d1 xxsep d1 xxsep d1 n63 d1 n69 d1 xxsep d1 xxsep d1 n69 d1 n57 d1 n69 d1 n69 d1 n72 d1 xxsep d1 n75 d1 xxsep d1 xxsep d1 n69 d1 n77 d1 n69 d1 n72 d1 n69 d1 n64 d1 n69 d1 xxsep d1 xxsep d1 xxsep d1 xxsep d1 xxsep d1 xxsep d1 xxsep d1 n60 d1 xxsep d1 n68 d1 xxsep d1 xxsep d1 n69 d1 xxsep d1 n69 d1 n60 d1 xxsep d1 n64 d1 xxsep d1 n75 d1 xxsep d1 n71 d1 xxsep d1 xxsep d1 xxsep d1 xxsep d1 xxsep d1 xxsep d1 n69 d1 n64 d1 xxsep d1 n72 d1 xxsep d1 xxsep d1 xxsep d1 xxsep d1 n69 d1 n77 d1 n72 d1 n69 d1 n69 d1 n64 d1 xxsep d1 xxsep d1 n69 d1 xxsep d1 xxsep d1 n79 d1 n77 d1 n52 d1 xxsep d1 xxsep d1 n69 d1 n69 d1 xxsep d1 xxsep d1 n69 d1 xxsep d1 n69 d1 n64 d1 n77 d1 n60 d1 xxsep d1 n69 d1 n69 d1 xxsep d1 n69 d1 n69 d1 xxsep d1 xxsep d1 n64 d1 xxsep d1 n69 d1 xxsep d1 n72 d1 n69 d1 n64 d1 n71 d1 n79 d1 xxsep d1 xxsep d1 n69 d1 xxsep d1 n69 d1 xxsep d1 n62 d1 xxsep d1 n69 d1 n72 d1 n69 d1 n69 d1 xxsep d1 n71 d1 xxsep d1 xxsep d1 n69 d1 xxsep d1 xxsep d1 xxsep d1 n79 d1 n69 d1 n64 d1 n69 d1 xxsep d1 xxsep d1 xxsep d2 n67 d2 n69 d1 n60 d1 n69 d1 xxsep d2 n79 d1 n71 d1 n69 d1 n75 d1 n69 d1 n72 d1 n60 d1 xxsep d1 n64 d1 n69 d1 n71 d1 xxsep d1 xxsep d1 xxsep d1 n77 d1 n69 d1 xxsep d1 n69 d1 n69 d1 xxsep d1 n69 d1 xxsep d1 n69 d1 xxsep d1 n69 d1 n64 d1 n71 d1 n57 d1 n69 d1 n69 d1 n69 d1 xxsep d1 xxsep d1 xxsep d1 n71 d1 n69 d1 xxsep d1 xxsep d1 n69 d1 n69 d1 xxsep d1 n51 d1 n69 d1 n64 d1 n75 d1 xxsep d1 xxsep d1 xxsep d1 xxsep d1 xxsep d1 n77 d1 n64 d1 xxsep d1 xxsep d1 xxsep d1 xxsep d1 xxsep d1 n69 d1 xxsep d1 n69 d1 xxsep d1 n69 d1 n69 d1 xxsep d1 xxsep d1 xxsep d1 n69 d1 n69 d1 xxsep d1 n75 d1 n69 d1 n64 d1 n63 d1 n69 d1 xxsep d1 xxsep d1 xxsep d1 xxsep d1 xxsep d1 xxsep d1 n64 d1 xxsep d1 n77 d1 xxsep d1 xxsep d1 xxsep d1 n71 d1 n69 d1 n77 d1 xxsep d1 xxsep d1 xxsep d1 n69 d1 n64 d1 xxsep d1 xxsep d1 xxsep d1 n60 d1 n64 d1 n64 d1 n69 d1 xxsep d1 n71 d1 xxsep d1 xxsep d1 xxsep d1 n69 d1 n69 d1 xxsep d1 xxsep d1 n72 d1 n69 d1 xxsep d1 xxsep d1 n75 d1 n69 d1 xxsep d2 n69 d1 xxsep d1 n69 d1 n64 d1 xxsep d1 xxsep d1 xxsep d1 n69 d1 xxsep d2 n69 d1 n69 d1 xxsep d1 xxsep d1 xxsep d1 n69 d1 n69 d1 n71 d1 n69 d1 n69 d1 n71 d1 xxsep d1 n64 d1 xxsep d1 xxsep d1 n60\n"
     ]
    }
   ],
   "source": [
    "# Convert to music21\n",
    "new_song_ints = mapping.numericalize(new_song_str.split(\" \"))\n",
    "new_song_ints = np.array(new_song_ints)\n",
    "\n",
    "print(new_song_ints)\n",
    "print(mapping.textify(new_song_ints))\n",
    "\n",
    "new_song = utils.from_polyphonic_encoding(new_song_ints, mapping, bpm=120, validate=True)\n",
    "path = Path(\"generated_song_pokemon.mid\")\n",
    "utils.write_midi(new_song, path)\n",
    "utils.write_musicxml(new_song, \"generated_song_pokemon.musicxml\")"
   ]
  },
  {
   "cell_type": "code",
   "execution_count": null,
   "metadata": {},
   "outputs": [],
   "source": [
    "# Open song in MuseScore (Linux if installed)\n",
    "!musescore4portable {path.absolute()}"
   ]
  }
 ],
 "metadata": {
  "kernelspec": {
   "display_name": "Python 3 (ipykernel)",
   "language": "python",
   "name": "python3"
  },
  "language_info": {
   "codemirror_mode": {
    "name": "ipython",
    "version": 3
   },
   "file_extension": ".py",
   "mimetype": "text/x-python",
   "name": "python",
   "nbconvert_exporter": "python",
   "pygments_lexer": "ipython3",
   "version": "3.9.13"
  },
  "vscode": {
   "interpreter": {
    "hash": "9052d763eeeacaf5da08a840d251d734fa4deea148f97d28b11062c8c516292f"
   }
  }
 },
 "nbformat": 4,
 "nbformat_minor": 4
}
