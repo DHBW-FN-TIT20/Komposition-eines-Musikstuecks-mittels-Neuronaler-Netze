{
 "cells": [
  {
   "attachments": {},
   "cell_type": "markdown",
   "metadata": {},
   "source": [
    "# Postprocessing\n",
    "Die zuvor generierte Daten im MIDI - Textformat, wird nun in eine abspielbare MIDI verwandelt."
   ]
  },
  {
   "cell_type": "code",
   "execution_count": 1,
   "metadata": {},
   "outputs": [
    {
     "name": "stderr",
     "output_type": "stream",
     "text": [
      "2023-02-06 09:57:30.664295: W tensorflow/stream_executor/platform/default/dso_loader.cc:64] Could not load dynamic library 'libcudart.so.11.0'; dlerror: libcudart.so.11.0: cannot open shared object file: No such file or directory\n",
      "2023-02-06 09:57:30.664321: I tensorflow/stream_executor/cuda/cudart_stub.cc:29] Ignore above cudart dlerror if you do not have a GPU set up on your machine.\n"
     ]
    }
   ],
   "source": [
    "# Needed imports\n",
    "import numpy as np\n",
    "import json\n",
    "import os\n",
    "import music21 as m21\n",
    "from tensorflow import keras\n",
    "from pathlib import Path\n",
    "\n",
    "# Needed variabel\n",
    "datasets_folder = Path(os.path.abspath('')) / 'dataset'\n",
    "melody_path = datasets_folder / 'melody.txt'\n",
    "output_format = 'midi'\n",
    "output_path = datasets_folder / f'output.{output_format}'"
   ]
  },
  {
   "cell_type": "code",
   "execution_count": 2,
   "metadata": {},
   "outputs": [
    {
     "name": "stdout",
     "output_type": "stream",
     "text": [
      "/workspaces/Komposition-eines-Musikstuecks-mittels-Neuronaler-Netze/demos/dataset\n",
      "/workspaces/Komposition-eines-Musikstuecks-mittels-Neuronaler-Netze/demos/dataset/melody.txt\n",
      "/workspaces/Komposition-eines-Musikstuecks-mittels-Neuronaler-Netze/demos/dataset/output.midi\n"
     ]
    }
   ],
   "source": [
    "print(datasets_folder)\n",
    "print(melody_path)\n",
    "print(output_path)"
   ]
  },
  {
   "attachments": {},
   "cell_type": "markdown",
   "metadata": {},
   "source": [
    "## Erstellen eines music21 stream\n",
    "Erstellen eines sehr einfachen m21 streams."
   ]
  },
  {
   "cell_type": "code",
   "execution_count": 3,
   "metadata": {},
   "outputs": [],
   "source": [
    "m21_stream = m21.stream.Stream()"
   ]
  },
  {
   "attachments": {},
   "cell_type": "markdown",
   "metadata": {},
   "source": [
    "## Lade der Daten"
   ]
  },
  {
   "cell_type": "code",
   "execution_count": 4,
   "metadata": {},
   "outputs": [
    {
     "name": "stdout",
     "output_type": "stream",
     "text": [
      "126\n",
      "\n",
      "['72', '_', '_', '_', '_', '_', '72', '_', '_', '_', '_', '_', '72', '_', '71', '_', '72', '_', '68', '_', '69', '_', '72', '_', '71', '_', '72', '_', '74', '_', '72', '_', '_', '_', '72', '_', '72', '_', '_', '_', '69', '_', '_', '_', '71', '_', '72', '_', '74', '_', '72', '_', '_', '_', '67', '_', '_', '_', '_', '_', '62', '_', '_', '_', '_', '_', '67', '_', '_', '_', '67', '_', '67', '_', '_', '_', '69', '_', '65', '_', '_', '_', '_', '_', '67', '_', '_', '_', '_', '_', '64', '_', '_', '_', '_', '_', '67', '_', '_', '_', '_', '_', '67', '_', '_', '_', '57', '_', '57', '_', '_', '_', '60', '_', '60', '_', '_', '_', '_', '_', '_', '_', '_', '_', '_', '_']\n"
     ]
    }
   ],
   "source": [
    "symbol_melody = []\n",
    "with open(melody_path, 'r') as f:\n",
    "    symbol_melody = json.load(f)\n",
    "\n",
    "print(len(symbol_melody))\n",
    "print()\n",
    "print(symbol_melody)"
   ]
  },
  {
   "attachments": {},
   "cell_type": "markdown",
   "metadata": {},
   "source": [
    "## Parse die Symbole in ein m21 Note / Rest"
   ]
  },
  {
   "cell_type": "code",
   "execution_count": 5,
   "metadata": {},
   "outputs": [],
   "source": [
    "start_symbol = None\n",
    "step_counter = 1       # Tracks the length of one note. 1 = 1/4 note, 2 = 1/2 note, 4 = 1 whole note\n",
    "step_duration = 0.25   # The duration of one step in quarter length\n",
    "\n",
    "for index, symbol in enumerate(symbol_melody):\n",
    "\n",
    "    # If the symbol is a note or a rest or the end of the melody\n",
    "    if symbol != \"_\" or index == len(symbol_melody) - 1:\n",
    "\n",
    "        # Ensure that the symbol is not the start symbol\n",
    "        if start_symbol is not None:\n",
    "\n",
    "            quarter_length_duration = step_duration * step_counter  # 0.25 * 1 = 0.25, 0.25 * 2 = 0.5, 0.25 * 4 = 1\n",
    "\n",
    "            # If the symbol is a note\n",
    "            if start_symbol != \"r\":\n",
    "                m21_event = m21.note.Note(int(start_symbol), quarterLength=quarter_length_duration)\n",
    "\n",
    "            # If the symbol is a rest\n",
    "            else:\n",
    "                m21_event = m21.note.Rest(quarterLength=quarter_length_duration)\n",
    "\n",
    "            m21_stream.append(m21_event)\n",
    "            step_counter = 1\n",
    "        \n",
    "        start_symbol = symbol\n",
    "\n",
    "    else:\n",
    "        step_counter += 1"
   ]
  },
  {
   "attachments": {},
   "cell_type": "markdown",
   "metadata": {},
   "source": [
    "## Speicher die MIDI-Datei\n"
   ]
  },
  {
   "cell_type": "code",
   "execution_count": 6,
   "metadata": {},
   "outputs": [
    {
     "data": {
      "text/plain": [
       "PosixPath('/workspaces/Komposition-eines-Musikstuecks-mittels-Neuronaler-Netze/demos/dataset/output.midi')"
      ]
     },
     "execution_count": 6,
     "metadata": {},
     "output_type": "execute_result"
    }
   ],
   "source": [
    "m21_stream.write('midi', fp=output_path)"
   ]
  },
  {
   "attachments": {},
   "cell_type": "markdown",
   "metadata": {},
   "source": [
    "Ist musescore installiert, kann dies damit geöffnet werden\n",
    "\n",
    "[https://musescore.org/de/handbook/2/installation-unter-linux](https://musescore.org/de/handbook/2/installation-unter-linux)"
   ]
  },
  {
   "cell_type": "code",
   "execution_count": 7,
   "metadata": {},
   "outputs": [
    {
     "name": "stdout",
     "output_type": "stream",
     "text": [
      "/bin/bash: line 1: musescore4portable: command not found\n"
     ]
    }
   ],
   "source": [
    "!musescore4portable {output_path}"
   ]
  }
 ],
 "metadata": {
  "kernelspec": {
   "display_name": "komposition-eines-musikstuecks-mittels-neu-zath_kMP-py3.9",
   "language": "python",
   "name": "python3"
  },
  "language_info": {
   "codemirror_mode": {
    "name": "ipython",
    "version": 3
   },
   "file_extension": ".py",
   "mimetype": "text/x-python",
   "name": "python",
   "nbconvert_exporter": "python",
   "pygments_lexer": "ipython3",
   "version": "3.9.16"
  },
  "orig_nbformat": 4,
  "vscode": {
   "interpreter": {
    "hash": "5fb9a4554ddec3f0799123ac4cc7a41db9f945942458fc16a1fb805237e5a9a6"
   }
  }
 },
 "nbformat": 4,
 "nbformat_minor": 2
}
