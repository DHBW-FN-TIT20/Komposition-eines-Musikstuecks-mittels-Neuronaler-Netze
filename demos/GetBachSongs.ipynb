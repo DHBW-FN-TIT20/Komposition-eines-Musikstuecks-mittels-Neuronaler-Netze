{
 "cells": [
  {
   "cell_type": "code",
   "execution_count": 3,
   "metadata": {},
   "outputs": [
    {
     "data": {
      "text/plain": [
       "WindowsPath('e:/Python/Komposition-eines-Musikstuecks-mittels-Neuronaler-Netze/demos/generated_song_videospielmusik_lstm_poly_example.musicxml')"
      ]
     },
     "execution_count": 3,
     "metadata": {},
     "output_type": "execute_result"
    }
   ],
   "source": [
    "import music21 as m21\n",
    "import mukkeBude.utils as utils\n",
    "\n",
    "song = utils.read_single(\"./generated_song_videospielmusik_lstm_poly_example.mid\")\n",
    "song.write(\"musicxml\", fp=\"./generated_song_videospielmusik_lstm_poly_example.musicxml\")"
   ]
  }
 ],
 "metadata": {
  "kernelspec": {
   "display_name": "tf",
   "language": "python",
   "name": "tf"
  },
  "language_info": {
   "codemirror_mode": {
    "name": "ipython",
    "version": 3
   },
   "file_extension": ".py",
   "mimetype": "text/x-python",
   "name": "python",
   "nbconvert_exporter": "python",
   "pygments_lexer": "ipython3",
   "version": "3.10.9"
  },
  "orig_nbformat": 4
 },
 "nbformat": 4,
 "nbformat_minor": 2
}
