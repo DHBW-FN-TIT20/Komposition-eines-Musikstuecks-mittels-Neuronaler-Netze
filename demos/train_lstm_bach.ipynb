{
 "cells": [
  {
   "cell_type": "code",
   "execution_count": 1,
   "metadata": {
    "tags": []
   },
   "outputs": [],
   "source": [
    "# Disable tensorflow warnings\n",
    "import os\n",
    "os.environ['TF_CPP_MIN_LOG_LEVEL'] = '2'\n",
    "\n",
    "# 0 = all messages are logged (default behavior)\n",
    "# 1 = INFO messages are not printed\n",
    "# 2 = INFO and WARNING messages are not printed\n",
    "# 3 = INFO, WARNING, and ERROR messages are not printed"
   ]
  },
  {
   "cell_type": "code",
   "execution_count": 2,
   "metadata": {
    "tags": []
   },
   "outputs": [],
   "source": [
    "# Load the TensorBoard notebook extension.\n",
    "%load_ext tensorboard"
   ]
  },
  {
   "cell_type": "code",
   "execution_count": 2,
   "metadata": {
    "tags": []
   },
   "outputs": [
    {
     "name": "stderr",
     "output_type": "stream",
     "text": [
      "2023-04-13 20:31:24.152372: E tensorflow/stream_executor/cuda/cuda_blas.cc:2981] Unable to register cuBLAS factory: Attempting to register factory for plugin cuBLAS when one has already been registered\n"
     ]
    },
    {
     "name": "stdout",
     "output_type": "stream",
     "text": [
      "[]\n"
     ]
    }
   ],
   "source": [
    "from mukkeBude.model import MukkeBudeLSTM\n",
    "from mukkeBude.mapping import MusicMapping\n",
    "import mukkeBude.utils as utils\n",
    "import music21 as m21\n",
    "import tensorflow as tf\n",
    "import numpy as np\n",
    "import keras\n",
    "from pathlib import Path\n",
    "\n",
    "# Check if GPU is found\n",
    "print(tf.config.list_physical_devices('GPU'))"
   ]
  },
  {
   "cell_type": "code",
   "execution_count": 3,
   "metadata": {
    "tags": []
   },
   "outputs": [],
   "source": [
    "# Create mappings\n",
    "mapping = MusicMapping.create()\n",
    "mapping.save(\"mapping.txt\")"
   ]
  },
  {
   "cell_type": "code",
   "execution_count": 4,
   "metadata": {
    "tags": []
   },
   "outputs": [
    {
     "name": "stdout",
     "output_type": "stream",
     "text": [
      "Found 10 songs in corpus.\n",
      "Removed 0 bad songs\n",
      "Remaining songs: 10\n",
      "Songs encoded: 10\n"
     ]
    }
   ],
   "source": [
    "paths = m21.corpus.getComposer('bach')\n",
    "paths = paths[:10]\n",
    "print(f\"Found {len(paths)} songs in corpus.\")\n",
    "\n",
    "encoded_songs = utils.load_dataset_lstm(paths, 64, mapping)\n",
    "\n",
    "print(f\"Songs encoded: {len(paths)}\")"
   ]
  },
  {
   "cell_type": "code",
   "execution_count": 5,
   "metadata": {
    "tags": []
   },
   "outputs": [
    {
     "name": "stdout",
     "output_type": "stream",
     "text": [
      "Model: \"model\"\n",
      "_________________________________________________________________\n",
      " Layer (type)                Output Shape              Param #   \n",
      "=================================================================\n",
      " input_1 (InputLayer)        [(None, None, 298)]       0         \n",
      "                                                                 \n",
      " lstm (LSTM)                 (None, 256)               568320    \n",
      "                                                                 \n",
      " dropout (Dropout)           (None, 256)               0         \n",
      "                                                                 \n",
      " dense (Dense)               (None, 298)               76586     \n",
      "                                                                 \n",
      "=================================================================\n",
      "Total params: 644,906\n",
      "Trainable params: 644,906\n",
      "Non-trainable params: 0\n",
      "_________________________________________________________________\n",
      "173/173 [==============================] - 27s 126ms/step - loss: 1.9152 - accuracy: 0.6409\n"
     ]
    }
   ],
   "source": [
    "# Train model\n",
    "model = MukkeBudeLSTM(mapping)\n",
    "print(model)\n",
    "\n",
    "logdir = \"logs/bach_lstm\"\n",
    "tensorboard_callback = keras.callbacks.TensorBoard(log_dir=logdir)\n",
    "\n",
    "model.train(encoded_songs, tensorboard_callback=tensorboard_callback, epochs=1)"
   ]
  },
  {
   "cell_type": "code",
   "execution_count": 13,
   "metadata": {
    "tags": []
   },
   "outputs": [
    {
     "name": "stderr",
     "output_type": "stream",
     "text": [
      "WARNING:absl:Found untraced functions such as lstm_cell_layer_call_fn, lstm_cell_layer_call_and_return_conditional_losses while saving (showing 2 of 2). These functions will not be directly callable after loading.\n"
     ]
    },
    {
     "name": "stdout",
     "output_type": "stream",
     "text": [
      "INFO:tensorflow:Assets written to: /home/floskinner/mukkeBude/mukkeBude/model/preTrainedModels/Bach_polyphonie_transformer/assets\n"
     ]
    },
    {
     "name": "stderr",
     "output_type": "stream",
     "text": [
      "INFO:tensorflow:Assets written to: /home/floskinner/mukkeBude/mukkeBude/model/preTrainedModels/Bach_polyphonie_transformer/assets\n"
     ]
    },
    {
     "data": {
      "text/plain": [
       "'/home/floskinner/mukkeBude/mukkeBude/model/preTrainedModels/Bach_polyphonie_transformer'"
      ]
     },
     "execution_count": 13,
     "metadata": {},
     "output_type": "execute_result"
    }
   ],
   "source": [
    "model.save(\"PinkFloyd_soloMelodie_transformer\")"
   ]
  },
  {
   "cell_type": "code",
   "execution_count": 7,
   "metadata": {
    "tags": []
   },
   "outputs": [
    {
     "data": {
      "text/html": [
       "\n",
       "      <iframe id=\"tensorboard-frame-1574d43294fc3a9c\" width=\"100%\" height=\"800\" frameborder=\"0\">\n",
       "      </iframe>\n",
       "      <script>\n",
       "        (function() {\n",
       "          const frame = document.getElementById(\"tensorboard-frame-1574d43294fc3a9c\");\n",
       "          const url = new URL(\"/\", window.location);\n",
       "          const port = 6006;\n",
       "          if (port) {\n",
       "            url.port = port;\n",
       "          }\n",
       "          frame.src = url;\n",
       "        })();\n",
       "      </script>\n",
       "    "
      ],
      "text/plain": [
       "<IPython.core.display.HTML object>"
      ]
     },
     "metadata": {},
     "output_type": "display_data"
    }
   ],
   "source": [
    "# Show the logs\n",
    "%tensorboard --logdir logs/bach_lstm"
   ]
  },
  {
   "cell_type": "code",
   "execution_count": 8,
   "metadata": {
    "tags": []
   },
   "outputs": [
    {
     "name": "stdout",
     "output_type": "stream",
     "text": [
      "1/1 [==============================] - 0s 332ms/step\n",
      "1/1 [==============================] - 0s 300ms/step\n",
      "1/1 [==============================] - 0s 19ms/step\n",
      "1/1 [==============================] - 0s 18ms/step\n",
      "1/1 [==============================] - 0s 19ms/step\n",
      "1/1 [==============================] - 0s 20ms/step\n",
      "1/1 [==============================] - 0s 19ms/step\n",
      "1/1 [==============================] - 0s 21ms/step\n",
      "1/1 [==============================] - 0s 25ms/step\n",
      "1/1 [==============================] - 0s 26ms/step\n",
      "1/1 [==============================] - 0s 20ms/step\n",
      "1/1 [==============================] - 0s 20ms/step\n",
      "1/1 [==============================] - 0s 22ms/step\n",
      "1/1 [==============================] - 0s 24ms/step\n",
      "1/1 [==============================] - 0s 21ms/step\n",
      "1/1 [==============================] - 0s 19ms/step\n",
      "1/1 [==============================] - 0s 19ms/step\n",
      "1/1 [==============================] - 0s 18ms/step\n",
      "1/1 [==============================] - 0s 19ms/step\n",
      "1/1 [==============================] - 0s 19ms/step\n",
      "1/1 [==============================] - 0s 20ms/step\n",
      "1/1 [==============================] - 0s 20ms/step\n",
      "1/1 [==============================] - 0s 20ms/step\n",
      "1/1 [==============================] - 0s 19ms/step\n",
      "1/1 [==============================] - 0s 19ms/step\n",
      "1/1 [==============================] - 0s 18ms/step\n",
      "1/1 [==============================] - 0s 19ms/step\n",
      "1/1 [==============================] - 0s 18ms/step\n",
      "1/1 [==============================] - 0s 19ms/step\n",
      "1/1 [==============================] - 0s 19ms/step\n",
      "1/1 [==============================] - 0s 20ms/step\n",
      "1/1 [==============================] - 0s 19ms/step\n",
      "1/1 [==============================] - 0s 19ms/step\n",
      "1/1 [==============================] - 0s 18ms/step\n",
      "1/1 [==============================] - 0s 18ms/step\n",
      "1/1 [==============================] - 0s 18ms/step\n",
      "1/1 [==============================] - 0s 19ms/step\n",
      "1/1 [==============================] - 0s 19ms/step\n",
      "1/1 [==============================] - 0s 19ms/step\n",
      "1/1 [==============================] - 0s 19ms/step\n",
      "1/1 [==============================] - 0s 20ms/step\n",
      "1/1 [==============================] - 0s 21ms/step\n",
      "1/1 [==============================] - 0s 20ms/step\n",
      "1/1 [==============================] - 0s 19ms/step\n",
      "1/1 [==============================] - 0s 19ms/step\n",
      "1/1 [==============================] - 0s 19ms/step\n",
      "1/1 [==============================] - 0s 20ms/step\n",
      "1/1 [==============================] - 0s 19ms/step\n",
      "1/1 [==============================] - 0s 20ms/step\n",
      "1/1 [==============================] - 0s 19ms/step\n",
      "1/1 [==============================] - 0s 19ms/step\n",
      "1/1 [==============================] - 0s 23ms/step\n",
      "1/1 [==============================] - 0s 20ms/step\n",
      "1/1 [==============================] - 0s 20ms/step\n",
      "1/1 [==============================] - 0s 21ms/step\n",
      "1/1 [==============================] - 0s 21ms/step\n",
      "1/1 [==============================] - 0s 22ms/step\n",
      "1/1 [==============================] - 0s 21ms/step\n",
      "1/1 [==============================] - 0s 21ms/step\n",
      "1/1 [==============================] - 0s 20ms/step\n",
      "1/1 [==============================] - 0s 23ms/step\n",
      "1/1 [==============================] - 0s 21ms/step\n",
      "1/1 [==============================] - 0s 20ms/step\n",
      "1/1 [==============================] - 0s 19ms/step\n",
      "1/1 [==============================] - 0s 19ms/step\n",
      "1/1 [==============================] - 0s 19ms/step\n",
      "1/1 [==============================] - 0s 19ms/step\n",
      "1/1 [==============================] - 0s 20ms/step\n",
      "1/1 [==============================] - 0s 19ms/step\n",
      "1/1 [==============================] - 0s 20ms/step\n",
      "1/1 [==============================] - 0s 20ms/step\n",
      "1/1 [==============================] - 0s 20ms/step\n",
      "1/1 [==============================] - 0s 20ms/step\n",
      "1/1 [==============================] - 0s 20ms/step\n",
      "1/1 [==============================] - 0s 19ms/step\n"
     ]
    }
   ],
   "source": [
    "# Create song\n",
    "generated_song = model.generate(\"n72 _ _ _ _ _ n72 _ _ _ _ _ n72 _ n71 _\", max_length=500)    \n",
    "new_song = utils.decode_songs_old(generated_song)"
   ]
  },
  {
   "cell_type": "code",
   "execution_count": 9,
   "metadata": {
    "tags": []
   },
   "outputs": [],
   "source": [
    "path = Path(\"generated_song_bach_lstm.mid\")\n",
    "utils.write_midi(new_song, path)"
   ]
  },
  {
   "cell_type": "code",
   "execution_count": null,
   "metadata": {
    "tags": []
   },
   "outputs": [
    {
     "name": "stdout",
     "output_type": "stream",
     "text": [
      "/lib/x86_64-linux-gnu/libjack.so.0\n",
      "/lib/x86_64-linux-gnu/libnss3.so\n",
      "QEventLoop: Cannot be used without QApplication\n",
      "QEventLoop: Cannot be used without QApplication\n",
      "17:00:49.646 | INFO  | main_thread | GlobalModule | onPreInit: log path: /home/deglasfl/.local/share/MuseScore/MuseScore4/logs/MuseScore_230412_170049.log\n",
      "17:00:49.646 | INFO  | main_thread | GlobalModule | onPreInit: === Started MuseScore 4.0.1, build number 230121751 ===\n",
      "17:00:49.656 | ERROR | main_thread | LanguagesService | setCurrentLanguage: Error loading translator \"/tmp/.mount_musesclvpw4j/share/mscore4portable-4.0//locale/qt_de.qm\" \n",
      "17:00:49.822 | INFO  | main_thread | DiagnosticsModule | onInit: success start crash handler\n",
      "17:00:49.884 | WARN  | main_thread | Qt         | QIODevice::read (QFile, \"/home/deglasfl/.local/share/MuseScore/MuseScore4/shortcuts.xml\"): device not open\n",
      "17:00:49.884 | WARN  | main_thread | Qt         | QIODevice::read (QFile, \"/home/deglasfl/.local/share/MuseScore/MuseScore4/midi_mappings.xml\"): device not open\n",
      "17:00:49.906 | ERROR | main_thread | MuseSamplerLibHandler | MuseSamplerLibHandler: Unable to open MuseSampler library, path: libMuseSamplerCoreLib.so\n",
      "17:00:49.906 | ERROR | main_thread | MuseSamplerResolver | checkLibrary: Incompatible MuseSampler library; ignoring\n",
      "17:00:50.358 | ERROR | main_thread | PluginsConfiguration | updatePluginsConfiguration: [401] Die Datei existiert nicht\n",
      "17:00:50.363 | WARN  | main_thread | CloudService | readTokens: Could not find the tokens file: /home/deglasfl/.local/share/MuseScore/MuseScore4/cred.dat\n",
      "17:00:50.365 | WARN  | main_thread | IpcSocket  | connect: failed connect to server\n",
      "17:00:50.365 | WARN  | main_thread | IpcSocket  | connect: failed connect to server\n",
      "17:00:50.365 | INFO  | main_thread | IpcSocket  | connect: success connected to ipc server\n",
      "17:00:50.365 | INFO  | 140686443652864 | IpcServer  | listen: id: \"2b823e4185734f718c62ab896b8ae34a\" \n",
      "17:00:51.856 | INFO  | main_thread | ActionsDispatcher | dispatch: try call action: file-open\n",
      "17:00:51.858 | WARN  | main_thread | Qt         | virtual void Layouting::ItemBoxContainer::setSize_recursive(QSize, Layouting::ChildrenResizeStrategy) New size doesn't respect size constraints ; new= QSize(0, 770) ; min= QSize(789, 117) Layouting::ItemBoxContainer(0x55fa93cc9d60)\n",
      "17:00:51.858 | WARN  | main_thread | Qt         | virtual void Layouting::ItemBoxContainer::setSize_recursive(QSize, Layouting::ChildrenResizeStrategy) New size doesn't respect size constraints ; new= QSize(0, -30) ; min= QSize(789, 117) Layouting::ItemBoxContainer(0x55fa93cc9d60)\n",
      "17:00:52.274 | WARN  | main_thread | Qt         | virtual void Layouting::ItemBoxContainer::setSize_recursive(QSize, Layouting::ChildrenResizeStrategy) New size doesn't respect size constraints ; new= QSize(1920, -30) ; min= QSize(1036, 117) Layouting::ItemBoxContainer(0x55fa93cc9d60)\n",
      "17:00:52.425 | ERROR | 140686468830976 | SynthResolver | resolveSynth: invalid audio source params for trackId: 0\n",
      "17:00:52.494 | INFO  | 140686468830976 | FluidSynth | addSoundFonts: success load soundfont: /tmp/.mount_musesclvpw4j/share/mscore4portable-4.0/sound/MS Basic.sf3\n",
      "17:00:52.495 | INFO  | 140686468830976 | FluidSynth | addSoundFonts: success load soundfont: /tmp/.mount_musesclvpw4j/share/mscore4portable-4.0/sound/MS Basic.sf3\n",
      "17:00:53.829 | ERROR | 140686468830976 | SynthResolver | resolveSynth: invalid audio source params for trackId: 1\n",
      "17:00:53.831 | INFO  | 140686468830976 | FluidSynth | addSoundFonts: success load soundfont: /tmp/.mount_musesclvpw4j/share/mscore4portable-4.0/sound/MS Basic.sf3\n",
      "17:00:53.831 | INFO  | 140686468830976 | FluidSynth | addSoundFonts: success load soundfont: /tmp/.mount_musesclvpw4j/share/mscore4portable-4.0/sound/MS Basic.sf3\n",
      "17:01:04.156 | INFO  | main_thread | ActionsDispatcher | dispatch: try call action: play\n"
     ]
    }
   ],
   "source": [
    "# Open song in MuseScore (Linux if installed)\n",
    "!musescore4portable {path.absolute()}"
   ]
  },
  {
   "cell_type": "markdown",
   "metadata": {},
   "source": [
    "# Train with new Dataformat from chinese dude"
   ]
  },
  {
   "cell_type": "code",
   "execution_count": 5,
   "metadata": {},
   "outputs": [
    {
     "name": "stdout",
     "output_type": "stream",
     "text": [
      "Found 10 songs in corpus.\n"
     ]
    },
    {
     "name": "stderr",
     "output_type": "stream",
     "text": [
      "/home/deglasfl/repos/mukkeBude/mukkeBude/utils.py:298: StreamIteratorInefficientWarning: highestTime is not defined on StreamIterators. Call .stream() first for efficiency\n",
      "  song.flat.getElementsByClass(\"Note\").highestTime,\n",
      "/home/deglasfl/repos/mukkeBude/mukkeBude/utils.py:299: StreamIteratorInefficientWarning: highestTime is not defined on StreamIterators. Call .stream() first for efficiency\n",
      "  song.flat.getElementsByClass(\"Chord\").highestTime,\n"
     ]
    }
   ],
   "source": [
    "# Load songs\n",
    "paths = m21.corpus.getComposer('bach')\n",
    "paths = paths[:100]\n",
    "print(f\"Found {len(paths)} songs in corpus.\")\n",
    "\n",
    "encoded_songs = []\n",
    "for path in paths:\n",
    "    song = utils.read_single_from_corpus(path)\n",
    "    encoded_song = utils.to_polyphonic_encoding(song, mapping)\n",
    "    encoded_songs.extend(encoded_song)"
   ]
  },
  {
   "cell_type": "code",
   "execution_count": 6,
   "metadata": {},
   "outputs": [
    {
     "name": "stdout",
     "output_type": "stream",
     "text": [
      "Model: \"model\"\n",
      "_________________________________________________________________\n",
      " Layer (type)                Output Shape              Param #   \n",
      "=================================================================\n",
      " input_1 (InputLayer)        [(None, None, 298)]       0         \n",
      "                                                                 \n",
      " lstm (LSTM)                 (None, 256)               568320    \n",
      "                                                                 \n",
      " dropout (Dropout)           (None, 256)               0         \n",
      "                                                                 \n",
      " dense (Dense)               (None, 298)               76586     \n",
      "                                                                 \n",
      "=================================================================\n",
      "Total params: 644,906\n",
      "Trainable params: 644,906\n",
      "Non-trainable params: 0\n",
      "_________________________________________________________________\n",
      "Epoch 1/5\n",
      "113/113 [==============================] - 4s 15ms/step - loss: 3.1018 - accuracy: 0.2236\n",
      "Epoch 2/5\n",
      "113/113 [==============================] - 2s 15ms/step - loss: 2.5625 - accuracy: 0.3078\n",
      "Epoch 3/5\n",
      "113/113 [==============================] - 2s 15ms/step - loss: 2.1518 - accuracy: 0.3799\n",
      "Epoch 4/5\n",
      "113/113 [==============================] - 2s 15ms/step - loss: 2.1175 - accuracy: 0.4070\n",
      "Epoch 5/5\n",
      "113/113 [==============================] - 2s 15ms/step - loss: 2.0600 - accuracy: 0.4367\n"
     ]
    }
   ],
   "source": [
    "# Train model\n",
    "model = MukkeBudeLSTM(mapping)\n",
    "print(model)\n",
    "\n",
    "logdir = \"logs/bach_lstm_polyphonie\"\n",
    "tensorboard_callback = keras.callbacks.TensorBoard(log_dir=logdir)\n",
    "\n",
    "model.train(encoded_songs, epochs=5, tensorboard_callback=tensorboard_callback)"
   ]
  },
  {
   "cell_type": "code",
   "execution_count": null,
   "metadata": {},
   "outputs": [],
   "source": [
    "# Save model\n",
    "model.save(\"lstm_bach_polyphonie\")"
   ]
  },
  {
   "cell_type": "code",
   "execution_count": 7,
   "metadata": {},
   "outputs": [
    {
     "data": {
      "text/html": [
       "\n",
       "      <iframe id=\"tensorboard-frame-a1d781ce7371a9d4\" width=\"100%\" height=\"800\" frameborder=\"0\">\n",
       "      </iframe>\n",
       "      <script>\n",
       "        (function() {\n",
       "          const frame = document.getElementById(\"tensorboard-frame-a1d781ce7371a9d4\");\n",
       "          const url = new URL(\"/\", window.location);\n",
       "          const port = 6006;\n",
       "          if (port) {\n",
       "            url.port = port;\n",
       "          }\n",
       "          frame.src = url;\n",
       "        })();\n",
       "      </script>\n",
       "    "
      ],
      "text/plain": [
       "<IPython.core.display.HTML object>"
      ]
     },
     "metadata": {},
     "output_type": "display_data"
    }
   ],
   "source": [
    "# Show the logs\n",
    "%tensorboard --logdir logs/bach_lstm_polyphonie"
   ]
  },
  {
   "cell_type": "code",
   "execution_count": null,
   "metadata": {},
   "outputs": [],
   "source": [
    "# Create song\n",
    "generated_song = model.generate(\"xxbos n67 d4 n62 d4 n58 d4 n43 d4 xxsep d4 n67 d4 n62 d4 n58 d4 n55 d4 xxsep d4 n69 d4 n62 d4 n57 d4 n54 d4 xxsep\")    \n",
    "\n",
    "new_song_ints = mapping.numericalize(generated_song)\n",
    "new_song = utils.from_polyphonic_encoding(np.array(new_song_ints), mapping, bpm=100)\n",
    "\n",
    "path = Path(\"generated_song_bach_lstm.mid\")\n",
    "utils.write_midi(new_song, path)\n"
   ]
  }
 ],
 "metadata": {
  "kernelspec": {
   "display_name": "Python 3 (ipykernel)",
   "language": "python",
   "name": "python3"
  },
  "language_info": {
   "codemirror_mode": {
    "name": "ipython",
    "version": 3
   },
   "file_extension": ".py",
   "mimetype": "text/x-python",
   "name": "python",
   "nbconvert_exporter": "python",
   "pygments_lexer": "ipython3",
   "version": "3.9.16"
  },
  "vscode": {
   "interpreter": {
    "hash": "9052d763eeeacaf5da08a840d251d734fa4deea148f97d28b11062c8c516292f"
   }
  }
 },
 "nbformat": 4,
 "nbformat_minor": 4
}
